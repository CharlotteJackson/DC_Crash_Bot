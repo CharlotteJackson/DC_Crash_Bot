{
 "cells": [
  {
   "cell_type": "code",
   "execution_count": null,
   "metadata": {},
   "outputs": [],
   "source": [
    "import geopandas as gpd\n",
    "import pandas as pd\n",
    "from shapely.geometry import Point, LineString, Polygon"
   ]
  },
  {
   "cell_type": "code",
   "execution_count": null,
   "metadata": {},
   "outputs": [],
   "source": [
    "# import crash data\n",
    "crashes_raw = gpd.read_file('https://opendata.arcgis.com/datasets/70392a096a8e431381f1f692aaa06afd_24.geojson')"
   ]
  },
  {
   "cell_type": "code",
   "execution_count": null,
   "metadata": {},
   "outputs": [],
   "source": [
    "# import anc data\n",
    "ancs = gpd.read_file('https://opendata.arcgis.com/datasets/fcfbf29074e549d8aff9b9c708179291_1.geojson')"
   ]
  },
  {
   "cell_type": "code",
   "execution_count": null,
   "metadata": {},
   "outputs": [],
   "source": [
    "# import all address points\n",
    "address_points = gpd.read_file('https://opendata.arcgis.com/datasets/aa514416aaf74fdc94748f1e56e7cc8a_0.geojson')"
   ]
  },
  {
   "cell_type": "code",
   "execution_count": null,
   "metadata": {},
   "outputs": [],
   "source": [
    "# import all 311 service requests in 2020\n",
    "all311_2020 = gpd.read_file('https://opendata.arcgis.com/datasets/82b33f4833284e07997da71d1ca7b1ba_11.geojson')"
   ]
  },
  {
   "cell_type": "code",
   "execution_count": null,
   "metadata": {},
   "outputs": [],
   "source": [
    "len(all311_2020)"
   ]
  },
  {
   "cell_type": "code",
   "execution_count": null,
   "metadata": {},
   "outputs": [],
   "source": [
    "# limit to just traffic safety assessments \n",
    "tsa_2020 = all311_2020[all311_2020['SERVICECODEDESCRIPTION'] == 'Traffic Safety Investigation']"
   ]
  },
  {
   "cell_type": "code",
   "execution_count": null,
   "metadata": {},
   "outputs": [],
   "source": [
    "len(tsa_2020)"
   ]
  },
  {
   "cell_type": "code",
   "execution_count": null,
   "metadata": {},
   "outputs": [],
   "source": [
    "# import vision zero safety requests\n",
    "vision_zero = gpd.read_file('https://opendata.arcgis.com/datasets/3f28bc3ad77f49079efee0ac05d8464c_0.geojson')"
   ]
  },
  {
   "cell_type": "code",
   "execution_count": null,
   "metadata": {},
   "outputs": [],
   "source": [
    "# join crashes to data natively at ANC level and add year\n",
    "anc_crashes = gpd.sjoin(crashes_raw, ancs, how=\"inner\", op='within')\n",
    "anc_crashes['YEAR'] = anc_crashes.apply(lambda x: x.REPORTDATE[:4], axis=1)\n",
    "#Number of crashes thus far in 2020 by ANC\n",
    "pd.DataFrame(anc_crashes.groupby(['YEAR', 'NAME']).size()).loc['2020']"
   ]
  },
  {
   "cell_type": "code",
   "execution_count": 135,
   "metadata": {},
   "outputs": [],
   "source": [
    "# try to roll up address points to desired level\n",
    "# roll up address points to census block \n",
    "census_blocks = address_points.dissolve(by='CENSUS_BLOCK', aggfunc='first')"
   ]
  },
  {
   "cell_type": "code",
   "execution_count": 150,
   "metadata": {},
   "outputs": [
    {
     "data": {
      "text/html": [
       "<div>\n",
       "<style scoped>\n",
       "    .dataframe tbody tr th:only-of-type {\n",
       "        vertical-align: middle;\n",
       "    }\n",
       "\n",
       "    .dataframe tbody tr th {\n",
       "        vertical-align: top;\n",
       "    }\n",
       "\n",
       "    .dataframe thead th {\n",
       "        text-align: right;\n",
       "    }\n",
       "</style>\n",
       "<table border=\"1\" class=\"dataframe\">\n",
       "  <thead>\n",
       "    <tr style=\"text-align: right;\">\n",
       "      <th></th>\n",
       "      <th>geometry</th>\n",
       "      <th>OBJECTID_12</th>\n",
       "      <th>OBJECTID</th>\n",
       "      <th>SITE_ADDRESS_PK</th>\n",
       "      <th>ADDRESS_ID</th>\n",
       "      <th>ROADWAYSEGID</th>\n",
       "      <th>STATUS</th>\n",
       "      <th>SSL</th>\n",
       "      <th>TYPE_</th>\n",
       "      <th>ENTRANCETYPE</th>\n",
       "      <th>...</th>\n",
       "      <th>LONGITUDE</th>\n",
       "      <th>ACTIVE_RES_UNIT_COUNT</th>\n",
       "      <th>RES_TYPE</th>\n",
       "      <th>ACTIVE_RES_OCCUPANCY_COUNT</th>\n",
       "      <th>WARD_2002</th>\n",
       "      <th>WARD_2012</th>\n",
       "      <th>ANC_2002</th>\n",
       "      <th>ANC_2012</th>\n",
       "      <th>SMD_2002</th>\n",
       "      <th>SMD_2012</th>\n",
       "    </tr>\n",
       "    <tr>\n",
       "      <th>CENSUS_BLOCK</th>\n",
       "      <th></th>\n",
       "      <th></th>\n",
       "      <th></th>\n",
       "      <th></th>\n",
       "      <th></th>\n",
       "      <th></th>\n",
       "      <th></th>\n",
       "      <th></th>\n",
       "      <th></th>\n",
       "      <th></th>\n",
       "      <th></th>\n",
       "      <th></th>\n",
       "      <th></th>\n",
       "      <th></th>\n",
       "      <th></th>\n",
       "      <th></th>\n",
       "      <th></th>\n",
       "      <th></th>\n",
       "      <th></th>\n",
       "      <th></th>\n",
       "      <th></th>\n",
       "    </tr>\n",
       "  </thead>\n",
       "  <tbody>\n",
       "    <tr>\n",
       "      <th>000100 1000</th>\n",
       "      <td>MULTIPOINT (-77.06808 38.91670, -77.06782 38.9...</td>\n",
       "      <td>840673</td>\n",
       "      <td>12693.0</td>\n",
       "      <td>261707</td>\n",
       "      <td>261707</td>\n",
       "      <td>10757.0</td>\n",
       "      <td>ACTIVE</td>\n",
       "      <td>2156    0801</td>\n",
       "      <td>ADDRESS</td>\n",
       "      <td>OFFICIAL</td>\n",
       "      <td>...</td>\n",
       "      <td>-77.059434</td>\n",
       "      <td>0.0</td>\n",
       "      <td>NON RESIDENTIAL</td>\n",
       "      <td>0.0</td>\n",
       "      <td>Ward 2</td>\n",
       "      <td>Ward 2</td>\n",
       "      <td>ANC 2E</td>\n",
       "      <td>ANC 2E</td>\n",
       "      <td>SMD 2E07</td>\n",
       "      <td>SMD 2E07</td>\n",
       "    </tr>\n",
       "    <tr>\n",
       "      <th>000100 1001</th>\n",
       "      <td>MULTIPOINT (-77.06697 38.91462, -77.06693 38.9...</td>\n",
       "      <td>840671</td>\n",
       "      <td>12691.0</td>\n",
       "      <td>261694</td>\n",
       "      <td>261694</td>\n",
       "      <td>19124.0</td>\n",
       "      <td>ACTIVE</td>\n",
       "      <td>2154    0050</td>\n",
       "      <td>ADDRESS</td>\n",
       "      <td>OFFICIAL</td>\n",
       "      <td>...</td>\n",
       "      <td>-77.065732</td>\n",
       "      <td>0.0</td>\n",
       "      <td>RESIDENTIAL</td>\n",
       "      <td>1.0</td>\n",
       "      <td>Ward 2</td>\n",
       "      <td>Ward 2</td>\n",
       "      <td>ANC 2E</td>\n",
       "      <td>ANC 2E</td>\n",
       "      <td>SMD 2E07</td>\n",
       "      <td>SMD 2E02</td>\n",
       "    </tr>\n",
       "    <tr>\n",
       "      <th>000100 1002</th>\n",
       "      <td>MULTIPOINT (-77.06277 38.91294, -77.06276 38.9...</td>\n",
       "      <td>844498</td>\n",
       "      <td>14693.0</td>\n",
       "      <td>273049</td>\n",
       "      <td>273049</td>\n",
       "      <td>34517.0</td>\n",
       "      <td>ACTIVE</td>\n",
       "      <td>1282    0144</td>\n",
       "      <td>ADDRESS</td>\n",
       "      <td>OFFICIAL</td>\n",
       "      <td>...</td>\n",
       "      <td>-77.061125</td>\n",
       "      <td>4.0</td>\n",
       "      <td>RESIDENTIAL</td>\n",
       "      <td>4.0</td>\n",
       "      <td>Ward 2</td>\n",
       "      <td>Ward 2</td>\n",
       "      <td>ANC 2E</td>\n",
       "      <td>ANC 2E</td>\n",
       "      <td>SMD 2E07</td>\n",
       "      <td>SMD 2E07</td>\n",
       "    </tr>\n",
       "    <tr>\n",
       "      <th>000100 1003</th>\n",
       "      <td>MULTIPOINT (-77.06081 38.91208, -77.06081 38.9...</td>\n",
       "      <td>844492</td>\n",
       "      <td>14673.0</td>\n",
       "      <td>273012</td>\n",
       "      <td>273012</td>\n",
       "      <td>17073.0</td>\n",
       "      <td>ACTIVE</td>\n",
       "      <td>1282    0238</td>\n",
       "      <td>ADDRESS</td>\n",
       "      <td>OFFICIAL</td>\n",
       "      <td>...</td>\n",
       "      <td>-77.060193</td>\n",
       "      <td>0.0</td>\n",
       "      <td>RESIDENTIAL</td>\n",
       "      <td>1.0</td>\n",
       "      <td>Ward 2</td>\n",
       "      <td>Ward 2</td>\n",
       "      <td>ANC 2E</td>\n",
       "      <td>ANC 2E</td>\n",
       "      <td>SMD 2E07</td>\n",
       "      <td>SMD 2E07</td>\n",
       "    </tr>\n",
       "    <tr>\n",
       "      <th>000100 1004</th>\n",
       "      <td>MULTIPOINT (-77.06407 38.91320, -77.06403 38.9...</td>\n",
       "      <td>844489</td>\n",
       "      <td>14657.0</td>\n",
       "      <td>272971</td>\n",
       "      <td>272971</td>\n",
       "      <td>8955.0</td>\n",
       "      <td>ACTIVE</td>\n",
       "      <td>1281    0020</td>\n",
       "      <td>ADDRESS</td>\n",
       "      <td>OFFICIAL</td>\n",
       "      <td>...</td>\n",
       "      <td>-77.063924</td>\n",
       "      <td>0.0</td>\n",
       "      <td>RESIDENTIAL</td>\n",
       "      <td>1.0</td>\n",
       "      <td>Ward 2</td>\n",
       "      <td>Ward 2</td>\n",
       "      <td>ANC 2E</td>\n",
       "      <td>ANC 2E</td>\n",
       "      <td>SMD 2E07</td>\n",
       "      <td>SMD 2E07</td>\n",
       "    </tr>\n",
       "  </tbody>\n",
       "</table>\n",
       "<p>5 rows × 58 columns</p>\n",
       "</div>"
      ],
      "text/plain": [
       "                                                       geometry  OBJECTID_12  \\\n",
       "CENSUS_BLOCK                                                                   \n",
       "000100 1000   MULTIPOINT (-77.06808 38.91670, -77.06782 38.9...       840673   \n",
       "000100 1001   MULTIPOINT (-77.06697 38.91462, -77.06693 38.9...       840671   \n",
       "000100 1002   MULTIPOINT (-77.06277 38.91294, -77.06276 38.9...       844498   \n",
       "000100 1003   MULTIPOINT (-77.06081 38.91208, -77.06081 38.9...       844492   \n",
       "000100 1004   MULTIPOINT (-77.06407 38.91320, -77.06403 38.9...       844489   \n",
       "\n",
       "              OBJECTID  SITE_ADDRESS_PK  ADDRESS_ID  ROADWAYSEGID  STATUS  \\\n",
       "CENSUS_BLOCK                                                                \n",
       "000100 1000    12693.0           261707      261707       10757.0  ACTIVE   \n",
       "000100 1001    12691.0           261694      261694       19124.0  ACTIVE   \n",
       "000100 1002    14693.0           273049      273049       34517.0  ACTIVE   \n",
       "000100 1003    14673.0           273012      273012       17073.0  ACTIVE   \n",
       "000100 1004    14657.0           272971      272971        8955.0  ACTIVE   \n",
       "\n",
       "                       SSL    TYPE_ ENTRANCETYPE  ...  LONGITUDE  \\\n",
       "CENSUS_BLOCK                                      ...              \n",
       "000100 1000   2156    0801  ADDRESS     OFFICIAL  ... -77.059434   \n",
       "000100 1001   2154    0050  ADDRESS     OFFICIAL  ... -77.065732   \n",
       "000100 1002   1282    0144  ADDRESS     OFFICIAL  ... -77.061125   \n",
       "000100 1003   1282    0238  ADDRESS     OFFICIAL  ... -77.060193   \n",
       "000100 1004   1281    0020  ADDRESS     OFFICIAL  ... -77.063924   \n",
       "\n",
       "             ACTIVE_RES_UNIT_COUNT         RES_TYPE  \\\n",
       "CENSUS_BLOCK                                          \n",
       "000100 1000                    0.0  NON RESIDENTIAL   \n",
       "000100 1001                    0.0      RESIDENTIAL   \n",
       "000100 1002                    4.0      RESIDENTIAL   \n",
       "000100 1003                    0.0      RESIDENTIAL   \n",
       "000100 1004                    0.0      RESIDENTIAL   \n",
       "\n",
       "             ACTIVE_RES_OCCUPANCY_COUNT WARD_2002 WARD_2012 ANC_2002 ANC_2012  \\\n",
       "CENSUS_BLOCK                                                                    \n",
       "000100 1000                         0.0    Ward 2    Ward 2   ANC 2E   ANC 2E   \n",
       "000100 1001                         1.0    Ward 2    Ward 2   ANC 2E   ANC 2E   \n",
       "000100 1002                         4.0    Ward 2    Ward 2   ANC 2E   ANC 2E   \n",
       "000100 1003                         1.0    Ward 2    Ward 2   ANC 2E   ANC 2E   \n",
       "000100 1004                         1.0    Ward 2    Ward 2   ANC 2E   ANC 2E   \n",
       "\n",
       "              SMD_2002  SMD_2012  \n",
       "CENSUS_BLOCK                      \n",
       "000100 1000   SMD 2E07  SMD 2E07  \n",
       "000100 1001   SMD 2E07  SMD 2E02  \n",
       "000100 1002   SMD 2E07  SMD 2E07  \n",
       "000100 1003   SMD 2E07  SMD 2E07  \n",
       "000100 1004   SMD 2E07  SMD 2E07  \n",
       "\n",
       "[5 rows x 58 columns]"
      ]
     },
     "execution_count": 150,
     "metadata": {},
     "output_type": "execute_result"
    }
   ],
   "source": [
    "census_blocks.head()"
   ]
  },
  {
   "cell_type": "code",
   "execution_count": null,
   "metadata": {},
   "outputs": [],
   "source": [
    "# check geo type\n",
    "census_blocks['geometry'].geom_type"
   ]
  },
  {
   "cell_type": "code",
   "execution_count": 136,
   "metadata": {},
   "outputs": [
    {
     "data": {
      "text/plain": [
       "5339"
      ]
     },
     "execution_count": 136,
     "metadata": {},
     "output_type": "execute_result"
    }
   ],
   "source": [
    "len(census_blocks)"
   ]
  },
  {
   "cell_type": "code",
   "execution_count": 137,
   "metadata": {},
   "outputs": [],
   "source": [
    "# remove points so census blocks can be rolled up to polygons\n",
    "census_blocks=census_blocks[census_blocks['geometry'].geom_type != 'Point']"
   ]
  },
  {
   "cell_type": "code",
   "execution_count": 138,
   "metadata": {},
   "outputs": [
    {
     "data": {
      "text/plain": [
       "4961"
      ]
     },
     "execution_count": 138,
     "metadata": {},
     "output_type": "execute_result"
    }
   ],
   "source": [
    "# check how many fell out\n",
    "len(census_blocks)"
   ]
  },
  {
   "cell_type": "code",
   "execution_count": 139,
   "metadata": {},
   "outputs": [],
   "source": [
    "# limit the census blocks dataset to census blocks that can become polygons\n",
    "census_blocks = census_blocks[census_blocks['geometry'].apply(lambda x: len(list(x)) > 2)]"
   ]
  },
  {
   "cell_type": "code",
   "execution_count": 140,
   "metadata": {},
   "outputs": [
    {
     "data": {
      "text/plain": [
       "4715"
      ]
     },
     "execution_count": 140,
     "metadata": {},
     "output_type": "execute_result"
    }
   ],
   "source": [
    "len(census_blocks)"
   ]
  },
  {
   "cell_type": "code",
   "execution_count": 141,
   "metadata": {},
   "outputs": [],
   "source": [
    "census_block_polygons=census_blocks.copy()"
   ]
  },
  {
   "cell_type": "code",
   "execution_count": 142,
   "metadata": {},
   "outputs": [],
   "source": [
    "# convert to polygons\n",
    "census_block_polygons['geometry'] = census_block_polygons.apply(lambda x: Polygon(x.geometry), axis=1)"
   ]
  },
  {
   "cell_type": "code",
   "execution_count": 143,
   "metadata": {},
   "outputs": [
    {
     "data": {
      "text/plain": [
       "4715"
      ]
     },
     "execution_count": 143,
     "metadata": {},
     "output_type": "execute_result"
    }
   ],
   "source": [
    "len(census_block_polygons)"
   ]
  },
  {
   "cell_type": "code",
   "execution_count": 144,
   "metadata": {},
   "outputs": [
    {
     "data": {
      "text/plain": [
       "237494"
      ]
     },
     "execution_count": 144,
     "metadata": {},
     "output_type": "execute_result"
    }
   ],
   "source": [
    "len(crashes_raw)"
   ]
  },
  {
   "cell_type": "code",
   "execution_count": 145,
   "metadata": {},
   "outputs": [],
   "source": [
    "# roll up crashes by census block\n",
    "crashes = gpd.sjoin(crashes_raw, census_block_polygons, how=\"left\", op='within')"
   ]
  },
  {
   "cell_type": "code",
   "execution_count": 146,
   "metadata": {},
   "outputs": [
    {
     "data": {
      "text/plain": [
       "237507"
      ]
     },
     "execution_count": 146,
     "metadata": {},
     "output_type": "execute_result"
    }
   ],
   "source": [
    "len(crashes)"
   ]
  },
  {
   "cell_type": "code",
   "execution_count": 147,
   "metadata": {},
   "outputs": [],
   "source": [
    "crashes['YEAR'] = crashes.apply(lambda x: x.REPORTDATE[:4], axis=1)"
   ]
  },
  {
   "cell_type": "code",
   "execution_count": null,
   "metadata": {},
   "outputs": [],
   "source": [
    "#do a sanity check on number of crashes by year and ward\n",
    "ward_year_rollup=pd.DataFrame(crashes.fillna(-1).groupby(['YEAR', 'WARD_right', 'WARD_left']).size())"
   ]
  },
  {
   "cell_type": "code",
   "execution_count": null,
   "metadata": {},
   "outputs": [],
   "source": [
    "ward_year_rollup.to_excel('crashes_by_year_and_ward.xlsx')"
   ]
  },
  {
   "cell_type": "code",
   "execution_count": 148,
   "metadata": {},
   "outputs": [],
   "source": [
    "# how many crashes in 2020 didn't join to a census block\n",
    "crashes_null=crashes[(crashes['WARD_right'].isnull()) & (crashes['YEAR'] == '2020')]"
   ]
  },
  {
   "cell_type": "code",
   "execution_count": 149,
   "metadata": {},
   "outputs": [
    {
     "data": {
      "text/plain": [
       "13373"
      ]
     },
     "execution_count": 149,
     "metadata": {},
     "output_type": "execute_result"
    }
   ],
   "source": [
    "len(crashes_null)"
   ]
  },
  {
   "cell_type": "code",
   "execution_count": null,
   "metadata": {},
   "outputs": [],
   "source": [
    "# check distance between address points objectid 846387/MARID 15323 and all of the crashes listed at that MARID\n",
    "crash_sample = crashes_raw.loc[crashes_raw['MARID'] == 15232]"
   ]
  },
  {
   "cell_type": "code",
   "execution_count": null,
   "metadata": {},
   "outputs": [],
   "source": [
    "addr_sample = address_points.loc[address_points['ADDRESS_ID'] == 15232]"
   ]
  },
  {
   "cell_type": "code",
   "execution_count": null,
   "metadata": {},
   "outputs": [],
   "source": [
    "for point in crash_sample['geometry']:\n",
    "    print(point.distance(addr_sample['geometry'].iloc[0]))"
   ]
  },
  {
   "cell_type": "code",
   "execution_count": null,
   "metadata": {},
   "outputs": [],
   "source": [
    "address_points_buf = address_points.copy()\n",
    "address_points_buf['geometry'] = address_points_buf.apply(lambda x: x.geometry.buffer(0.0003), axis=1)"
   ]
  },
  {
   "cell_type": "code",
   "execution_count": null,
   "metadata": {},
   "outputs": [],
   "source": []
  },
  {
   "cell_type": "code",
   "execution_count": null,
   "metadata": {},
   "outputs": [],
   "source": []
  },
  {
   "cell_type": "code",
   "execution_count": null,
   "metadata": {},
   "outputs": [],
   "source": []
  }
 ],
 "metadata": {
  "kernelspec": {
   "display_name": "crashbot venv",
   "language": "python",
   "name": "venv"
  },
  "language_info": {
   "codemirror_mode": {
    "name": "ipython",
    "version": 3
   },
   "file_extension": ".py",
   "mimetype": "text/x-python",
   "name": "python",
   "nbconvert_exporter": "python",
   "pygments_lexer": "ipython3",
   "version": "3.7.6"
  }
 },
 "nbformat": 4,
 "nbformat_minor": 4
}
