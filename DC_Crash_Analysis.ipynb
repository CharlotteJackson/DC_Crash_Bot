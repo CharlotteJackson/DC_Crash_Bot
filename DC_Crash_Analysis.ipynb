{
 "cells": [
  {
   "cell_type": "code",
   "execution_count": 126,
   "metadata": {},
   "outputs": [],
   "source": [
    "import geopandas as gpd\n",
    "import pandas as pd\n",
    "from shapely.geometry import Point, LineString, Polygon\n",
    "import matplotlib"
   ]
  },
  {
   "cell_type": "code",
   "execution_count": null,
   "metadata": {},
   "outputs": [],
   "source": [
    "# ###########################\n",
    "# import data\n",
    "# ###########################"
   ]
  },
  {
   "cell_type": "code",
   "execution_count": null,
   "metadata": {},
   "outputs": [],
   "source": [
    "# import crash data\n",
    "crashes_raw = gpd.read_file('https://opendata.arcgis.com/datasets/70392a096a8e431381f1f692aaa06afd_24.geojson')"
   ]
  },
  {
   "cell_type": "code",
   "execution_count": null,
   "metadata": {},
   "outputs": [],
   "source": [
    "# import anc data\n",
    "ancs = gpd.read_file('https://opendata.arcgis.com/datasets/fcfbf29074e549d8aff9b9c708179291_1.geojson')"
   ]
  },
  {
   "cell_type": "code",
   "execution_count": null,
   "metadata": {},
   "outputs": [],
   "source": [
    "# import all address points\n",
    "address_points = gpd.read_file('https://opendata.arcgis.com/datasets/aa514416aaf74fdc94748f1e56e7cc8a_0.geojson')"
   ]
  },
  {
   "cell_type": "code",
   "execution_count": null,
   "metadata": {},
   "outputs": [],
   "source": [
    "# import census blocks\n",
    "census_blocks = gpd.read_file('https://opendata.arcgis.com/datasets/a6f76663621548e1a039798784b64f10_0.geojson')"
   ]
  },
  {
   "cell_type": "code",
   "execution_count": null,
   "metadata": {},
   "outputs": [],
   "source": [
    "# import vision zero safety requests\n",
    "vision_zero = gpd.read_file('https://opendata.arcgis.com/datasets/3f28bc3ad77f49079efee0ac05d8464c_0.geojson')"
   ]
  },
  {
   "cell_type": "code",
   "execution_count": null,
   "metadata": {},
   "outputs": [],
   "source": [
    "# 311 data\n",
    "# import all 311 service requests in 2020\n",
    "all311_2020 = gpd.read_file('https://opendata.arcgis.com/datasets/82b33f4833284e07997da71d1ca7b1ba_11.geojson')\n",
    "# 2019\n",
    "all311_2019 = gpd.read_file('https://opendata.arcgis.com/datasets/98b7406def094fa59838f14beb1b8c81_10.geojson')\n",
    "# 2018\n",
    "all311_2018 = gpd.read_file('https://opendata.arcgis.com/datasets/2a46f1f1aad04940b83e75e744eb3b09_9.geojson')\n",
    "# 2017\n",
    "all311_2017 = gpd.read_file('https://opendata.arcgis.com/datasets/19905e2b0e1140ec9ce8437776feb595_8.geojson')\n",
    "# 2016\n",
    "all311_2016 = gpd.read_file('https://opendata.arcgis.com/datasets/0e4b7d3a83b94a178b3d1f015db901ee_7.geojson')\n",
    "# 2015\n",
    "all311_2015 = gpd.read_file('https://opendata.arcgis.com/datasets/b93ec7fc97734265a2da7da341f1bba2_6.geojson')"
   ]
  },
  {
   "cell_type": "code",
   "execution_count": null,
   "metadata": {},
   "outputs": [],
   "source": [
    "# limit all the 311 requests to just traffic safety assessments, and merge them\n",
    "tsa = all311_2020[all311_2020['SERVICECODEDESCRIPTION'] == 'Traffic Safety Investigation']\n",
    "print('2020: ', len(tsa))\n",
    "tsa = tsa.append(all311_2019[all311_2019['SERVICECODEDESCRIPTION'] == 'Traffic Safety Investigation'], ignore_index=True)\n",
    "print('2020 + 2019: ', len(tsa))\n",
    "tsa = tsa.append(all311_2018[all311_2018['SERVICECODEDESCRIPTION'] == 'Traffic Safety Investigation'], ignore_index=True)\n",
    "print('2020 + 2019 + 2018: ', len(tsa))\n",
    "tsa = tsa.append(all311_2017[all311_2017['SERVICECODEDESCRIPTION'] == 'Traffic Safety Investigation'], ignore_index=True)\n",
    "print('2020 + 2019 + 2018 + 2017: ', len(tsa))\n",
    "tsa = tsa.append(all311_2016[all311_2016['SERVICECODEDESCRIPTION'] == 'Traffic Safety Investigation'], ignore_index=True)\n",
    "print('2020 + 2019 + 2018 + 2017 + 2016: ', len(tsa))\n",
    "tsa = tsa.append(all311_2015[all311_2015['SERVICECODEDESCRIPTION'] == 'Traffic Safety Investigation'], ignore_index=True)\n",
    "print('2020 + 2019 + 2018 + 2017 + 2016 + 2015: ', len(tsa))"
   ]
  },
  {
   "cell_type": "code",
   "execution_count": null,
   "metadata": {},
   "outputs": [],
   "source": [
    "#######################################\n",
    "# merge census block into all datasets\n",
    "#######################################"
   ]
  },
  {
   "cell_type": "code",
   "execution_count": null,
   "metadata": {},
   "outputs": [],
   "source": [
    "# CRASHES\n",
    "# join crashes to data natively at census block level and add year\n",
    "# do both right and left joins\n",
    "# first add year\n",
    "crashes_raw['YEAR'] = crashes_raw.apply(lambda x: x.REPORTDATE[:4], axis=1)\n",
    "census_blocks_crashes = gpd.sjoin(crashes_raw, census_blocks, how=\"left\", op='intersects')\n",
    "# census_blocks_crashes_right = gpd.sjoin(crashes_raw, census_blocks, how=\"right\", op='intersects')"
   ]
  },
  {
   "cell_type": "code",
   "execution_count": null,
   "metadata": {},
   "outputs": [],
   "source": [
    "for column in census_blocks_crashes.columns:\n",
    "    print(column)"
   ]
  },
  {
   "cell_type": "code",
   "execution_count": null,
   "metadata": {},
   "outputs": [],
   "source": [
    "# how many crashes didn't join to a census block\n",
    "# crashes_null=census_blocks_crashes[(census_blocks_crashes['OBJECTID_right'].isnull()) & (census_blocks_crashes['YEAR'] == '2020')]\n",
    "crashes_null=census_blocks_crashes[(census_blocks_crashes['OBJECTID_right'].isnull())]"
   ]
  },
  {
   "cell_type": "code",
   "execution_count": null,
   "metadata": {},
   "outputs": [],
   "source": [
    "len(census_blocks_crashes)"
   ]
  },
  {
   "cell_type": "code",
   "execution_count": null,
   "metadata": {},
   "outputs": [],
   "source": [
    "len(crashes_null)"
   ]
  },
  {
   "cell_type": "code",
   "execution_count": null,
   "metadata": {},
   "outputs": [],
   "source": [
    "# export null crashes to a csv file so i can check it out in a db\n",
    "crashes_null.to_csv('data/no_census_blocks/crashes_not_joining_to_census_block.csv')"
   ]
  },
  {
   "cell_type": "code",
   "execution_count": null,
   "metadata": {},
   "outputs": [],
   "source": [
    "# TRAFFIC SAFETY ASSESSMENT REQUESTS\n",
    "for column in tsa.columns:\n",
    "    print(column)"
   ]
  },
  {
   "cell_type": "code",
   "execution_count": null,
   "metadata": {},
   "outputs": [],
   "source": [
    "# add year\n",
    "tsa['YEAR'] = tsa.apply(lambda x: x.ADDDATE[:4], axis=1)"
   ]
  },
  {
   "cell_type": "code",
   "execution_count": null,
   "metadata": {},
   "outputs": [],
   "source": [
    "tsa.head()"
   ]
  },
  {
   "cell_type": "code",
   "execution_count": null,
   "metadata": {},
   "outputs": [],
   "source": [
    "census_blocks_tsas = gpd.sjoin(tsa, census_blocks, how=\"left\", op='intersects')"
   ]
  },
  {
   "cell_type": "code",
   "execution_count": null,
   "metadata": {},
   "outputs": [],
   "source": [
    "# how many TSAs didn't join to a census block\n",
    "census_blocks_tsas_null=census_blocks_tsas[(census_blocks_tsas['OBJECTID_right'].isnull())]"
   ]
  },
  {
   "cell_type": "code",
   "execution_count": null,
   "metadata": {},
   "outputs": [],
   "source": [
    "len(census_blocks_tsas)"
   ]
  },
  {
   "cell_type": "code",
   "execution_count": null,
   "metadata": {},
   "outputs": [],
   "source": [
    "len(census_blocks_tsas_null)"
   ]
  },
  {
   "cell_type": "code",
   "execution_count": null,
   "metadata": {},
   "outputs": [],
   "source": [
    "# export null TSAs to a csv file so i can check it out in a db\n",
    "census_blocks_tsas_null.to_csv('data/no_census_blocks/TSAs_not_joining_to_census_block.csv')"
   ]
  },
  {
   "cell_type": "code",
   "execution_count": null,
   "metadata": {},
   "outputs": [],
   "source": [
    "# VISION ZERO REQUESTS\n",
    "# first add year\n",
    "for column in vision_zero.columns:\n",
    "    print(column)"
   ]
  },
  {
   "cell_type": "code",
   "execution_count": null,
   "metadata": {},
   "outputs": [],
   "source": [
    "vision_zero['YEAR'] = vision_zero.apply(lambda x: x.REQUESTDATE[:4], axis=1)"
   ]
  },
  {
   "cell_type": "code",
   "execution_count": null,
   "metadata": {},
   "outputs": [],
   "source": [
    "census_blocks_vision_zero = gpd.sjoin(vision_zero, census_blocks, how=\"left\", op='within')"
   ]
  },
  {
   "cell_type": "code",
   "execution_count": null,
   "metadata": {},
   "outputs": [],
   "source": [
    "# how many vision zero requests didn't roll up to a census block\n",
    "census_blocks_vision_zero_null=census_blocks_vision_zero[(census_blocks_vision_zero['OBJECTID_right'].isnull())]"
   ]
  },
  {
   "cell_type": "code",
   "execution_count": null,
   "metadata": {},
   "outputs": [],
   "source": [
    "len(census_blocks_vision_zero)"
   ]
  },
  {
   "cell_type": "code",
   "execution_count": null,
   "metadata": {},
   "outputs": [],
   "source": [
    "len(census_blocks_vision_zero_null)"
   ]
  },
  {
   "cell_type": "code",
   "execution_count": null,
   "metadata": {},
   "outputs": [],
   "source": [
    "# export null records to a csv file so i can check it out in a db\n",
    "census_blocks_vision_zero_null.to_csv('data/no_census_blocks/VZ_Requests_not_joining_to_census_block.csv')"
   ]
  },
  {
   "cell_type": "code",
   "execution_count": null,
   "metadata": {},
   "outputs": [],
   "source": [
    "#######################################\n",
    "# roll up by census block and year\n",
    "# Merge\n",
    "# Join back to census block dataset to get a geometry\n",
    "#######################################"
   ]
  },
  {
   "cell_type": "code",
   "execution_count": null,
   "metadata": {},
   "outputs": [],
   "source": [
    "# Crashes data\n",
    "census_blocks_crashes['PED_INJURIES']=census_blocks_crashes[{'MAJORINJURIES_PEDESTRIAN','MINORINJURIES_PEDESTRIAN','UNKNOWNINJURIES_PEDESTRIAN'}].sum(axis=1)\n",
    "census_blocks_crashes['BICYCLE_INJURIES']=census_blocks_crashes[{'MAJORINJURIES_BICYCLIST','MINORINJURIES_BICYCLIST','UNKNOWNINJURIES_BICYCLIST'}].sum(axis=1)\n",
    "census_blocks_crashes['VEHICLE_INJURIES']=census_blocks_crashes[{'MAJORINJURIES_DRIVER','MINORINJURIES_DRIVER','UNKNOWNINJURIES_DRIVER','MAJORINJURIESPASSENGER','MINORINJURIESPASSENGER','UNKNOWNINJURIESPASSENGER'}].sum(axis=1)"
   ]
  },
  {
   "cell_type": "code",
   "execution_count": null,
   "metadata": {},
   "outputs": [],
   "source": [
    "census_blocks_crashes.head()"
   ]
  },
  {
   "cell_type": "code",
   "execution_count": null,
   "metadata": {},
   "outputs": [],
   "source": [
    "census_blocks_crashes['TOTAL_INJURIES']=census_blocks_crashes[{'PED_INJURIES','BICYCLE_INJURIES','VEHICLE_INJURIES'}].sum(axis=1)\n",
    "census_blocks_crashes['TOTAL_FATALITIES']=census_blocks_crashes[{'FATAL_DRIVER','FATAL_BICYCLIST','FATAL_PEDESTRIAN','FATALPASSENGER'}].sum(axis=1)"
   ]
  },
  {
   "cell_type": "code",
   "execution_count": null,
   "metadata": {},
   "outputs": [],
   "source": [
    "crashes_agg = (census_blocks_crashes.groupby(['OBJECTID_right', 'YEAR'])\n",
    "               .agg({'OBJECTID_left':'count', 'PED_INJURIES': 'sum', 'BICYCLE_INJURIES': 'sum','VEHICLE_INJURIES': 'sum','TOTAL_INJURIES': 'sum','TOTAL_FATALITIES': 'sum'})\n",
    "               .reset_index().rename(columns={'OBJECTID_left':'TOTAL_CRASHES'}))"
   ]
  },
  {
   "cell_type": "code",
   "execution_count": null,
   "metadata": {},
   "outputs": [],
   "source": [
    "crashes_agg.head(20)"
   ]
  },
  {
   "cell_type": "code",
   "execution_count": null,
   "metadata": {},
   "outputs": [],
   "source": [
    "len(crashes_agg)"
   ]
  },
  {
   "cell_type": "code",
   "execution_count": null,
   "metadata": {},
   "outputs": [],
   "source": [
    "# TSA data"
   ]
  },
  {
   "cell_type": "code",
   "execution_count": null,
   "metadata": {},
   "outputs": [],
   "source": [
    "census_blocks_tsas_agg = (census_blocks_tsas.groupby(['OBJECTID_right', 'YEAR'])\n",
    "               .agg({'OBJECTID_left':'count'})\n",
    "               .reset_index().rename(columns={'OBJECTID_left':'TOTAL_TSA_REQUESTS'}))"
   ]
  },
  {
   "cell_type": "code",
   "execution_count": null,
   "metadata": {},
   "outputs": [],
   "source": [
    "census_blocks_tsas_agg.head(20)"
   ]
  },
  {
   "cell_type": "code",
   "execution_count": null,
   "metadata": {},
   "outputs": [],
   "source": [
    "len(census_blocks_tsas_agg)"
   ]
  },
  {
   "cell_type": "code",
   "execution_count": null,
   "metadata": {},
   "outputs": [],
   "source": [
    "crashes_tsas_agg = crashes_agg.merge(census_blocks_tsas_agg, how = 'left', on=['OBJECTID_right', 'YEAR'])"
   ]
  },
  {
   "cell_type": "code",
   "execution_count": null,
   "metadata": {},
   "outputs": [],
   "source": [
    "len(crashes_tsas_agg)"
   ]
  },
  {
   "cell_type": "code",
   "execution_count": null,
   "metadata": {},
   "outputs": [],
   "source": [
    "crashes_tsas_agg.head(20)"
   ]
  },
  {
   "cell_type": "code",
   "execution_count": null,
   "metadata": {},
   "outputs": [],
   "source": [
    "# vision zero data\n",
    "census_blocks_vision_zero_agg = (census_blocks_vision_zero.groupby(['OBJECTID_right', 'YEAR'])\n",
    "               .agg({'OBJECTID_left':'count'})\n",
    "               .reset_index().rename(columns={'OBJECTID_left':'TOTAL_VISION_ZERO_REQUESTS'}))"
   ]
  },
  {
   "cell_type": "code",
   "execution_count": null,
   "metadata": {},
   "outputs": [],
   "source": [
    "crashes_tsas_vz_agg = crashes_tsas_agg.merge(census_blocks_vision_zero_agg, how = 'left', on=['OBJECTID_right', 'YEAR'])"
   ]
  },
  {
   "cell_type": "code",
   "execution_count": null,
   "metadata": {},
   "outputs": [],
   "source": [
    "crashes_tsas_vz_agg.head(20)"
   ]
  },
  {
   "cell_type": "code",
   "execution_count": 107,
   "metadata": {},
   "outputs": [
    {
     "data": {
      "text/plain": [
       "49249"
      ]
     },
     "execution_count": 107,
     "metadata": {},
     "output_type": "execute_result"
    }
   ],
   "source": [
    "len(crashes_tsas_vz_agg)"
   ]
  },
  {
   "cell_type": "code",
   "execution_count": 111,
   "metadata": {},
   "outputs": [],
   "source": [
    "geo_info = crashes_tsas_agg.merge(census_blocks, how = 'inner', left_on = 'OBJECTID_right', right_on = 'OBJECTID')"
   ]
  },
  {
   "cell_type": "code",
   "execution_count": 112,
   "metadata": {},
   "outputs": [
    {
     "data": {
      "text/plain": [
       "49249"
      ]
     },
     "execution_count": 112,
     "metadata": {},
     "output_type": "execute_result"
    }
   ],
   "source": [
    "len(geo_info)"
   ]
  },
  {
   "cell_type": "code",
   "execution_count": 116,
   "metadata": {},
   "outputs": [
    {
     "data": {
      "text/plain": [
       "'geometry'"
      ]
     },
     "execution_count": 116,
     "metadata": {},
     "output_type": "execute_result"
    }
   ],
   "source": [
    "geo_info.geometry.name"
   ]
  },
  {
   "cell_type": "code",
   "execution_count": 121,
   "metadata": {},
   "outputs": [],
   "source": [
    "geo_info = geo_info.set_geometry('geometry')"
   ]
  },
  {
   "cell_type": "code",
   "execution_count": 122,
   "metadata": {},
   "outputs": [
    {
     "data": {
      "text/plain": [
       "0        Polygon\n",
       "1        Polygon\n",
       "2        Polygon\n",
       "3        Polygon\n",
       "4        Polygon\n",
       "          ...   \n",
       "49244    Polygon\n",
       "49245    Polygon\n",
       "49246    Polygon\n",
       "49247    Polygon\n",
       "49248    Polygon\n",
       "Length: 49249, dtype: object"
      ]
     },
     "execution_count": 122,
     "metadata": {},
     "output_type": "execute_result"
    }
   ],
   "source": [
    "geo_info['geometry'].geom_type"
   ]
  },
  {
   "cell_type": "code",
   "execution_count": null,
   "metadata": {},
   "outputs": [],
   "source": [
    "# census_blocks_addr = gpd.sjoin(address_points, census_blocks, how=\"left\", op='within')"
   ]
  },
  {
   "cell_type": "code",
   "execution_count": 114,
   "metadata": {},
   "outputs": [],
   "source": [
    "# roll up address points to census block, keeping one representative row for each census block\n",
    "census_blocks_addr = address_points.dissolve(by='CENSUS_BLOCK', aggfunc='first')"
   ]
  },
  {
   "cell_type": "code",
   "execution_count": 130,
   "metadata": {},
   "outputs": [],
   "source": [
    "final = gpd.sjoin(geo_info, census_blocks_addr, how=\"left\", op='intersects')"
   ]
  },
  {
   "cell_type": "code",
   "execution_count": 131,
   "metadata": {},
   "outputs": [
    {
     "data": {
      "text/plain": [
       "49263"
      ]
     },
     "execution_count": 131,
     "metadata": {},
     "output_type": "execute_result"
    }
   ],
   "source": [
    "len(final)"
   ]
  },
  {
   "cell_type": "code",
   "execution_count": 133,
   "metadata": {},
   "outputs": [],
   "source": [
    "# how many vision zero requests didn't roll up to a census block\n",
    "final_null=final[(final['WARD'].isnull())]"
   ]
  },
  {
   "cell_type": "code",
   "execution_count": 134,
   "metadata": {},
   "outputs": [],
   "source": [
    "final_null.to_csv('data/no_census_blocks/census_blocks_w_crash_stats_not_joining_to_address.csv')"
   ]
  },
  {
   "cell_type": "code",
   "execution_count": 128,
   "metadata": {},
   "outputs": [
    {
     "data": {
      "text/plain": [
       "<AxesSubplot:>"
      ]
     },
     "execution_count": 128,
     "metadata": {},
     "output_type": "execute_result"
    },
    {
     "data": {
      "image/png": "[encoded data removed]",
      "text/plain": [
       "<Figure size 432x288 with 1 Axes>"
      ]
     },
     "metadata": {
      "needs_background": "light"
     },
     "output_type": "display_data"
    }
   ],
   "source": [
    "final.plot()"
   ]
  },
  {
   "cell_type": "code",
   "execution_count": 135,
   "metadata": {},
   "outputs": [
    {
     "data": {
      "text/plain": [
       "<AxesSubplot:>"
      ]
     },
     "execution_count": 135,
     "metadata": {},
     "output_type": "execute_result"
    },
    {
     "data": {
      "image/png": "[encoded data removed]",
      "text/plain": [
       "<Figure size 432x288 with 1 Axes>"
      ]
     },
     "metadata": {
      "needs_background": "light"
     },
     "output_type": "display_data"
    }
   ],
   "source": [
    "final_null.plot()"
   ]
  },
  {
   "cell_type": "code",
   "execution_count": null,
   "metadata": {},
   "outputs": [],
   "source": [
    "final.head(20)"
   ]
  },
  {
   "cell_type": "code",
   "execution_count": 136,
   "metadata": {},
   "outputs": [],
   "source": [
    "final.to_csv('data/merged/merged_v1.csv')"
   ]
  },
  {
   "cell_type": "code",
   "execution_count": 143,
   "metadata": {},
   "outputs": [],
   "source": [
    "final_2020 = final[final['YEAR'] == '2020']"
   ]
  },
  {
   "cell_type": "code",
   "execution_count": 144,
   "metadata": {},
   "outputs": [],
   "source": [
    "final_2020.to_file(\"data/merged/merged_v1_2020.geojson\", driver='GeoJSON')"
   ]
  },
  {
   "cell_type": "code",
   "execution_count": null,
   "metadata": {},
   "outputs": [],
   "source": [
    "#######################################\n",
    "# OLD CODE\n",
    "# keeping it to refer back to\n",
    "#######################################"
   ]
  },
  {
   "cell_type": "code",
   "execution_count": null,
   "metadata": {},
   "outputs": [],
   "source": []
  },
  {
   "cell_type": "code",
   "execution_count": null,
   "metadata": {},
   "outputs": [],
   "source": [
    "# join crashes to data natively at ANC level and add year\n",
    "anc_crashes = gpd.sjoin(crashes_raw, ancs, how=\"inner\", op='within')\n",
    "anc_crashes['YEAR'] = anc_crashes.apply(lambda x: x.REPORTDATE[:4], axis=1)\n",
    "#Number of crashes thus far in 2020 by ANC\n",
    "pd.DataFrame(anc_crashes.groupby(['YEAR', 'NAME']).size()).loc['2020']"
   ]
  },
  {
   "cell_type": "code",
   "execution_count": null,
   "metadata": {},
   "outputs": [],
   "source": [
    "# try to roll up address points to desired level\n",
    "# roll up address points to census block \n",
    "census_blocks = address_points.dissolve(by='CENSUS_BLOCK', aggfunc='first')"
   ]
  },
  {
   "cell_type": "code",
   "execution_count": null,
   "metadata": {},
   "outputs": [],
   "source": [
    "census_blocks.head()"
   ]
  },
  {
   "cell_type": "code",
   "execution_count": null,
   "metadata": {},
   "outputs": [],
   "source": [
    "# check geo type\n",
    "census_blocks['geometry'].geom_type"
   ]
  },
  {
   "cell_type": "code",
   "execution_count": null,
   "metadata": {},
   "outputs": [],
   "source": [
    "len(census_blocks)"
   ]
  },
  {
   "cell_type": "code",
   "execution_count": null,
   "metadata": {},
   "outputs": [],
   "source": [
    "# remove points so census blocks can be rolled up to polygons\n",
    "census_blocks=census_blocks[census_blocks['geometry'].geom_type != 'Point']"
   ]
  },
  {
   "cell_type": "code",
   "execution_count": null,
   "metadata": {},
   "outputs": [],
   "source": [
    "# check how many fell out\n",
    "len(census_blocks)"
   ]
  },
  {
   "cell_type": "code",
   "execution_count": null,
   "metadata": {},
   "outputs": [],
   "source": [
    "# limit the census blocks dataset to census blocks that can become polygons\n",
    "census_blocks = census_blocks[census_blocks['geometry'].apply(lambda x: len(list(x)) > 2)]"
   ]
  },
  {
   "cell_type": "code",
   "execution_count": null,
   "metadata": {},
   "outputs": [],
   "source": [
    "len(census_blocks)"
   ]
  },
  {
   "cell_type": "code",
   "execution_count": null,
   "metadata": {},
   "outputs": [],
   "source": [
    "census_block_polygons=census_blocks.copy()"
   ]
  },
  {
   "cell_type": "code",
   "execution_count": null,
   "metadata": {},
   "outputs": [],
   "source": [
    "# convert to polygons\n",
    "census_block_polygons['geometry'] = census_block_polygons.apply(lambda x: Polygon(x.geometry), axis=1)"
   ]
  },
  {
   "cell_type": "code",
   "execution_count": null,
   "metadata": {},
   "outputs": [],
   "source": [
    "len(census_block_polygons)"
   ]
  },
  {
   "cell_type": "code",
   "execution_count": null,
   "metadata": {},
   "outputs": [],
   "source": [
    "len(crashes_raw)"
   ]
  },
  {
   "cell_type": "code",
   "execution_count": null,
   "metadata": {},
   "outputs": [],
   "source": [
    "# roll up crashes by census block\n",
    "crashes = gpd.sjoin(crashes_raw, census_block_polygons, how=\"left\", op='within')"
   ]
  },
  {
   "cell_type": "code",
   "execution_count": null,
   "metadata": {},
   "outputs": [],
   "source": [
    "len(crashes)"
   ]
  },
  {
   "cell_type": "code",
   "execution_count": null,
   "metadata": {},
   "outputs": [],
   "source": [
    "crashes['YEAR'] = crashes.apply(lambda x: x.REPORTDATE[:4], axis=1)"
   ]
  },
  {
   "cell_type": "code",
   "execution_count": null,
   "metadata": {},
   "outputs": [],
   "source": [
    "#do a sanity check on number of crashes by year and ward\n",
    "ward_year_rollup=pd.DataFrame(crashes.fillna(-1).groupby(['YEAR', 'WARD_right', 'WARD_left']).size())"
   ]
  },
  {
   "cell_type": "code",
   "execution_count": null,
   "metadata": {},
   "outputs": [],
   "source": [
    "ward_year_rollup.to_excel('crashes_by_year_and_ward.xlsx')"
   ]
  },
  {
   "cell_type": "code",
   "execution_count": null,
   "metadata": {},
   "outputs": [],
   "source": [
    "# how many crashes in 2020 didn't join to a census block\n",
    "crashes_null=crashes[(crashes['WARD_right'].isnull()) & (crashes['YEAR'] == '2020')]"
   ]
  },
  {
   "cell_type": "code",
   "execution_count": null,
   "metadata": {},
   "outputs": [],
   "source": [
    "len(crashes_null)"
   ]
  },
  {
   "cell_type": "code",
   "execution_count": null,
   "metadata": {},
   "outputs": [],
   "source": [
    "# check distance between address points objectid 846387/MARID 15323 and all of the crashes listed at that MARID\n",
    "crash_sample = crashes_raw.loc[crashes_raw['MARID'] == 15232]"
   ]
  },
  {
   "cell_type": "code",
   "execution_count": null,
   "metadata": {},
   "outputs": [],
   "source": [
    "addr_sample = address_points.loc[address_points['ADDRESS_ID'] == 15232]"
   ]
  },
  {
   "cell_type": "code",
   "execution_count": null,
   "metadata": {},
   "outputs": [],
   "source": [
    "for point in crash_sample['geometry']:\n",
    "    print(point.distance(addr_sample['geometry'].iloc[0]))"
   ]
  },
  {
   "cell_type": "code",
   "execution_count": null,
   "metadata": {},
   "outputs": [],
   "source": [
    "address_points_buf = address_points.copy()\n",
    "address_points_buf['geometry'] = address_points_buf.apply(lambda x: x.geometry.buffer(0.0003), axis=1)"
   ]
  },
  {
   "cell_type": "code",
   "execution_count": null,
   "metadata": {},
   "outputs": [],
   "source": []
  },
  {
   "cell_type": "code",
   "execution_count": null,
   "metadata": {},
   "outputs": [],
   "source": []
  },
  {
   "cell_type": "code",
   "execution_count": null,
   "metadata": {},
   "outputs": [],
   "source": []
  }
 ],
 "metadata": {
  "kernelspec": {
   "display_name": "crashbot venv",
   "language": "python",
   "name": "venv"
  },
  "language_info": {
   "codemirror_mode": {
    "name": "ipython",
    "version": 3
   },
   "file_extension": ".py",
   "mimetype": "text/x-python",
   "name": "python",
   "nbconvert_exporter": "python",
   "pygments_lexer": "ipython3",
   "version": "3.7.6"
  }
 },
 "nbformat": 4,
 "nbformat_minor": 4
}
