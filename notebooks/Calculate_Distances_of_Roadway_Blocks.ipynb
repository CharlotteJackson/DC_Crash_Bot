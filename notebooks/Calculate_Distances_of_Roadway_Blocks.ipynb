{
 "cells": [
  {
   "cell_type": "markdown",
   "metadata": {},
   "source": [
    "# Calculate Distances of Roadway Blocks\n",
    "\n",
    "The DC datasets Roadway Blocks and Roadway SubBlocks contain super useful information about our streets, but don't come with the distance of the actual blocks. The shapefiles have a `SHAPELEN` of zero for every object. \n",
    "\n",
    "Fortunately, we can use the shapefiles to calculate the distances. \n",
    "\n",
    "Source data: https://opendata.dc.gov/pages/roadway-centerlines\n",
    "\n",
    "Author: Devin Brady, https://github.com/devinbrady/"
   ]
  },
  {
   "cell_type": "code",
   "execution_count": 1,
   "metadata": {},
   "outputs": [],
   "source": [
    "import shapely\n",
    "import pandas as pd\n",
    "import geopandas as gpd\n",
    "from geopy.distance import distance"
   ]
  },
  {
   "cell_type": "code",
   "execution_count": 2,
   "metadata": {},
   "outputs": [],
   "source": [
    "def calculate_linestring_distance(row):\n",
    "    \"\"\"\n",
    "    For one row in a GeoPandas GeoDataFrame, calculate the distance in both miles and meters\n",
    "    of the LineString geography and save the distances to columns in the GeoDataFrame.\n",
    "    \n",
    "    Use this function in an .apply() statement, row-wise, like so:\n",
    "    rb_shp = rb_shp.apply(calculate_linestring_distance, axis=1)\n",
    "    \n",
    "    The row's `geometry` field must not be None, and be a LineString (there is one \n",
    "    MultiLineString in the DC street data). In those cases, the distances are set to zero.\n",
    "    \"\"\"\n",
    "    \n",
    "    geom = row['geometry']\n",
    "    miles_in_block = 0\n",
    "    meters_in_block = 0\n",
    "    \n",
    "    if geom and isinstance(geom, shapely.geometry.linestring.LineString):\n",
    "        \n",
    "        # Iterate through every point in the LineString, calculating distance to the previous point\n",
    "        for idx, pnt in enumerate(geom.coords):\n",
    "            if idx > 0:\n",
    "                segment_distance = distance(\n",
    "                    (geom.coords[idx-1][1], geom.coords[idx-1][0])\n",
    "                    , (geom.coords[idx][1], geom.coords[idx][0])\n",
    "                )\n",
    "                miles_in_block += segment_distance.miles\n",
    "                meters_in_block += segment_distance.meters\n",
    "\n",
    "    row['distance_miles'] = miles_in_block\n",
    "    row['distance_meters'] = meters_in_block\n",
    "    \n",
    "    return row"
   ]
  },
  {
   "cell_type": "code",
   "execution_count": 3,
   "metadata": {},
   "outputs": [],
   "source": [
    "rb = pd.read_csv('Roadway_Block.csv', low_memory=False)"
   ]
  },
  {
   "cell_type": "code",
   "execution_count": 4,
   "metadata": {},
   "outputs": [],
   "source": [
    "rb_shp = gpd.read_file('Roadway_Block/Roadway_Block.shp')"
   ]
  },
  {
   "cell_type": "code",
   "execution_count": 5,
   "metadata": {},
   "outputs": [],
   "source": [
    "# Use a sample of 100 rows to demonstrate this function. In production, leave out this line\n",
    "rb_shp = rb_shp.sample(100)"
   ]
  },
  {
   "cell_type": "code",
   "execution_count": 6,
   "metadata": {},
   "outputs": [],
   "source": [
    "rb_shp = rb_shp.apply(calculate_linestring_distance, axis=1)"
   ]
  },
  {
   "cell_type": "code",
   "execution_count": 7,
   "metadata": {},
   "outputs": [],
   "source": [
    "rb_distance = pd.merge(rb, rb_shp[['OBJECTID', 'distance_miles', 'distance_meters']], how='inner', on='OBJECTID')"
   ]
  },
  {
   "cell_type": "code",
   "execution_count": 8,
   "metadata": {},
   "outputs": [],
   "source": [
    "# Save CSV with distances appended\n",
    "# rb_distance.to_csv('Roadway_Block_Distance.csv', index=False)"
   ]
  },
  {
   "cell_type": "code",
   "execution_count": 9,
   "metadata": {},
   "outputs": [
    {
     "data": {
      "text/html": [
       "<div>\n",
       "<style scoped>\n",
       "    .dataframe tbody tr th:only-of-type {\n",
       "        vertical-align: middle;\n",
       "    }\n",
       "\n",
       "    .dataframe tbody tr th {\n",
       "        vertical-align: top;\n",
       "    }\n",
       "\n",
       "    .dataframe thead th {\n",
       "        text-align: right;\n",
       "    }\n",
       "</style>\n",
       "<table border=\"1\" class=\"dataframe\">\n",
       "  <thead>\n",
       "    <tr style=\"text-align: right;\">\n",
       "      <th></th>\n",
       "      <th>OBJECTID</th>\n",
       "      <th>ROUTENAME</th>\n",
       "      <th>FROMSTREET</th>\n",
       "      <th>TOSTREET</th>\n",
       "      <th>distance_miles</th>\n",
       "      <th>distance_meters</th>\n",
       "    </tr>\n",
       "  </thead>\n",
       "  <tbody>\n",
       "    <tr>\n",
       "      <th>0</th>\n",
       "      <td>27558</td>\n",
       "      <td>M ST SW</td>\n",
       "      <td>HOWISON PL SW</td>\n",
       "      <td>CANAL ST SW</td>\n",
       "      <td>0.025701</td>\n",
       "      <td>41.362180</td>\n",
       "    </tr>\n",
       "    <tr>\n",
       "      <th>1</th>\n",
       "      <td>27670</td>\n",
       "      <td>51ST ST SE</td>\n",
       "      <td>BASS PL SE</td>\n",
       "      <td>C ST SE</td>\n",
       "      <td>0.047512</td>\n",
       "      <td>76.463356</td>\n",
       "    </tr>\n",
       "    <tr>\n",
       "      <th>2</th>\n",
       "      <td>27975</td>\n",
       "      <td>NORTH CAPITOL ST BN</td>\n",
       "      <td>FLORIDA AVE NW/FLORIDA AVE NE</td>\n",
       "      <td>LINCOLN RD NE/Q ST NE</td>\n",
       "      <td>0.022115</td>\n",
       "      <td>35.590786</td>\n",
       "    </tr>\n",
       "    <tr>\n",
       "      <th>3</th>\n",
       "      <td>28061</td>\n",
       "      <td>44TH ST NW</td>\n",
       "      <td>CHESAPEAKE ST NW</td>\n",
       "      <td>DAVENPORT ST NW</td>\n",
       "      <td>0.073563</td>\n",
       "      <td>118.387975</td>\n",
       "    </tr>\n",
       "    <tr>\n",
       "      <th>4</th>\n",
       "      <td>28246</td>\n",
       "      <td>G ST NW</td>\n",
       "      <td>12TH ST NW</td>\n",
       "      <td>13TH ST NW</td>\n",
       "      <td>0.083114</td>\n",
       "      <td>133.759385</td>\n",
       "    </tr>\n",
       "  </tbody>\n",
       "</table>\n",
       "</div>"
      ],
      "text/plain": [
       "   OBJECTID            ROUTENAME                     FROMSTREET  \\\n",
       "0     27558              M ST SW                  HOWISON PL SW   \n",
       "1     27670           51ST ST SE                     BASS PL SE   \n",
       "2     27975  NORTH CAPITOL ST BN  FLORIDA AVE NW/FLORIDA AVE NE   \n",
       "3     28061           44TH ST NW               CHESAPEAKE ST NW   \n",
       "4     28246              G ST NW                     12TH ST NW   \n",
       "\n",
       "                TOSTREET  distance_miles  distance_meters  \n",
       "0            CANAL ST SW        0.025701        41.362180  \n",
       "1                C ST SE        0.047512        76.463356  \n",
       "2  LINCOLN RD NE/Q ST NE        0.022115        35.590786  \n",
       "3        DAVENPORT ST NW        0.073563       118.387975  \n",
       "4             13TH ST NW        0.083114       133.759385  "
      ]
     },
     "execution_count": 9,
     "metadata": {},
     "output_type": "execute_result"
    }
   ],
   "source": [
    "rb_distance[['OBJECTID', 'ROUTENAME', 'FROMSTREET', 'TOSTREET', 'distance_miles', 'distance_meters']].head()"
   ]
  }
 ],
 "metadata": {
  "kernelspec": {
   "display_name": "Python 3",
   "language": "python",
   "name": "python3"
  },
  "language_info": {
   "codemirror_mode": {
    "name": "ipython",
    "version": 3
   },
   "file_extension": ".py",
   "mimetype": "text/x-python",
   "name": "python",
   "nbconvert_exporter": "python",
   "pygments_lexer": "ipython3",
   "version": "3.7.1"
  }
 },
 "nbformat": 4,
 "nbformat_minor": 2
}
