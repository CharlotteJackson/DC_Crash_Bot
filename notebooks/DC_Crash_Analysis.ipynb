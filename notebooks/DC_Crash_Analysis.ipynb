{
 "cells": [
  {
   "cell_type": "code",
   "execution_count": 1,
   "metadata": {
    "scrolled": true
   },
   "outputs": [],
   "source": [
    "import geopandas as gpd\n",
    "import pandas as pd\n",
    "from shapely.geometry import Point, LineString, Polygon\n",
    "import matplotlib\n",
    "import os\n",
    "from pathlib import Path"
   ]
  },
  {
   "cell_type": "code",
   "execution_count": null,
   "metadata": {
    "scrolled": true
   },
   "outputs": [],
   "source": [
    "# ###########################\n",
    "# import data\n",
    "# ###########################"
   ]
  },
  {
   "cell_type": "code",
   "execution_count": 2,
   "metadata": {
    "scrolled": true
   },
   "outputs": [],
   "source": [
    "# import crash data\n",
    "crashes_raw = gpd.read_file('https://opendata.arcgis.com/datasets/70392a096a8e431381f1f692aaa06afd_24.geojson')"
   ]
  },
  {
   "cell_type": "code",
   "execution_count": 3,
   "metadata": {
    "scrolled": true
   },
   "outputs": [],
   "source": [
    "# import crash details table\n",
    "crash_details = gpd.read_file('https://opendata.arcgis.com/datasets/70248b73c20f46b0a5ee895fc91d6222_25.geojson')"
   ]
  },
  {
   "cell_type": "code",
   "execution_count": 12,
   "metadata": {},
   "outputs": [],
   "source": [
    "# import anc data\n",
    "ancs = gpd.read_file('https://opendata.arcgis.com/datasets/fcfbf29074e549d8aff9b9c708179291_1.geojson')"
   ]
  },
  {
   "cell_type": "code",
   "execution_count": null,
   "metadata": {
    "scrolled": true
   },
   "outputs": [],
   "source": [
    "#######################################\n",
    "# roll up crashes to crash id level\n",
    "#######################################"
   ]
  },
  {
   "cell_type": "code",
   "execution_count": 4,
   "metadata": {
    "scrolled": true
   },
   "outputs": [],
   "source": [
    "# first create variables that will be aggregated\n",
    "# driver over 80/driver under 25 \n",
    "crash_details['DRIVERS_OVER_80']= crash_details.apply(lambda x: 1 if x.PERSONTYPE=='Driver' \n",
    "                                                     and x.AGE>=80 else 0, axis = 1)\n",
    "crash_details['DRIVERS_UNDER_25']= crash_details.apply(lambda x: 1 if x.PERSONTYPE=='Driver' \n",
    "                                                      and x.AGE<=25 else 0, axis = 1)\n",
    "# ped under 12/ped over 70 \n",
    "crash_details['PEDS_OVER_70']= crash_details.apply(lambda x: 1 if x.PERSONTYPE=='Pedestrian' \n",
    "                                                     and x.AGE>=70 else 0, axis = 1)\n",
    "crash_details['PEDS_UNDER_12']= crash_details.apply(lambda x: 1 if x.PERSONTYPE=='Pedestrian' \n",
    "                                                      and x.AGE<=12 else 0, axis = 1)\n",
    "# biker under 12/biker over 70\n",
    "crash_details['BIKERS_OVER_70']= crash_details.apply(lambda x: 1 if x.PERSONTYPE=='Bicyclist' \n",
    "                                                     and x.AGE>=70 else 0, axis = 1)\n",
    "crash_details['BIKERS_UNDER_12']= crash_details.apply(lambda x: 1 if x.PERSONTYPE=='Bicyclist' \n",
    "                                                      and x.AGE<=12 else 0, axis = 1)\n",
    "# out of state driver\n",
    "crash_details['OOS_VEHICLES']= crash_details.apply(lambda x: 1 if x.PERSONTYPE=='Driver' \n",
    "                                                   and x.LICENSEPLATESTATE != 'DC' else 0, axis = 1)\n",
    "# vehicle type \n",
    "crash_details['CARS']=crash_details.apply(lambda x: 1 if x.INVEHICLETYPE=='Passenger Car/automobile' \n",
    "                                                    and x.PERSONTYPE=='Driver' else 0, axis = 1)\n",
    "crash_details['SUVS_OR_TRUCKS']=crash_details.apply(lambda x: 1 if (x.INVEHICLETYPE=='Suv (sport Utility Vehicle)'\n",
    "                                                     or x.  INVEHICLETYPE== 'Pickup Truck')\n",
    "                                                    and x.PERSONTYPE=='Driver' else 0, axis = 1)\n",
    "\n",
    "# injuries \n",
    "crash_details['PED_INJURIES']=crash_details.apply(lambda x: 1 if x.PERSONTYPE=='Pedestrian' \n",
    "                                                   and (x.MAJORINJURY == 'Y' or x.MINORINJURY =='Y') else 0,\n",
    "                                                        axis = 1)\n",
    "crash_details['BICYCLE_INJURIES']=crash_details.apply(lambda x: 1 if x.PERSONTYPE=='Bicyclist' \n",
    "                                                   and (x.MAJORINJURY == 'Y' or x.MINORINJURY =='Y') else 0,\n",
    "                                                        axis = 1)\n",
    "crash_details['VEHICLE_INJURIES']=crash_details.apply(lambda x: 1 if \n",
    "                                                      (x.PERSONTYPE=='Driver' or x.PERSONTYPE == 'Passenger')\n",
    "                                                   and (x.MAJORINJURY == 'Y' or x.MINORINJURY =='Y') else 0,\n",
    "                                                        axis = 1)\n",
    "# tickets issued? \n",
    "crash_details['DRIVER_TICKETS']=crash_details.apply(lambda x: 1 if x.PERSONTYPE=='Driver' \n",
    "                                                   and x.TICKETISSUED == 'Y' else 0,\n",
    "                                                        axis = 1)\n",
    "crash_details['BICYCLE_TICKETS']=crash_details.apply(lambda x: 1 if x.PERSONTYPE=='Bicyclist' \n",
    "                                                   and x.TICKETISSUED == 'Y' else 0,\n",
    "                                                        axis = 1)\n",
    "crash_details['PED_TICKETS']=crash_details.apply(lambda x: 1 if x.PERSONTYPE=='Pedestrian' \n",
    "                                                   and x.TICKETISSUED == 'Y' else 0,\n",
    "                                                        axis = 1)\n",
    "# speeding? \n",
    "crash_details['DRIVERS_SPEEDING']=crash_details.apply(lambda x: 1 if x.PERSONTYPE=='Driver' \n",
    "                                                   and x.SPEEDING == 'Y' else 0,\n",
    "                                                        axis = 1)\n",
    "# total injuries\n",
    "crash_details['TOTAL_INJURIES']=crash_details['VEHICLE_INJURIES']+crash_details['BICYCLE_INJURIES']+crash_details['PED_INJURIES']"
   ]
  },
  {
   "cell_type": "code",
   "execution_count": 5,
   "metadata": {
    "scrolled": true
   },
   "outputs": [],
   "source": [
    "crash_details_agg = (crash_details.groupby(['CRIMEID'])\n",
    "               .agg({\n",
    "                    'PED_INJURIES': 'sum', 'BICYCLE_INJURIES': 'sum','VEHICLE_INJURIES': 'sum'\n",
    "                     ,'TOTAL_INJURIES': 'sum', 'OOS_VEHICLES': 'sum', 'DRIVERS_UNDER_25': 'sum'\n",
    "                     , 'DRIVERS_OVER_80': 'sum', 'PEDS_OVER_70':'sum', 'PEDS_UNDER_12': 'sum'\n",
    "                   , 'BIKERS_OVER_70': 'sum', 'BIKERS_UNDER_12':'sum', 'OOS_VEHICLES': 'sum'\n",
    "                   ,'CARS' : 'sum', 'SUVS_OR_TRUCKS' : 'sum', 'DRIVER_TICKETS': 'sum'\n",
    "                   ,'BICYCLE_TICKETS': 'sum', 'PED_TICKETS':'sum', 'DRIVERS_SPEEDING': 'sum'\n",
    "                  ,'PERSONTYPE': lambda x: list(x), 'INVEHICLETYPE':  lambda x: list(x), \n",
    "                   'LICENSEPLATESTATE': lambda x: list(x)\n",
    "                    })\n",
    "               .reset_index())"
   ]
  },
  {
   "cell_type": "code",
   "execution_count": null,
   "metadata": {
    "scrolled": true
   },
   "outputs": [],
   "source": [
    "#######################################\n",
    "# join crashes to crash detail\n",
    "#######################################"
   ]
  },
  {
   "cell_type": "code",
   "execution_count": null,
   "metadata": {
    "scrolled": true
   },
   "outputs": [],
   "source": [
    "crash_details_agg.head()"
   ]
  },
  {
   "cell_type": "code",
   "execution_count": 7,
   "metadata": {
    "scrolled": true
   },
   "outputs": [],
   "source": [
    "# first add year to crashes\n",
    "crashes_raw['YEAR'] = crashes_raw.apply(lambda x: x.FROMDATE[:4], axis=1)"
   ]
  },
  {
   "cell_type": "code",
   "execution_count": 8,
   "metadata": {
    "scrolled": true
   },
   "outputs": [],
   "source": [
    "crashes_w_detail =  crashes_raw.merge(crash_details_agg, how = 'left', on='CRIMEID')"
   ]
  },
  {
   "cell_type": "code",
   "execution_count": 9,
   "metadata": {
    "scrolled": true
   },
   "outputs": [
    {
     "data": {
      "text/plain": [
       "242505"
      ]
     },
     "execution_count": 9,
     "metadata": {},
     "output_type": "execute_result"
    }
   ],
   "source": [
    "len(crashes_w_detail)"
   ]
  },
  {
   "cell_type": "code",
   "execution_count": null,
   "metadata": {
    "scrolled": true
   },
   "outputs": [],
   "source": [
    "crashes_w_detail.columns"
   ]
  },
  {
   "cell_type": "code",
   "execution_count": 13,
   "metadata": {
    "scrolled": true
   },
   "outputs": [
    {
     "data": {
      "text/html": [
       "<div>\n",
       "<style scoped>\n",
       "    .dataframe tbody tr th:only-of-type {\n",
       "        vertical-align: middle;\n",
       "    }\n",
       "\n",
       "    .dataframe tbody tr th {\n",
       "        vertical-align: top;\n",
       "    }\n",
       "\n",
       "    .dataframe thead th {\n",
       "        text-align: right;\n",
       "    }\n",
       "</style>\n",
       "<table border=\"1\" class=\"dataframe\">\n",
       "  <thead>\n",
       "    <tr style=\"text-align: right;\">\n",
       "      <th></th>\n",
       "      <th>0</th>\n",
       "    </tr>\n",
       "    <tr>\n",
       "      <th>NAME</th>\n",
       "      <th></th>\n",
       "    </tr>\n",
       "  </thead>\n",
       "  <tbody>\n",
       "    <tr>\n",
       "      <th>ANC 1A</th>\n",
       "      <td>484</td>\n",
       "    </tr>\n",
       "    <tr>\n",
       "      <th>ANC 1B</th>\n",
       "      <td>608</td>\n",
       "    </tr>\n",
       "    <tr>\n",
       "      <th>ANC 1C</th>\n",
       "      <td>183</td>\n",
       "    </tr>\n",
       "    <tr>\n",
       "      <th>ANC 1D</th>\n",
       "      <td>86</td>\n",
       "    </tr>\n",
       "    <tr>\n",
       "      <th>ANC 2A</th>\n",
       "      <td>394</td>\n",
       "    </tr>\n",
       "    <tr>\n",
       "      <th>ANC 2B</th>\n",
       "      <td>478</td>\n",
       "    </tr>\n",
       "    <tr>\n",
       "      <th>ANC 2C</th>\n",
       "      <td>530</td>\n",
       "    </tr>\n",
       "    <tr>\n",
       "      <th>ANC 2D</th>\n",
       "      <td>37</td>\n",
       "    </tr>\n",
       "    <tr>\n",
       "      <th>ANC 2E</th>\n",
       "      <td>249</td>\n",
       "    </tr>\n",
       "    <tr>\n",
       "      <th>ANC 2F</th>\n",
       "      <td>304</td>\n",
       "    </tr>\n",
       "    <tr>\n",
       "      <th>ANC 3B</th>\n",
       "      <td>58</td>\n",
       "    </tr>\n",
       "    <tr>\n",
       "      <th>ANC 3C</th>\n",
       "      <td>211</td>\n",
       "    </tr>\n",
       "    <tr>\n",
       "      <th>ANC 3D</th>\n",
       "      <td>147</td>\n",
       "    </tr>\n",
       "    <tr>\n",
       "      <th>ANC 3E</th>\n",
       "      <td>155</td>\n",
       "    </tr>\n",
       "    <tr>\n",
       "      <th>ANC 3F</th>\n",
       "      <td>121</td>\n",
       "    </tr>\n",
       "    <tr>\n",
       "      <th>ANC 3G</th>\n",
       "      <td>99</td>\n",
       "    </tr>\n",
       "    <tr>\n",
       "      <th>ANC 4A</th>\n",
       "      <td>281</td>\n",
       "    </tr>\n",
       "    <tr>\n",
       "      <th>ANC 4B</th>\n",
       "      <td>528</td>\n",
       "    </tr>\n",
       "    <tr>\n",
       "      <th>ANC 4C</th>\n",
       "      <td>447</td>\n",
       "    </tr>\n",
       "    <tr>\n",
       "      <th>ANC 4D</th>\n",
       "      <td>242</td>\n",
       "    </tr>\n",
       "    <tr>\n",
       "      <th>ANC 5A</th>\n",
       "      <td>272</td>\n",
       "    </tr>\n",
       "    <tr>\n",
       "      <th>ANC 5B</th>\n",
       "      <td>301</td>\n",
       "    </tr>\n",
       "    <tr>\n",
       "      <th>ANC 5C</th>\n",
       "      <td>1071</td>\n",
       "    </tr>\n",
       "    <tr>\n",
       "      <th>ANC 5D</th>\n",
       "      <td>582</td>\n",
       "    </tr>\n",
       "    <tr>\n",
       "      <th>ANC 5E</th>\n",
       "      <td>788</td>\n",
       "    </tr>\n",
       "    <tr>\n",
       "      <th>ANC 6A</th>\n",
       "      <td>335</td>\n",
       "    </tr>\n",
       "    <tr>\n",
       "      <th>ANC 6B</th>\n",
       "      <td>544</td>\n",
       "    </tr>\n",
       "    <tr>\n",
       "      <th>ANC 6C</th>\n",
       "      <td>526</td>\n",
       "    </tr>\n",
       "    <tr>\n",
       "      <th>ANC 6D</th>\n",
       "      <td>708</td>\n",
       "    </tr>\n",
       "    <tr>\n",
       "      <th>ANC 6E</th>\n",
       "      <td>609</td>\n",
       "    </tr>\n",
       "    <tr>\n",
       "      <th>ANC 7B</th>\n",
       "      <td>979</td>\n",
       "    </tr>\n",
       "    <tr>\n",
       "      <th>ANC 7C</th>\n",
       "      <td>602</td>\n",
       "    </tr>\n",
       "    <tr>\n",
       "      <th>ANC 7D</th>\n",
       "      <td>882</td>\n",
       "    </tr>\n",
       "    <tr>\n",
       "      <th>ANC 7E</th>\n",
       "      <td>585</td>\n",
       "    </tr>\n",
       "    <tr>\n",
       "      <th>ANC 7F</th>\n",
       "      <td>564</td>\n",
       "    </tr>\n",
       "    <tr>\n",
       "      <th>ANC 8A</th>\n",
       "      <td>735</td>\n",
       "    </tr>\n",
       "    <tr>\n",
       "      <th>ANC 8B</th>\n",
       "      <td>557</td>\n",
       "    </tr>\n",
       "    <tr>\n",
       "      <th>ANC 8C</th>\n",
       "      <td>822</td>\n",
       "    </tr>\n",
       "    <tr>\n",
       "      <th>ANC 8D</th>\n",
       "      <td>502</td>\n",
       "    </tr>\n",
       "    <tr>\n",
       "      <th>ANC 8E</th>\n",
       "      <td>663</td>\n",
       "    </tr>\n",
       "  </tbody>\n",
       "</table>\n",
       "</div>"
      ],
      "text/plain": [
       "           0\n",
       "NAME        \n",
       "ANC 1A   484\n",
       "ANC 1B   608\n",
       "ANC 1C   183\n",
       "ANC 1D    86\n",
       "ANC 2A   394\n",
       "ANC 2B   478\n",
       "ANC 2C   530\n",
       "ANC 2D    37\n",
       "ANC 2E   249\n",
       "ANC 2F   304\n",
       "ANC 3B    58\n",
       "ANC 3C   211\n",
       "ANC 3D   147\n",
       "ANC 3E   155\n",
       "ANC 3F   121\n",
       "ANC 3G    99\n",
       "ANC 4A   281\n",
       "ANC 4B   528\n",
       "ANC 4C   447\n",
       "ANC 4D   242\n",
       "ANC 5A   272\n",
       "ANC 5B   301\n",
       "ANC 5C  1071\n",
       "ANC 5D   582\n",
       "ANC 5E   788\n",
       "ANC 6A   335\n",
       "ANC 6B   544\n",
       "ANC 6C   526\n",
       "ANC 6D   708\n",
       "ANC 6E   609\n",
       "ANC 7B   979\n",
       "ANC 7C   602\n",
       "ANC 7D   882\n",
       "ANC 7E   585\n",
       "ANC 7F   564\n",
       "ANC 8A   735\n",
       "ANC 8B   557\n",
       "ANC 8C   822\n",
       "ANC 8D   502\n",
       "ANC 8E   663"
      ]
     },
     "execution_count": 13,
     "metadata": {},
     "output_type": "execute_result"
    }
   ],
   "source": [
    "# join crashes to data natively at ANC level and add year\n",
    "anc_crashes = gpd.sjoin(crashes_w_detail, ancs, how=\"inner\", op='within')\n",
    "anc_crashes['YEAR'] = anc_crashes.apply(lambda x: x.REPORTDATE[:4], axis=1)\n",
    "#Number of crashes thus far in 2020 by ANC\n",
    "pd.DataFrame(anc_crashes.groupby(['YEAR', 'NAME']).size()).loc['2020']"
   ]
  },
  {
   "cell_type": "code",
   "execution_count": null,
   "metadata": {
    "scrolled": true
   },
   "outputs": [],
   "source": []
  }
 ],
 "metadata": {
  "kernelspec": {
   "display_name": "crashbot venv",
   "language": "python",
   "name": "venv"
  },
  "language_info": {
   "codemirror_mode": {
    "name": "ipython",
    "version": 3
   },
   "file_extension": ".py",
   "mimetype": "text/x-python",
   "name": "python",
   "nbconvert_exporter": "python",
   "pygments_lexer": "ipython3",
   "version": "3.7.6"
  }
 },
 "nbformat": 4,
 "nbformat_minor": 4
}
