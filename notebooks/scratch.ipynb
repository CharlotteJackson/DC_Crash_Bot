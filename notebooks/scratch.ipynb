{
 "cells": [
  {
   "cell_type": "code",
   "execution_count": null,
   "metadata": {},
   "outputs": [],
   "source": [
    "import geopandas as gpd\n",
    "import pandas as pd\n",
    "from shapely.geometry import Point, LineString, Polygon\n",
    "import matplotlib\n",
    "import boto3\n",
    "import os\n",
    "from pathlib import Path\n",
    "import pprint "
   ]
  },
  {
   "cell_type": "code",
   "execution_count": null,
   "metadata": {},
   "outputs": [],
   "source": [
    "\"roadway_blocks\": {\n",
    "        'url':'https://opendata.arcgis.com/datasets/6fcba8618ae744949630da3ea12d90eb_163.geojson'\n",
    "        ,'prefix':'source-data/dc-open-data'\n",
    "        ,'metadata':{'target_schema':'source_data', 'dataset_info':'https://opendata.dc.gov/datasets/roadway-block'}\n",
    "    }\n",
    "    ,\"roadway_subblocks\": {\n",
    "        'url':'https://opendata.arcgis.com/datasets/df571ab7fea446e396bf2862d0ab6833_162.geojson'\n",
    "        ,'prefix':'source-data/dc-open-data'\n",
    "        ,'metadata':{'target_schema':'source_data', 'dataset_info':'https://opendata.dc.gov/datasets/roadway-subblock'}\n",
    "    }\n",
    "    ,\"roadway_blockface\": {\n",
    "        'url':'https://opendata.arcgis.com/datasets/47945b50c4f245b58850e81d297e90b9_164.geojson'\n",
    "        ,'prefix':'source-data/dc-open-data'\n",
    "        ,'metadata':{'target_schema':'source_data', 'dataset_info':'https://opendata.dc.gov/datasets/roadway-blockface'}\n",
    "    }\n",
    "    ,\"roadway_intersection_approach\": {\n",
    "        'url':'https://opendata.arcgis.com/datasets/a779d051865f461eb2a1f50f10940ec4_161.geojson'\n",
    "        ,'prefix':'source-data/dc-open-data'\n",
    "        ,'metadata':{'target_schema':'source_data', 'dataset_info':'https://opendata.dc.gov/datasets/roadway-intersection-approach'}"
   ]
  },
  {
   "cell_type": "code",
   "execution_count": null,
   "metadata": {},
   "outputs": [],
   "source": [
    "roadway_intersection_approach=gpd.read_file('https://opendata.arcgis.com/datasets/a779d051865f461eb2a1f50f10940ec4_161.geojson', n=10)"
   ]
  },
  {
   "cell_type": "code",
   "execution_count": null,
   "metadata": {},
   "outputs": [],
   "source": [
    "for column in roadway_intersection_approach.columns:\n",
    "    print(column)"
   ]
  },
  {
   "cell_type": "code",
   "execution_count": null,
   "metadata": {},
   "outputs": [],
   "source": [
    "roadway_blockface=gpd.read_file('https://opendata.arcgis.com/datasets/47945b50c4f245b58850e81d297e90b9_164.geojson',n=10)"
   ]
  },
  {
   "cell_type": "code",
   "execution_count": null,
   "metadata": {},
   "outputs": [],
   "source": [
    "for column in roadway_blockface.columns:\n",
    "    print(column)"
   ]
  },
  {
   "cell_type": "code",
   "execution_count": null,
   "metadata": {},
   "outputs": [],
   "source": [
    "# import crash data\n",
    "roadway_blocks = gpd.read_file('https://opendata.arcgis.com/datasets/6fcba8618ae744949630da3ea12d90eb_163.geojson',n=10)"
   ]
  },
  {
   "cell_type": "code",
   "execution_count": null,
   "metadata": {},
   "outputs": [],
   "source": [
    "roadway_subblocks=gpd.read_file('https://opendata.arcgis.com/datasets/df571ab7fea446e396bf2862d0ab6833_162.geojson', n=10)"
   ]
  },
  {
   "cell_type": "code",
   "execution_count": null,
   "metadata": {},
   "outputs": [],
   "source": [
    "for column in roadway_subblocks.columns:\n",
    "    print(column)"
   ]
  },
  {
   "cell_type": "code",
   "execution_count": null,
   "metadata": {},
   "outputs": [],
   "source": [
    "for column in roadway_subblocks.columns:\n",
    "    if column not in roadway_blocks.columns:\n",
    "        print(column)"
   ]
  },
  {
   "cell_type": "code",
   "execution_count": null,
   "metadata": {},
   "outputs": [],
   "source": [
    "for column in roadway_blocks.columns:\n",
    "    if column not in roadway_subblocks.columns:\n",
    "        print(column)"
   ]
  },
  {
   "cell_type": "code",
   "execution_count": null,
   "metadata": {},
   "outputs": [],
   "source": [
    "for column in roadway_blocks.columns:\n",
    "    print(column)"
   ]
  },
  {
   "cell_type": "code",
   "execution_count": null,
   "metadata": {},
   "outputs": [],
   "source": [
    "s3 = boto3.resource('s3')"
   ]
  },
  {
   "cell_type": "code",
   "execution_count": null,
   "metadata": {},
   "outputs": [],
   "source": [
    "client=boto3.client('s3')"
   ]
  },
  {
   "cell_type": "code",
   "execution_count": null,
   "metadata": {},
   "outputs": [],
   "source": [
    "response = client.list_objects_v2(\n",
    "    Bucket='dc-crash-bot-test',\n",
    "    Delimiter='/',\n",
    "    Prefix='source-data/dc-open-data/'\n",
    ")"
   ]
  },
  {
   "cell_type": "code",
   "execution_count": null,
   "metadata": {},
   "outputs": [],
   "source": [
    "pprint.pprint(response)"
   ]
  },
  {
   "cell_type": "code",
   "execution_count": null,
   "metadata": {},
   "outputs": [],
   "source": [
    "for bucket in s3.buckets.filter(name='dc-crash-bot-test'):\n",
    "    print(bucket.name)\n",
    "    for obj in bucket.objects.filter(Prefix='source-data/dc-open-data/', Delimiter='/'):\n",
    "        print(obj.Object(),obj.Object().metadata )"
   ]
  },
  {
   "cell_type": "code",
   "execution_count": null,
   "metadata": {},
   "outputs": [],
   "source": [
    "for bucket in s3.buckets.all():\n",
    "    print(bucket.name)\n",
    "    for obj in bucket.objects.filter(Prefix=''):\n",
    "        print(obj)"
   ]
  },
  {
   "cell_type": "code",
   "execution_count": null,
   "metadata": {},
   "outputs": [],
   "source": [
    "for bucket in s3.buckets.all():\n",
    "    print(bucket.name)\n",
    "    for obj in bucket.objects.all():\n",
    "        print(obj)"
   ]
  },
  {
   "cell_type": "code",
   "execution_count": null,
   "metadata": {},
   "outputs": [],
   "source": [
    "for bucket in s3.buckets.all():\n",
    "    for obj in bucket.objects.all():\n",
    "        print(obj.key, obj.Object().metadata)"
   ]
  },
  {
   "cell_type": "code",
   "execution_count": null,
   "metadata": {},
   "outputs": [],
   "source": [
    "for bucket in s3.buckets.all():\n",
    "    print(bucket.name)\n",
    "    for obj in bucket.objects.filter(Prefix='source-data/dc-open-data/'):\n",
    "        print(obj.Name)"
   ]
  },
  {
   "cell_type": "code",
   "execution_count": null,
   "metadata": {},
   "outputs": [],
   "source": [
    "rds = boto3.client('rds')"
   ]
  },
  {
   "cell_type": "code",
   "execution_count": null,
   "metadata": {},
   "outputs": [],
   "source": [
    "# import boto3\n",
    "# import datetime\n",
    "\n",
    "# KEY = 'YOUR-KEY'\n",
    "# BUCKET = 'YOUR-BUCKET'\n",
    "\n",
    "# s3 = boto3.resource('s3')\n",
    "# bucket = s3.Bucket(BUCKET)\n",
    "# expire_time = datetime.datetime.now() + datetime.timedelta(days=5)\n",
    "\n",
    "# for summary in bucket.objects.all():\n",
    "#     if summary.key == KEY:\n",
    "#         target_object = summary.Object()\n",
    "#         target_object.put(Expires=expire_time)\n",
    "#         print(target_object.expires)"
   ]
  },
  {
   "cell_type": "code",
   "execution_count": null,
   "metadata": {},
   "outputs": [],
   "source": [
    "rds.describe_db_instances()"
   ]
  },
  {
   "cell_type": "code",
   "execution_count": null,
   "metadata": {},
   "outputs": [],
   "source": [
    "# import crash data\n",
    "crash_census_block_level = gpd.read_file('/Users/ag79732/census_block_level_final.geojson')"
   ]
  },
  {
   "cell_type": "code",
   "execution_count": null,
   "metadata": {},
   "outputs": [],
   "source": [
    "for column in crash_census_block_level.columns:\n",
    "    print(column)"
   ]
  },
  {
   "cell_type": "code",
   "execution_count": null,
   "metadata": {},
   "outputs": [],
   "source": [
    "# import crash data\n",
    "crash_details = gpd.read_file('/Users/ag79732/crashes_w_detail.geojson')"
   ]
  },
  {
   "cell_type": "code",
   "execution_count": null,
   "metadata": {},
   "outputs": [],
   "source": [
    "for column in crash_details.columns:\n",
    "    print(column)"
   ]
  },
  {
   "cell_type": "code",
   "execution_count": null,
   "metadata": {},
   "outputs": [],
   "source": [
    "len(crash_details)"
   ]
  },
  {
   "cell_type": "code",
   "execution_count": null,
   "metadata": {},
   "outputs": [],
   "source": []
  }
 ],
 "metadata": {
  "kernelspec": {
   "display_name": "crashbot venv",
   "language": "python",
   "name": "venv"
  },
  "language_info": {
   "codemirror_mode": {
    "name": "ipython",
    "version": 3
   },
   "file_extension": ".py",
   "mimetype": "text/x-python",
   "name": "python",
   "nbconvert_exporter": "python",
   "pygments_lexer": "ipython3",
   "version": "3.7.6"
  }
 },
 "nbformat": 4,
 "nbformat_minor": 4
}
