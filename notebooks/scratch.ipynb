{
 "cells": [
  {
   "cell_type": "code",
   "execution_count": 1,
   "metadata": {},
   "outputs": [],
   "source": [
    "import geopandas as gpd\n",
    "import pandas as pd\n",
    "from shapely.geometry import Point, LineString, Polygon\n",
    "import matplotlib\n",
    "import boto3\n",
    "import os\n",
    "from pathlib import Path"
   ]
  },
  {
   "cell_type": "code",
   "execution_count": 14,
   "metadata": {},
   "outputs": [],
   "source": [
    "s3 = boto3.resource('s3')"
   ]
  },
  {
   "cell_type": "code",
   "execution_count": 16,
   "metadata": {},
   "outputs": [
    {
     "name": "stdout",
     "output_type": "stream",
     "text": [
      "dc-crash-bot-test\n",
      "s3.ObjectSummary(bucket_name='dc-crash-bot-test', key='source-data/')\n",
      "s3.ObjectSummary(bucket_name='dc-crash-bot-test', key='source-data/dc-open-data/')\n",
      "s3.ObjectSummary(bucket_name='dc-crash-bot-test', key='source-data/pulsepoint/')\n"
     ]
    }
   ],
   "source": [
    "for bucket in s3.buckets.all():\n",
    "    print(bucket.name)\n",
    "    for obj in bucket.objects.filter(Prefix='source-data/'):\n",
    "        print(obj)"
   ]
  },
  {
   "cell_type": "code",
   "execution_count": 17,
   "metadata": {},
   "outputs": [
    {
     "name": "stdout",
     "output_type": "stream",
     "text": [
      "dc-crash-bot-test\n",
      "s3.ObjectSummary(bucket_name='dc-crash-bot-test', key='address_points.geojson')\n",
      "s3.ObjectSummary(bucket_name='dc-crash-bot-test', key='census_block_level_final.csv')\n",
      "s3.ObjectSummary(bucket_name='dc-crash-bot-test', key='census_block_level_final.geojson')\n",
      "s3.ObjectSummary(bucket_name='dc-crash-bot-test', key='census_blocks.geojson')\n",
      "s3.ObjectSummary(bucket_name='dc-crash-bot-test', key='crashes_w_detail.csv')\n",
      "s3.ObjectSummary(bucket_name='dc-crash-bot-test', key='crashes_w_detail.geojson')\n",
      "s3.ObjectSummary(bucket_name='dc-crash-bot-test', key='postgis-data/')\n",
      "s3.ObjectSummary(bucket_name='dc-crash-bot-test', key='source-data/')\n",
      "s3.ObjectSummary(bucket_name='dc-crash-bot-test', key='source-data/dc-open-data/')\n",
      "s3.ObjectSummary(bucket_name='dc-crash-bot-test', key='source-data/pulsepoint/')\n"
     ]
    }
   ],
   "source": [
    "for bucket in s3.buckets.all():\n",
    "    print(bucket.name)\n",
    "    for obj in bucket.objects.all():\n",
    "        print(obj)"
   ]
  },
  {
   "cell_type": "code",
   "execution_count": 18,
   "metadata": {},
   "outputs": [],
   "source": [
    "rds = boto3.client('rds')"
   ]
  },
  {
   "cell_type": "code",
   "execution_count": 23,
   "metadata": {},
   "outputs": [
    {
     "data": {
      "text/plain": [
       "{'DBInstances': [{'DBInstanceIdentifier': 'dc-crash-bot-test',\n",
       "   'DBInstanceClass': 'db.t2.micro',\n",
       "   'Engine': 'postgres',\n",
       "   'DBInstanceStatus': 'available',\n",
       "   'MasterUsername': 'postgresadmin',\n",
       "   'Endpoint': {'Address': 'dc-crash-bot-test.cw2qdhdq18cy.us-east-1.rds.amazonaws.com',\n",
       "    'Port': 5432,\n",
       "    'HostedZoneId': 'Z2R2ITUGPM61AM'},\n",
       "   'AllocatedStorage': 20,\n",
       "   'InstanceCreateTime': datetime.datetime(2020, 11, 12, 3, 13, 39, 2000, tzinfo=tzutc()),\n",
       "   'PreferredBackupWindow': '04:39-05:09',\n",
       "   'BackupRetentionPeriod': 7,\n",
       "   'DBSecurityGroups': [],\n",
       "   'VpcSecurityGroups': [{'VpcSecurityGroupId': 'sg-ec5556df',\n",
       "     'Status': 'active'}],\n",
       "   'DBParameterGroups': [{'DBParameterGroupName': 'default.postgres12',\n",
       "     'ParameterApplyStatus': 'in-sync'}],\n",
       "   'AvailabilityZone': 'us-east-1c',\n",
       "   'DBSubnetGroup': {'DBSubnetGroupName': 'default-vpc-48c90235',\n",
       "    'DBSubnetGroupDescription': 'Created from the RDS Management Console',\n",
       "    'VpcId': 'vpc-48c90235',\n",
       "    'SubnetGroupStatus': 'Complete',\n",
       "    'Subnets': [{'SubnetIdentifier': 'subnet-38b0ff75',\n",
       "      'SubnetAvailabilityZone': {'Name': 'us-east-1d'},\n",
       "      'SubnetOutpost': {},\n",
       "      'SubnetStatus': 'Active'},\n",
       "     {'SubnetIdentifier': 'subnet-579d2231',\n",
       "      'SubnetAvailabilityZone': {'Name': 'us-east-1b'},\n",
       "      'SubnetOutpost': {},\n",
       "      'SubnetStatus': 'Active'},\n",
       "     {'SubnetIdentifier': 'subnet-ed79badc',\n",
       "      'SubnetAvailabilityZone': {'Name': 'us-east-1e'},\n",
       "      'SubnetOutpost': {},\n",
       "      'SubnetStatus': 'Active'},\n",
       "     {'SubnetIdentifier': 'subnet-bb99e8b5',\n",
       "      'SubnetAvailabilityZone': {'Name': 'us-east-1f'},\n",
       "      'SubnetOutpost': {},\n",
       "      'SubnetStatus': 'Active'},\n",
       "     {'SubnetIdentifier': 'subnet-a82f9589',\n",
       "      'SubnetAvailabilityZone': {'Name': 'us-east-1c'},\n",
       "      'SubnetOutpost': {},\n",
       "      'SubnetStatus': 'Active'},\n",
       "     {'SubnetIdentifier': 'subnet-f449f1ab',\n",
       "      'SubnetAvailabilityZone': {'Name': 'us-east-1a'},\n",
       "      'SubnetOutpost': {},\n",
       "      'SubnetStatus': 'Active'}]},\n",
       "   'PreferredMaintenanceWindow': 'sat:09:56-sat:10:26',\n",
       "   'PendingModifiedValues': {},\n",
       "   'LatestRestorableTime': datetime.datetime(2020, 11, 19, 3, 28, 30, tzinfo=tzutc()),\n",
       "   'MultiAZ': False,\n",
       "   'EngineVersion': '12.3',\n",
       "   'AutoMinorVersionUpgrade': True,\n",
       "   'ReadReplicaDBInstanceIdentifiers': [],\n",
       "   'LicenseModel': 'postgresql-license',\n",
       "   'OptionGroupMemberships': [{'OptionGroupName': 'default:postgres-12',\n",
       "     'Status': 'in-sync'}],\n",
       "   'PubliclyAccessible': True,\n",
       "   'StorageType': 'gp2',\n",
       "   'DbInstancePort': 0,\n",
       "   'StorageEncrypted': False,\n",
       "   'DbiResourceId': 'db-22DG6I3W7QTXP6XF2FM7U5DR2Q',\n",
       "   'CACertificateIdentifier': 'rds-ca-2019',\n",
       "   'DomainMemberships': [],\n",
       "   'CopyTagsToSnapshot': True,\n",
       "   'MonitoringInterval': 60,\n",
       "   'EnhancedMonitoringResourceArn': 'arn:aws:logs:us-east-1:694036637993:log-group:RDSOSMetrics:log-stream:db-22DG6I3W7QTXP6XF2FM7U5DR2Q',\n",
       "   'MonitoringRoleArn': 'arn:aws:iam::694036637993:role/rds-monitoring-role',\n",
       "   'DBInstanceArn': 'arn:aws:rds:us-east-1:694036637993:db:dc-crash-bot-test',\n",
       "   'IAMDatabaseAuthenticationEnabled': False,\n",
       "   'PerformanceInsightsEnabled': False,\n",
       "   'DeletionProtection': False,\n",
       "   'AssociatedRoles': [{'RoleArn': 'arn:aws:iam::694036637993:role/rds-s3-import-role',\n",
       "     'FeatureName': 's3Import',\n",
       "     'Status': 'ACTIVE'}],\n",
       "   'MaxAllocatedStorage': 1000,\n",
       "   'TagList': []}],\n",
       " 'ResponseMetadata': {'RequestId': '5bef02d8-8386-4dc5-9a3c-111a5708cea9',\n",
       "  'HTTPStatusCode': 200,\n",
       "  'HTTPHeaders': {'x-amzn-requestid': '5bef02d8-8386-4dc5-9a3c-111a5708cea9',\n",
       "   'content-type': 'text/xml',\n",
       "   'content-length': '5989',\n",
       "   'vary': 'accept-encoding',\n",
       "   'date': 'Thu, 19 Nov 2020 03:34:04 GMT'},\n",
       "  'RetryAttempts': 0}}"
      ]
     },
     "execution_count": 23,
     "metadata": {},
     "output_type": "execute_result"
    }
   ],
   "source": [
    "rds.describe_db_instances()"
   ]
  },
  {
   "cell_type": "code",
   "execution_count": 21,
   "metadata": {},
   "outputs": [],
   "source": [
    "# import crash data\n",
    "crash_census_block_level = gpd.read_file('/Users/ag79732/census_block_level_final.geojson')"
   ]
  },
  {
   "cell_type": "code",
   "execution_count": 22,
   "metadata": {},
   "outputs": [
    {
     "name": "stdout",
     "output_type": "stream",
     "text": [
      "OBJECTID\n",
      "CRIMEID\n",
      "CCN\n",
      "REPORTDATE\n",
      "ROUTEID\n",
      "MEASURE\n",
      "OFFSET\n",
      "STREETSEGID\n",
      "ROADWAYSEGID\n",
      "FROMDATE\n",
      "TODATE\n",
      "MARID\n",
      "ADDRESS\n",
      "LATITUDE\n",
      "LONGITUDE\n",
      "XCOORD\n",
      "YCOORD\n",
      "WARD\n",
      "EVENTID\n",
      "MAR_ADDRESS\n",
      "MAR_SCORE\n",
      "MAJORINJURIES_BICYCLIST\n",
      "MINORINJURIES_BICYCLIST\n",
      "UNKNOWNINJURIES_BICYCLIST\n",
      "FATAL_BICYCLIST\n",
      "MAJORINJURIES_DRIVER\n",
      "MINORINJURIES_DRIVER\n",
      "UNKNOWNINJURIES_DRIVER\n",
      "FATAL_DRIVER\n",
      "MAJORINJURIES_PEDESTRIAN\n",
      "MINORINJURIES_PEDESTRIAN\n",
      "UNKNOWNINJURIES_PEDESTRIAN\n",
      "FATAL_PEDESTRIAN\n",
      "TOTAL_VEHICLES\n",
      "TOTAL_BICYCLES\n",
      "TOTAL_PEDESTRIANS\n",
      "PEDESTRIANSIMPAIRED\n",
      "BICYCLISTSIMPAIRED\n",
      "DRIVERSIMPAIRED\n",
      "TOTAL_TAXIS\n",
      "TOTAL_GOVERNMENT\n",
      "SPEEDING_INVOLVED\n",
      "NEARESTINTROUTEID\n",
      "NEARESTINTSTREETNAME\n",
      "OFFINTERSECTION\n",
      "INTAPPROACHDIRECTION\n",
      "LOCATIONERROR\n",
      "LASTUPDATEDATE\n",
      "MPDLATITUDE\n",
      "MPDLONGITUDE\n",
      "MPDGEOX\n",
      "MPDGEOY\n",
      "BLOCKKEY\n",
      "SUBBLOCKKEY\n",
      "FATALPASSENGER\n",
      "MAJORINJURIESPASSENGER\n",
      "MINORINJURIESPASSENGER\n",
      "UNKNOWNINJURIESPASSENGER\n",
      "YEAR\n",
      "PED_INJURIES\n",
      "BICYCLE_INJURIES\n",
      "VEHICLE_INJURIES\n",
      "TOTAL_INJURIES\n",
      "OOS_VEHICLES\n",
      "DRIVERS_UNDER_25\n",
      "DRIVERS_OVER_80\n",
      "PEDS_OVER_70\n",
      "PEDS_UNDER_12\n",
      "BIKERS_OVER_70\n",
      "BIKERS_UNDER_12\n",
      "CARS\n",
      "SUVS_OR_TRUCKS\n",
      "DRIVER_TICKETS\n",
      "BICYCLE_TICKETS\n",
      "PED_TICKETS\n",
      "DRIVERS_SPEEDING\n",
      "geometry\n"
     ]
    }
   ],
   "source": [
    "for column in crash_census_block_level.columns:\n",
    "    print(column)"
   ]
  },
  {
   "cell_type": "code",
   "execution_count": 8,
   "metadata": {},
   "outputs": [],
   "source": [
    "# import crash data\n",
    "crash_details = gpd.read_file('/Users/ag79732/crashes_w_detail.geojson')"
   ]
  },
  {
   "cell_type": "code",
   "execution_count": 9,
   "metadata": {},
   "outputs": [
    {
     "name": "stdout",
     "output_type": "stream",
     "text": [
      "OBJECTID\n",
      "CRIMEID\n",
      "CCN\n",
      "REPORTDATE\n",
      "ROUTEID\n",
      "MEASURE\n",
      "OFFSET\n",
      "STREETSEGID\n",
      "ROADWAYSEGID\n",
      "FROMDATE\n",
      "TODATE\n",
      "MARID\n",
      "ADDRESS\n",
      "LATITUDE\n",
      "LONGITUDE\n",
      "XCOORD\n",
      "YCOORD\n",
      "WARD\n",
      "EVENTID\n",
      "MAR_ADDRESS\n",
      "MAR_SCORE\n",
      "MAJORINJURIES_BICYCLIST\n",
      "MINORINJURIES_BICYCLIST\n",
      "UNKNOWNINJURIES_BICYCLIST\n",
      "FATAL_BICYCLIST\n",
      "MAJORINJURIES_DRIVER\n",
      "MINORINJURIES_DRIVER\n",
      "UNKNOWNINJURIES_DRIVER\n",
      "FATAL_DRIVER\n",
      "MAJORINJURIES_PEDESTRIAN\n",
      "MINORINJURIES_PEDESTRIAN\n",
      "UNKNOWNINJURIES_PEDESTRIAN\n",
      "FATAL_PEDESTRIAN\n",
      "TOTAL_VEHICLES\n",
      "TOTAL_BICYCLES\n",
      "TOTAL_PEDESTRIANS\n",
      "PEDESTRIANSIMPAIRED\n",
      "BICYCLISTSIMPAIRED\n",
      "DRIVERSIMPAIRED\n",
      "TOTAL_TAXIS\n",
      "TOTAL_GOVERNMENT\n",
      "SPEEDING_INVOLVED\n",
      "NEARESTINTROUTEID\n",
      "NEARESTINTSTREETNAME\n",
      "OFFINTERSECTION\n",
      "INTAPPROACHDIRECTION\n",
      "LOCATIONERROR\n",
      "LASTUPDATEDATE\n",
      "MPDLATITUDE\n",
      "MPDLONGITUDE\n",
      "MPDGEOX\n",
      "MPDGEOY\n",
      "BLOCKKEY\n",
      "SUBBLOCKKEY\n",
      "FATALPASSENGER\n",
      "MAJORINJURIESPASSENGER\n",
      "MINORINJURIESPASSENGER\n",
      "UNKNOWNINJURIESPASSENGER\n",
      "YEAR\n",
      "PED_INJURIES\n",
      "BICYCLE_INJURIES\n",
      "VEHICLE_INJURIES\n",
      "TOTAL_INJURIES\n",
      "OOS_VEHICLES\n",
      "DRIVERS_UNDER_25\n",
      "DRIVERS_OVER_80\n",
      "PEDS_OVER_70\n",
      "PEDS_UNDER_12\n",
      "BIKERS_OVER_70\n",
      "BIKERS_UNDER_12\n",
      "CARS\n",
      "SUVS_OR_TRUCKS\n",
      "DRIVER_TICKETS\n",
      "BICYCLE_TICKETS\n",
      "PED_TICKETS\n",
      "DRIVERS_SPEEDING\n",
      "geometry\n"
     ]
    }
   ],
   "source": [
    "for column in crash_details.columns:\n",
    "    print(column)"
   ]
  },
  {
   "cell_type": "code",
   "execution_count": 7,
   "metadata": {},
   "outputs": [],
   "source": [
    "len(crash_details)"
   ]
  },
  {
   "cell_type": "code",
   "execution_count": null,
   "metadata": {},
   "outputs": [],
   "source": []
  }
 ],
 "metadata": {
  "kernelspec": {
   "display_name": "crashbot venv",
   "language": "python",
   "name": "venv"
  },
  "language_info": {
   "codemirror_mode": {
    "name": "ipython",
    "version": 3
   },
   "file_extension": ".py",
   "mimetype": "text/x-python",
   "name": "python",
   "nbconvert_exporter": "python",
   "pygments_lexer": "ipython3",
   "version": "3.7.6"
  }
 },
 "nbformat": 4,
 "nbformat_minor": 4
}
