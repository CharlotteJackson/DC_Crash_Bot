{
 "cells": [
  {
   "cell_type": "code",
   "execution_count": 92,
   "metadata": {},
   "outputs": [],
   "source": [
    "import geopandas as gpd\n",
    "import pandas as pd\n",
    "from shapely.geometry import Point, LineString, Polygon, shape\n",
    "import matplotlib\n",
    "import boto3\n",
    "import os\n",
    "from pathlib import Path\n",
    "import pprint \n",
    "import requests\n",
    "import json\n",
    "import geojson\n",
    "import sys\n",
    "import datetime\n",
    "import time\n",
    "import arrow\n",
    "from datetime import datetime\n",
    "from dateutil import tz"
   ]
  },
  {
   "cell_type": "code",
   "execution_count": 93,
   "metadata": {},
   "outputs": [],
   "source": [
    "tz = tz.tzlocal()"
   ]
  },
  {
   "cell_type": "code",
   "execution_count": 94,
   "metadata": {},
   "outputs": [
    {
     "data": {
      "text/plain": [
       "tzlocal()"
      ]
     },
     "execution_count": 94,
     "metadata": {},
     "output_type": "execute_result"
    }
   ],
   "source": [
    "tz"
   ]
  },
  {
   "cell_type": "code",
   "execution_count": null,
   "metadata": {},
   "outputs": [],
   "source": [
    "print(arrow.get(\"2020:12:18:16:54:11\", \"YYYY-MM-DD T HH:mm:ss S\"))"
   ]
  },
  {
   "cell_type": "code",
   "execution_count": 90,
   "metadata": {},
   "outputs": [],
   "source": [
    "date=datetime.datetime.now()"
   ]
  },
  {
   "cell_type": "code",
   "execution_count": 69,
   "metadata": {},
   "outputs": [],
   "source": [
    "date1 = datetime.datetime.fromtimestamp(1432353600000/1e3)\n",
    "date1.tzinfo"
   ]
  },
  {
   "cell_type": "code",
   "execution_count": 91,
   "metadata": {},
   "outputs": [
    {
     "name": "stdout",
     "output_type": "stream",
     "text": [
      "None\n"
     ]
    }
   ],
   "source": [
    "print(date.tzinfo)"
   ]
  },
  {
   "cell_type": "code",
   "execution_count": 70,
   "metadata": {},
   "outputs": [],
   "source": [
    "date = datetime.datetime.fromtimestamp(1748062800000 / 1e3)\n",
    "date.tzinfo"
   ]
  },
  {
   "cell_type": "code",
   "execution_count": 76,
   "metadata": {},
   "outputs": [
    {
     "ename": "TypeError",
     "evalue": "integer argument expected, got float",
     "output_type": "error",
     "traceback": [
      "\u001b[0;31m---------------------------------------------------------------------------\u001b[0m",
      "\u001b[0;31mTypeError\u001b[0m                                 Traceback (most recent call last)",
      "\u001b[0;32m<ipython-input-76-21ffb0500f71>\u001b[0m in \u001b[0;36m<module>\u001b[0;34m\u001b[0m\n\u001b[0;32m----> 1\u001b[0;31m \u001b[0mdate2\u001b[0m \u001b[0;34m=\u001b[0m \u001b[0mtime\u001b[0m\u001b[0;34m.\u001b[0m\u001b[0mgmtime\u001b[0m\u001b[0;34m(\u001b[0m\u001b[0mdatetime\u001b[0m\u001b[0;34m.\u001b[0m\u001b[0mdatetime\u001b[0m\u001b[0;34m(\u001b[0m\u001b[0;36m1748062800000\u001b[0m\u001b[0;34m/\u001b[0m\u001b[0;36m1e3\u001b[0m\u001b[0;34m)\u001b[0m\u001b[0;34m)\u001b[0m\u001b[0;34m\u001b[0m\u001b[0;34m\u001b[0m\u001b[0m\n\u001b[0m\u001b[1;32m      2\u001b[0m \u001b[0mdate2\u001b[0m\u001b[0;34m.\u001b[0m\u001b[0mtzinfo\u001b[0m\u001b[0;34m\u001b[0m\u001b[0;34m\u001b[0m\u001b[0m\n",
      "\u001b[0;31mTypeError\u001b[0m: integer argument expected, got float"
     ]
    }
   ],
   "source": [
    "date2 = time.gmtime(datetime.datetime(1748062800000/1e3))\n",
    "date2.tzinfo"
   ]
  },
  {
   "cell_type": "code",
   "execution_count": 46,
   "metadata": {},
   "outputs": [
    {
     "data": {
      "text/plain": [
       "time.struct_time(tm_year=2025, tm_mon=5, tm_mday=24, tm_hour=5, tm_min=0, tm_sec=0, tm_wday=5, tm_yday=144, tm_isdst=0)"
      ]
     },
     "execution_count": 46,
     "metadata": {},
     "output_type": "execute_result"
    }
   ],
   "source": [
    "time.gmtime(1748062800000/1000.)"
   ]
  },
  {
   "cell_type": "code",
   "execution_count": null,
   "metadata": {},
   "outputs": [],
   "source": [
    "\"roadway_blocks\": {\n",
    "        'url':'https://opendata.arcgis.com/datasets/6fcba8618ae744949630da3ea12d90eb_163.geojson'\n",
    "        ,'prefix':'source-data/dc-open-data'\n",
    "        ,'metadata':{'target_schema':'source_data', 'dataset_info':'https://opendata.dc.gov/datasets/roadway-block'}\n",
    "    }\n",
    "    ,\"roadway_subblocks\": {\n",
    "        'url':'https://opendata.arcgis.com/datasets/df571ab7fea446e396bf2862d0ab6833_162.geojson'\n",
    "        ,'prefix':'source-data/dc-open-data'\n",
    "        ,'metadata':{'target_schema':'source_data', 'dataset_info':'https://opendata.dc.gov/datasets/roadway-subblock'}\n",
    "    }\n",
    "    ,\"roadway_blockface\": {\n",
    "        'url':'https://opendata.arcgis.com/datasets/47945b50c4f245b58850e81d297e90b9_164.geojson'\n",
    "        ,'prefix':'source-data/dc-open-data'\n",
    "        ,'metadata':{'target_schema':'source_data', 'dataset_info':'https://opendata.dc.gov/datasets/roadway-blockface'}\n",
    "    }\n",
    "    ,\"roadway_intersection_approach\": {\n",
    "        'url':'https://opendata.arcgis.com/datasets/a779d051865f461eb2a1f50f10940ec4_161.geojson'\n",
    "        ,'prefix':'source-data/dc-open-data'\n",
    "        ,'metadata':{'target_schema':'source_data', 'dataset_info':'https://opendata.dc.gov/datasets/roadway-intersection-approach'}"
   ]
  },
  {
   "cell_type": "code",
   "execution_count": null,
   "metadata": {},
   "outputs": [],
   "source": [
    "roadway_intersection_approach=gpd.read_file('https://opendata.arcgis.com/datasets/a779d051865f461eb2a1f50f10940ec4_161.geojson', n=10)"
   ]
  },
  {
   "cell_type": "code",
   "execution_count": null,
   "metadata": {},
   "outputs": [],
   "source": [
    "test_gdf=gpd.read_file('https://maps2.dcgis.dc.gov/dcgis/rest/services/DCGIS_DATA/Public_Safety_WebMercator/MapServer/24/query?where=REPORTDATE > CURRENT_TIMESTAMP - INTERVAL '1' DAY1%3D1&outFields=*&outSR=4326&f=json')"
   ]
  },
  {
   "cell_type": "code",
   "execution_count": 97,
   "metadata": {},
   "outputs": [],
   "source": [
    "endpoint = 'https://maps2.dcgis.dc.gov/dcgis/rest/services/DCGIS_DATA/Public_Safety_WebMercator/MapServer/24/query?'"
   ]
  },
  {
   "cell_type": "code",
   "execution_count": 105,
   "metadata": {},
   "outputs": [],
   "source": [
    "filters = {'where':'REPORTDATE >= CURRENT_TIMESTAMP - INTERVAL \\'1\\' DAY'\n",
    "           ,'outFields':'CRIMEID','returnGeometry':'false','f':'json'}"
   ]
  },
  {
   "cell_type": "code",
   "execution_count": 114,
   "metadata": {},
   "outputs": [],
   "source": [
    "filters = {'where':'REPORTDATE >= CURRENT_TIMESTAMP - INTERVAL \\'1\\' DAY'\n",
    "           ,'outFields':'*','outSR':'4326','returnGeometry':'true','f':'geojson'}"
   ]
  },
  {
   "cell_type": "code",
   "execution_count": null,
   "metadata": {},
   "outputs": [],
   "source": [
    "'endpoint': 'https://maps2.dcgis.dc.gov/dcgis/rest/services/DCGIS_APPS/SR_30days_Open/MapServer/0/query?'\n",
    "            , 'filters': {'where':'ADDATE >= CURRENT_TIMESTAMP - INTERVAL \\'1\\' DAY','outFields':'*','outSR':'4326','returnGeometry':'true','f':'geojson'}"
   ]
  },
  {
   "cell_type": "code",
   "execution_count": 16,
   "metadata": {},
   "outputs": [],
   "source": [
    "endpoint_3112='https://maps2.dcgis.dc.gov/dcgis/rest/services/DCGIS_DATA/ServiceRequests/MapServer/11/'"
   ]
  },
  {
   "cell_type": "code",
   "execution_count": 18,
   "metadata": {},
   "outputs": [],
   "source": [
    "endpoint_311 = 'https://maps2.dcgis.dc.gov/dcgis/rest/services/DCGIS_APPS/SR_30days_Open/MapServer/0/'\n",
    "filters_311 = {\n",
    "               'outFields':'*','outSR':'4326','returnGeometry':'true','f':'json'}"
   ]
  },
  {
   "cell_type": "code",
   "execution_count": 19,
   "metadata": {},
   "outputs": [
    {
     "name": "stdout",
     "output_type": "stream",
     "text": [
      "b'{\"currentVersion\":10.71,\"id\":11,\"name\":\"All Service Requests - 2020\",\"type\":\"Feature Layer\",\"description\":\"\",\"geometryType\":\"esriGeometryPoint\",\"sourceSpatialReference\":{\"wkid\":26985,\"latestWkid\":26985},\"copyrightText\":\"\",\"parentLayer\":null,\"subLayers\":[],\"minScale\":10000,\"maxScale\":0,\"drawingInfo\":{\"renderer\":{\"type\":\"simple\",\"symbol\":{\"type\":\"esriSMS\",\"style\":\"esriSMSCircle\",\"color\":[130,69,0,255],\"size\":4,\"angle\":0,\"xoffset\":0,\"yoffset\":0,\"outline\":{\"color\":[0,0,0,255],\"width\":1}},\"label\":\"\",\"description\":\"\"},\"transparency\":0,\"labelingInfo\":null},\"defaultVisibility\":false,\"extent\":{\"xmin\":389614.123499997,\"ymin\":126237.3156,\"xmax\":407881.65950000304,\"ymax\":147558.73299999902,\"spatialReference\":{\"wkid\":26985,\"latestWkid\":26985}},\"hasAttachments\":false,\"htmlPopupType\":\"esriServerHTMLPopupTypeAsHTMLText\",\"displayField\":\"INSPECTORNAME\",\"typeIdField\":null,\"subtypeFieldName\":null,\"subtypeField\":null,\"defaultSubtypeCode\":null,\"fields\":[{\"name\":\"OBJECTID\",\"type\":\"esriFieldTypeOID\",\"alias\":\"OBJECTID\",\"domain\":null},{\"name\":\"SERVICECODE\",\"type\":\"esriFieldTypeString\",\"alias\":\"SERVICECODE\",\"length\":50,\"domain\":null},{\"name\":\"SERVICECODEDESCRIPTION\",\"type\":\"esriFieldTypeString\",\"alias\":\"SERVICECODEDESCRIPTION\",\"length\":200,\"domain\":null},{\"name\":\"SERVICETYPECODEDESCRIPTION\",\"type\":\"esriFieldTypeString\",\"alias\":\"SERVICETYPECODEDESCRIPTION\",\"length\":100,\"domain\":null},{\"name\":\"ORGANIZATIONACRONYM\",\"type\":\"esriFieldTypeString\",\"alias\":\"ORGANIZATIONACRONYM\",\"length\":50,\"domain\":null},{\"name\":\"SERVICECALLCOUNT\",\"type\":\"esriFieldTypeSmallInteger\",\"alias\":\"SERVICECALLCOUNT\",\"domain\":null},{\"name\":\"ADDDATE\",\"type\":\"esriFieldTypeDate\",\"alias\":\"ADDDATE\",\"length\":8,\"domain\":null},{\"name\":\"RESOLUTIONDATE\",\"type\":\"esriFieldTypeDate\",\"alias\":\"RESOLUTIONDATE\",\"length\":8,\"domain\":null},{\"name\":\"SERVICEDUEDATE\",\"type\":\"esriFieldTypeDate\",\"alias\":\"SERVICEDUEDATE\",\"length\":8,\"domain\":null},{\"name\":\"SERVICEORDERDATE\",\"type\":\"esriFieldTypeDate\",\"alias\":\"SERVICEORDERDATE\",\"length\":8,\"domain\":null},{\"name\":\"INSPECTIONFLAG\",\"type\":\"esriFieldTypeString\",\"alias\":\"INSPECTIONFLAG\",\"length\":4000,\"domain\":null},{\"name\":\"INSPECTIONDATE\",\"type\":\"esriFieldTypeDate\",\"alias\":\"INSPECTIONDATE\",\"length\":8,\"domain\":null},{\"name\":\"INSPECTORNAME\",\"type\":\"esriFieldTypeString\",\"alias\":\"INSPECTORNAME\",\"length\":400,\"domain\":null},{\"name\":\"SERVICEORDERSTATUS\",\"type\":\"esriFieldTypeString\",\"alias\":\"SERVICEORDERSTATUS\",\"length\":4000,\"domain\":null},{\"name\":\"STATUS_CODE\",\"type\":\"esriFieldTypeString\",\"alias\":\"STATUS_CODE\",\"length\":50,\"domain\":null},{\"name\":\"SERVICEREQUESTID\",\"type\":\"esriFieldTypeString\",\"alias\":\"SERVICEREQUESTID\",\"length\":50,\"domain\":null},{\"name\":\"PRIORITY\",\"type\":\"esriFieldTypeString\",\"alias\":\"PRIORITY\",\"length\":10,\"domain\":null},{\"name\":\"STREETADDRESS\",\"type\":\"esriFieldTypeString\",\"alias\":\"STREETADDRESS\",\"length\":385,\"domain\":null},{\"name\":\"XCOORD\",\"type\":\"esriFieldTypeDouble\",\"alias\":\"XCOORD\",\"domain\":null},{\"name\":\"YCOORD\",\"type\":\"esriFieldTypeDouble\",\"alias\":\"YCOORD\",\"domain\":null},{\"name\":\"LATITUDE\",\"type\":\"esriFieldTypeDouble\",\"alias\":\"LATITUDE\",\"domain\":null},{\"name\":\"LONGITUDE\",\"type\":\"esriFieldTypeDouble\",\"alias\":\"LONGITUDE\",\"domain\":null},{\"name\":\"CITY\",\"type\":\"esriFieldTypeString\",\"alias\":\"CITY\",\"length\":20,\"domain\":null},{\"name\":\"STATE\",\"type\":\"esriFieldTypeString\",\"alias\":\"STATE\",\"length\":2,\"domain\":null},{\"name\":\"ZIPCODE\",\"type\":\"esriFieldTypeInteger\",\"alias\":\"ZIPCODE\",\"domain\":null},{\"name\":\"MARADDRESSREPOSITORYID\",\"type\":\"esriFieldTypeDouble\",\"alias\":\"MARADDRESSREPOSITORYID\",\"domain\":null},{\"name\":\"WARD\",\"type\":\"esriFieldTypeString\",\"alias\":\"WARD\",\"length\":6,\"domain\":null},{\"name\":\"DETAILS\",\"type\":\"esriFieldTypeString\",\"alias\":\"DETAILS\",\"length\":4000,\"domain\":null},{\"name\":\"SHAPE\",\"type\":\"esriFieldTypeGeometry\",\"alias\":\"SHAPE\",\"domain\":null}],\"geometryField\":{\"name\":\"SHAPE\",\"type\":\"esriFieldTypeGeometry\",\"alias\":\"SHAPE\"},\"indexes\":[{\"name\":\"R2022467_SDE_ROWID_UK\",\"fields\":\"OBJECTID\",\"isAscending\":true,\"isUnique\":true,\"description\":\"\"},{\"name\":\"SERVICEREQUESTPT_2020_IX1\",\"fields\":\"SERVICECODE\",\"isAscending\":true,\"isUnique\":false,\"description\":\"\"},{\"name\":\"SERVICEREQUESTPT_2020_IX2\",\"fields\":\"SERVICEREQUESTID\",\"isAscending\":true,\"isUnique\":false,\"description\":\"\"},{\"name\":\"SERVICEREQUESTPT_2020_SX\",\"fields\":\"SHAPE\",\"isAscending\":true,\"isUnique\":true,\"description\":\"\"}],\"subtypes\":[],\"relationships\":[],\"canModifyLayer\":false,\"canScaleSymbols\":false,\"hasLabels\":false,\"capabilities\":\"Map,Query,Data\",\"maxRecordCount\":1000,\"supportsStatistics\":true,\"supportsAdvancedQueries\":true,\"supportedQueryFormats\":\"JSON, geoJSON\",\"isDataVersioned\":false,\"ownershipBasedAccessControlForFeatures\":{\"allowOthersToQuery\":true},\"useStandardizedQueries\":true,\"advancedQueryCapabilities\":{\"useStandardizedQueries\":true,\"supportsStatistics\":true,\"supportsHavingClause\":true,\"supportsCountDistinct\":true,\"supportsOrderBy\":true,\"supportsDistinct\":true,\"supportsPagination\":false,\"supportsTrueCurve\":true,\"supportsReturningQueryExtent\":true,\"supportsQueryWithDistance\":true,\"supportsSqlExpression\":true},\"supportsDatumTransformation\":true,\"dateFieldsTimeReference\":null,\"supportsCoordinatesQuantization\":true}'\n"
     ]
    }
   ],
   "source": [
    "response = requests.get(endpoint_3112, params=filters_311)\n",
    "print(response.content)"
   ]
  },
  {
   "cell_type": "code",
   "execution_count": 7,
   "metadata": {},
   "outputs": [],
   "source": [
    "endpoint_311test='https://maps2.dcgis.dc.gov/dcgis/rest/services/DCGIS_APPS/SR_30days_Open/MapServer/0/query?where=1%3D1&outFields=*&outSR=4326&f=json'"
   ]
  },
  {
   "cell_type": "code",
   "execution_count": 8,
   "metadata": {},
   "outputs": [],
   "source": [
    "response = requests.get(endpoint_311test)\n",
    "print(response.content)"
   ]
  },
  {
   "cell_type": "code",
   "execution_count": null,
   "metadata": {},
   "outputs": [],
   "source": [
    "'where':'ADDATE >= CURRENT_TIMESTAMP - INTERVAL \\'1\\' DAY'"
   ]
  },
  {
   "cell_type": "code",
   "execution_count": 115,
   "metadata": {},
   "outputs": [
    {
     "name": "stdout",
     "output_type": "stream",
     "text": [
      "b'{\"type\":\"FeatureCollection\",\"crs\":{\"type\":\"name\",\"properties\":{\"name\":\"EPSG:4326\"}},\"features\":[{\"type\":\"Feature\",\"id\":179786494,\"geometry\":{\"type\":\"Point\",\"coordinates\":[-76.990196618058334,38.834819267796213,0,null]},\"properties\":{\"OBJECTID\":179786494,\"CRIMEID\":25279336,\"CCN\":\"15075675\",\"REPORTDATE\":1748062800000,\"ROUTEID\":\"13024322\",\"MEASURE\":236.99000000000001,\"OFFSET\":37.670000000000002,\"STREETSEGID\":-9,\"ROADWAYSEGID\":30197,\"FROMDATE\":1432353600000,\"TODATE\":null,\"MARID\":280198,\"ADDRESS\":\"4013 COLE BLVD SE\",\"LATITUDE\":38.834769999999999,\"LONGITUDE\":-76.990624999999994,\"XCOORD\":400813.94500000001,\"YCOORD\":129664.333,\"WARD\":\"Ward 8\",\"EVENTID\":\"{F0B4515C-A52B-4BF3-B1FB-BA213C32C0C1}\",\"MAR_ADDRESS\":\"4013 COLE BOULEVARD SE\",\"MAR_SCORE\":100,\"MAJORINJURIES_BICYCLIST\":0,\"MINORINJURIES_BICYCLIST\":0,\"UNKNOWNINJURIES_BICYCLIST\":0,\"FATAL_BICYCLIST\":0,\"MAJORINJURIES_DRIVER\":0,\"MINORINJURIES_DRIVER\":0,\"UNKNOWNINJURIES_DRIVER\":0,\"FATAL_DRIVER\":0,\"MAJORINJURIES_PEDESTRIAN\":0,\"MINORINJURIES_PEDESTRIAN\":0,\"UNKNOWNINJURIES_PEDESTRIAN\":0,\"FATAL_PEDESTRIAN\":0,\"TOTAL_VEHICLES\":2,\"TOTAL_BICYCLES\":0,\"TOTAL_PEDESTRIANS\":0,\"PEDESTRIANSIMPAIRED\":0,\"BICYCLISTSIMPAIRED\":0,\"DRIVERSIMPAIRED\":0,\"TOTAL_TAXIS\":0,\"TOTAL_GOVERNMENT\":0,\"SPEEDING_INVOLVED\":0,\"NEARESTINTROUTEID\":\"13090412\",\"NEARESTINTSTREETNAME\":\"WAHLER PL SE\",\"OFFINTERSECTION\":8.4399999999999995,\"INTAPPROACHDIRECTION\":\"North\",\"LOCATIONERROR\":null,\"LASTUPDATEDATE\":null,\"MPDLATITUDE\":null,\"MPDLONGITUDE\":null,\"MPDGEOX\":null,\"MPDGEOY\":null,\"BLOCKKEY\":\"b1f409e88e9c0cb5e9b106689b0a0a16\",\"SUBBLOCKKEY\":\"4944578c68ca5d1e739de284f592bed1\",\"FATALPASSENGER\":0,\"MAJORINJURIESPASSENGER\":0,\"MINORINJURIESPASSENGER\":0,\"UNKNOWNINJURIESPASSENGER\":0}}]}'\n"
     ]
    }
   ],
   "source": [
    "response = requests.get(endpoint, params=filters)\n",
    "print(response.content)"
   ]
  },
  {
   "cell_type": "code",
   "execution_count": 113,
   "metadata": {},
   "outputs": [
    {
     "name": "stdout",
     "output_type": "stream",
     "text": [
      "{'crs': {'properties': {'name': 'EPSG:4326'}, 'type': 'name'},\n",
      " 'features': [{'geometry': {'coordinates': [-76.99019661805833,\n",
      "                                            38.83481926779621,\n",
      "                                            0,\n",
      "                                            None],\n",
      "                            'type': 'Point'},\n",
      "               'id': 179786494,\n",
      "               'properties': {'ADDRESS': '4013 COLE BLVD SE',\n",
      "                              'BICYCLISTSIMPAIRED': 0,\n",
      "                              'BLOCKKEY': 'b1f409e88e9c0cb5e9b106689b0a0a16',\n",
      "                              'CCN': '15075675',\n",
      "                              'CRIMEID': 25279336,\n",
      "                              'DRIVERSIMPAIRED': 0,\n",
      "                              'EVENTID': '{F0B4515C-A52B-4BF3-B1FB-BA213C32C0C1}',\n",
      "                              'FATALPASSENGER': 0,\n",
      "                              'FATAL_BICYCLIST': 0,\n",
      "                              'FATAL_DRIVER': 0,\n",
      "                              'FATAL_PEDESTRIAN': 0,\n",
      "                              'FROMDATE': 1432353600000,\n",
      "                              'INTAPPROACHDIRECTION': 'North',\n",
      "                              'LASTUPDATEDATE': None,\n",
      "                              'LATITUDE': 38.83477,\n",
      "                              'LOCATIONERROR': None,\n",
      "                              'LONGITUDE': -76.990625,\n",
      "                              'MAJORINJURIESPASSENGER': 0,\n",
      "                              'MAJORINJURIES_BICYCLIST': 0,\n",
      "                              'MAJORINJURIES_DRIVER': 0,\n",
      "                              'MAJORINJURIES_PEDESTRIAN': 0,\n",
      "                              'MARID': 280198,\n",
      "                              'MAR_ADDRESS': '4013 COLE BOULEVARD SE',\n",
      "                              'MAR_SCORE': 100,\n",
      "                              'MEASURE': 236.99,\n",
      "                              'MINORINJURIESPASSENGER': 0,\n",
      "                              'MINORINJURIES_BICYCLIST': 0,\n",
      "                              'MINORINJURIES_DRIVER': 0,\n",
      "                              'MINORINJURIES_PEDESTRIAN': 0,\n",
      "                              'MPDGEOX': None,\n",
      "                              'MPDGEOY': None,\n",
      "                              'MPDLATITUDE': None,\n",
      "                              'MPDLONGITUDE': None,\n",
      "                              'NEARESTINTROUTEID': '13090412',\n",
      "                              'NEARESTINTSTREETNAME': 'WAHLER PL SE',\n",
      "                              'OBJECTID': 179786494,\n",
      "                              'OFFINTERSECTION': 8.44,\n",
      "                              'OFFSET': 37.67,\n",
      "                              'PEDESTRIANSIMPAIRED': 0,\n",
      "                              'REPORTDATE': 1748062800000,\n",
      "                              'ROADWAYSEGID': 30197,\n",
      "                              'ROUTEID': '13024322',\n",
      "                              'SPEEDING_INVOLVED': 0,\n",
      "                              'STREETSEGID': -9,\n",
      "                              'SUBBLOCKKEY': '4944578c68ca5d1e739de284f592bed1',\n",
      "                              'TODATE': None,\n",
      "                              'TOTAL_BICYCLES': 0,\n",
      "                              'TOTAL_GOVERNMENT': 0,\n",
      "                              'TOTAL_PEDESTRIANS': 0,\n",
      "                              'TOTAL_TAXIS': 0,\n",
      "                              'TOTAL_VEHICLES': 2,\n",
      "                              'UNKNOWNINJURIESPASSENGER': 0,\n",
      "                              'UNKNOWNINJURIES_BICYCLIST': 0,\n",
      "                              'UNKNOWNINJURIES_DRIVER': 0,\n",
      "                              'UNKNOWNINJURIES_PEDESTRIAN': 0,\n",
      "                              'WARD': 'Ward 8',\n",
      "                              'XCOORD': 400813.945,\n",
      "                              'YCOORD': 129664.333},\n",
      "               'type': 'Feature'}],\n",
      " 'type': 'FeatureCollection'}\n"
     ]
    }
   ],
   "source": [
    "pprint.pprint(json.loads(response.content))"
   ]
  },
  {
   "cell_type": "code",
   "execution_count": 128,
   "metadata": {},
   "outputs": [],
   "source": [
    "data = json.loads(response.text)\n",
    "with open('/Users/ag79732/data.json', 'w+') as outfile:\n",
    "        json.dump(data, outfile, indent=4)"
   ]
  },
  {
   "cell_type": "code",
   "execution_count": 120,
   "metadata": {},
   "outputs": [
    {
     "name": "stdout",
     "output_type": "stream",
     "text": [
      "/Users/ag79732/GitHub/DC_Crash_Bot/notebooks\n"
     ]
    }
   ],
   "source": [
    "print(os.getcwd())"
   ]
  },
  {
   "cell_type": "code",
   "execution_count": 127,
   "metadata": {},
   "outputs": [],
   "source": [
    "sys.path.append(os.path.expanduser('~'))"
   ]
  },
  {
   "cell_type": "code",
   "execution_count": 129,
   "metadata": {},
   "outputs": [],
   "source": [
    "test=gpd.read_file('/Users/ag79732/data.json')"
   ]
  },
  {
   "cell_type": "code",
   "execution_count": null,
   "metadata": {},
   "outputs": [],
   "source": [
    "crash_details.geometry = crash_details.geometry.set_crs(epsg=4326)"
   ]
  },
  {
   "cell_type": "code",
   "execution_count": 75,
   "metadata": {},
   "outputs": [
    {
     "data": {
      "text/plain": [
       "'geometry'"
      ]
     },
     "execution_count": 75,
     "metadata": {},
     "output_type": "execute_result"
    }
   ],
   "source": [
    "test.geometry.name"
   ]
  },
  {
   "cell_type": "code",
   "execution_count": 76,
   "metadata": {},
   "outputs": [
    {
     "data": {
      "text/plain": [
       "0    Point\n",
       "dtype: object"
      ]
     },
     "execution_count": 76,
     "metadata": {},
     "output_type": "execute_result"
    }
   ],
   "source": [
    "test.geometry.type"
   ]
  },
  {
   "cell_type": "code",
   "execution_count": 77,
   "metadata": {},
   "outputs": [
    {
     "data": {
      "text/plain": [
       "<Geographic 2D CRS: EPSG:4326>\n",
       "Name: WGS 84\n",
       "Axis Info [ellipsoidal]:\n",
       "- Lat[north]: Geodetic latitude (degree)\n",
       "- Lon[east]: Geodetic longitude (degree)\n",
       "Area of Use:\n",
       "- name: World\n",
       "- bounds: (-180.0, -90.0, 180.0, 90.0)\n",
       "Datum: World Geodetic System 1984\n",
       "- Ellipsoid: WGS 84\n",
       "- Prime Meridian: Greenwich"
      ]
     },
     "execution_count": 77,
     "metadata": {},
     "output_type": "execute_result"
    }
   ],
   "source": [
    "test.geometry.crs"
   ]
  },
  {
   "cell_type": "code",
   "execution_count": 130,
   "metadata": {},
   "outputs": [
    {
     "data": {
      "text/html": [
       "<div>\n",
       "<style scoped>\n",
       "    .dataframe tbody tr th:only-of-type {\n",
       "        vertical-align: middle;\n",
       "    }\n",
       "\n",
       "    .dataframe tbody tr th {\n",
       "        vertical-align: top;\n",
       "    }\n",
       "\n",
       "    .dataframe thead th {\n",
       "        text-align: right;\n",
       "    }\n",
       "</style>\n",
       "<table border=\"1\" class=\"dataframe\">\n",
       "  <thead>\n",
       "    <tr style=\"text-align: right;\">\n",
       "      <th></th>\n",
       "      <th>OBJECTID</th>\n",
       "      <th>CRIMEID</th>\n",
       "      <th>CCN</th>\n",
       "      <th>REPORTDATE</th>\n",
       "      <th>ROUTEID</th>\n",
       "      <th>MEASURE</th>\n",
       "      <th>OFFSET</th>\n",
       "      <th>STREETSEGID</th>\n",
       "      <th>ROADWAYSEGID</th>\n",
       "      <th>FROMDATE</th>\n",
       "      <th>...</th>\n",
       "      <th>MPDLONGITUDE</th>\n",
       "      <th>MPDGEOX</th>\n",
       "      <th>MPDGEOY</th>\n",
       "      <th>BLOCKKEY</th>\n",
       "      <th>SUBBLOCKKEY</th>\n",
       "      <th>FATALPASSENGER</th>\n",
       "      <th>MAJORINJURIESPASSENGER</th>\n",
       "      <th>MINORINJURIESPASSENGER</th>\n",
       "      <th>UNKNOWNINJURIESPASSENGER</th>\n",
       "      <th>geometry</th>\n",
       "    </tr>\n",
       "  </thead>\n",
       "  <tbody>\n",
       "    <tr>\n",
       "      <th>0</th>\n",
       "      <td>179786494</td>\n",
       "      <td>25279336</td>\n",
       "      <td>15075675</td>\n",
       "      <td>1748062800000</td>\n",
       "      <td>13024322</td>\n",
       "      <td>236.99</td>\n",
       "      <td>37.67</td>\n",
       "      <td>-9</td>\n",
       "      <td>30197</td>\n",
       "      <td>1432353600000</td>\n",
       "      <td>...</td>\n",
       "      <td>None</td>\n",
       "      <td>None</td>\n",
       "      <td>None</td>\n",
       "      <td>b1f409e88e9c0cb5e9b106689b0a0a16</td>\n",
       "      <td>4944578c68ca5d1e739de284f592bed1</td>\n",
       "      <td>0</td>\n",
       "      <td>0</td>\n",
       "      <td>0</td>\n",
       "      <td>0</td>\n",
       "      <td>POINT Z (-76.99020 38.83482 0.00000)</td>\n",
       "    </tr>\n",
       "  </tbody>\n",
       "</table>\n",
       "<p>1 rows × 59 columns</p>\n",
       "</div>"
      ],
      "text/plain": [
       "    OBJECTID   CRIMEID       CCN     REPORTDATE   ROUTEID  MEASURE  OFFSET  \\\n",
       "0  179786494  25279336  15075675  1748062800000  13024322   236.99   37.67   \n",
       "\n",
       "   STREETSEGID  ROADWAYSEGID       FROMDATE  ... MPDLONGITUDE  MPDGEOX  \\\n",
       "0           -9         30197  1432353600000  ...         None     None   \n",
       "\n",
       "  MPDGEOY                          BLOCKKEY                       SUBBLOCKKEY  \\\n",
       "0    None  b1f409e88e9c0cb5e9b106689b0a0a16  4944578c68ca5d1e739de284f592bed1   \n",
       "\n",
       "   FATALPASSENGER  MAJORINJURIESPASSENGER MINORINJURIESPASSENGER  \\\n",
       "0               0                       0                      0   \n",
       "\n",
       "  UNKNOWNINJURIESPASSENGER                              geometry  \n",
       "0                        0  POINT Z (-76.99020 38.83482 0.00000)  \n",
       "\n",
       "[1 rows x 59 columns]"
      ]
     },
     "execution_count": 130,
     "metadata": {},
     "output_type": "execute_result"
    }
   ],
   "source": [
    "test.head()"
   ]
  },
  {
   "cell_type": "code",
   "execution_count": 65,
   "metadata": {},
   "outputs": [
    {
     "data": {
      "text/html": [
       "<div>\n",
       "<style scoped>\n",
       "    .dataframe tbody tr th:only-of-type {\n",
       "        vertical-align: middle;\n",
       "    }\n",
       "\n",
       "    .dataframe tbody tr th {\n",
       "        vertical-align: top;\n",
       "    }\n",
       "\n",
       "    .dataframe thead th {\n",
       "        text-align: right;\n",
       "    }\n",
       "</style>\n",
       "<table border=\"1\" class=\"dataframe\">\n",
       "  <thead>\n",
       "    <tr style=\"text-align: right;\">\n",
       "      <th></th>\n",
       "      <th>OBJECTID</th>\n",
       "      <th>CRIMEID</th>\n",
       "      <th>CCN</th>\n",
       "      <th>REPORTDATE</th>\n",
       "      <th>ROUTEID</th>\n",
       "      <th>MEASURE</th>\n",
       "      <th>OFFSET</th>\n",
       "      <th>STREETSEGID</th>\n",
       "      <th>ROADWAYSEGID</th>\n",
       "      <th>FROMDATE</th>\n",
       "      <th>...</th>\n",
       "      <th>PEDS_UNDER_12</th>\n",
       "      <th>BIKERS_OVER_70</th>\n",
       "      <th>BIKERS_UNDER_12</th>\n",
       "      <th>CARS</th>\n",
       "      <th>SUVS_OR_TRUCKS</th>\n",
       "      <th>DRIVER_TICKETS</th>\n",
       "      <th>BICYCLE_TICKETS</th>\n",
       "      <th>PED_TICKETS</th>\n",
       "      <th>DRIVERS_SPEEDING</th>\n",
       "      <th>geometry</th>\n",
       "    </tr>\n",
       "  </thead>\n",
       "  <tbody>\n",
       "    <tr>\n",
       "      <th>0</th>\n",
       "      <td>172827129</td>\n",
       "      <td>26622942</td>\n",
       "      <td>10053160</td>\n",
       "      <td>2010-04-22T05:00:00+00:00</td>\n",
       "      <td>12064612</td>\n",
       "      <td>601.39</td>\n",
       "      <td>22.52</td>\n",
       "      <td>7647.0</td>\n",
       "      <td>6852.0</td>\n",
       "      <td>2010-04-22T04:00:00+00:00</td>\n",
       "      <td>...</td>\n",
       "      <td>0.0</td>\n",
       "      <td>0.0</td>\n",
       "      <td>0.0</td>\n",
       "      <td>1.0</td>\n",
       "      <td>0.0</td>\n",
       "      <td>0.0</td>\n",
       "      <td>0.0</td>\n",
       "      <td>0.0</td>\n",
       "      <td>0.0</td>\n",
       "      <td>POINT Z (-76.98645 38.93377 0.00000)</td>\n",
       "    </tr>\n",
       "    <tr>\n",
       "      <th>1</th>\n",
       "      <td>172827130</td>\n",
       "      <td>26622944</td>\n",
       "      <td>10053383</td>\n",
       "      <td>2010-04-22T05:00:00+00:00</td>\n",
       "      <td>12044072</td>\n",
       "      <td>3294.22</td>\n",
       "      <td>0.07</td>\n",
       "      <td>11706.0</td>\n",
       "      <td>35923.0</td>\n",
       "      <td>2010-04-21T04:00:00+00:00</td>\n",
       "      <td>...</td>\n",
       "      <td>0.0</td>\n",
       "      <td>0.0</td>\n",
       "      <td>0.0</td>\n",
       "      <td>1.0</td>\n",
       "      <td>1.0</td>\n",
       "      <td>0.0</td>\n",
       "      <td>0.0</td>\n",
       "      <td>0.0</td>\n",
       "      <td>0.0</td>\n",
       "      <td>POINT Z (-76.92257 38.89935 0.00000)</td>\n",
       "    </tr>\n",
       "    <tr>\n",
       "      <th>2</th>\n",
       "      <td>172827131</td>\n",
       "      <td>26622947</td>\n",
       "      <td>10046942</td>\n",
       "      <td>2010-04-10T05:00:00+00:00</td>\n",
       "      <td>13031332</td>\n",
       "      <td>4472.32</td>\n",
       "      <td>0.01</td>\n",
       "      <td>7953.0</td>\n",
       "      <td>8816.0</td>\n",
       "      <td>2010-04-10T04:00:00+00:00</td>\n",
       "      <td>...</td>\n",
       "      <td>0.0</td>\n",
       "      <td>0.0</td>\n",
       "      <td>0.0</td>\n",
       "      <td>0.0</td>\n",
       "      <td>0.0</td>\n",
       "      <td>0.0</td>\n",
       "      <td>0.0</td>\n",
       "      <td>0.0</td>\n",
       "      <td>1.0</td>\n",
       "      <td>POINT Z (-76.92421 38.88165 0.00000)</td>\n",
       "    </tr>\n",
       "    <tr>\n",
       "      <th>3</th>\n",
       "      <td>172827132</td>\n",
       "      <td>26622949</td>\n",
       "      <td>10047964</td>\n",
       "      <td>2010-04-12T05:00:00+00:00</td>\n",
       "      <td>11025152</td>\n",
       "      <td>6217.66</td>\n",
       "      <td>0.00</td>\n",
       "      <td>9956.0</td>\n",
       "      <td>8322.0</td>\n",
       "      <td>2010-04-12T04:00:00+00:00</td>\n",
       "      <td>...</td>\n",
       "      <td>0.0</td>\n",
       "      <td>0.0</td>\n",
       "      <td>0.0</td>\n",
       "      <td>4.0</td>\n",
       "      <td>0.0</td>\n",
       "      <td>0.0</td>\n",
       "      <td>0.0</td>\n",
       "      <td>0.0</td>\n",
       "      <td>0.0</td>\n",
       "      <td>POINT Z (-77.06813 38.95210 0.00000)</td>\n",
       "    </tr>\n",
       "    <tr>\n",
       "      <th>4</th>\n",
       "      <td>172827133</td>\n",
       "      <td>26622953</td>\n",
       "      <td>10046338</td>\n",
       "      <td>2010-04-09T05:00:00+00:00</td>\n",
       "      <td>11087232</td>\n",
       "      <td>1394.60</td>\n",
       "      <td>45.44</td>\n",
       "      <td>-9.0</td>\n",
       "      <td>29149.0</td>\n",
       "      <td>2010-04-09T04:00:00+00:00</td>\n",
       "      <td>...</td>\n",
       "      <td>0.0</td>\n",
       "      <td>0.0</td>\n",
       "      <td>0.0</td>\n",
       "      <td>1.0</td>\n",
       "      <td>0.0</td>\n",
       "      <td>0.0</td>\n",
       "      <td>0.0</td>\n",
       "      <td>0.0</td>\n",
       "      <td>0.0</td>\n",
       "      <td>POINT Z (-77.03030 38.91701 0.00000)</td>\n",
       "    </tr>\n",
       "  </tbody>\n",
       "</table>\n",
       "<p>5 rows × 77 columns</p>\n",
       "</div>"
      ],
      "text/plain": [
       "    OBJECTID   CRIMEID       CCN                 REPORTDATE   ROUTEID  \\\n",
       "0  172827129  26622942  10053160  2010-04-22T05:00:00+00:00  12064612   \n",
       "1  172827130  26622944  10053383  2010-04-22T05:00:00+00:00  12044072   \n",
       "2  172827131  26622947  10046942  2010-04-10T05:00:00+00:00  13031332   \n",
       "3  172827132  26622949  10047964  2010-04-12T05:00:00+00:00  11025152   \n",
       "4  172827133  26622953  10046338  2010-04-09T05:00:00+00:00  11087232   \n",
       "\n",
       "   MEASURE  OFFSET  STREETSEGID  ROADWAYSEGID                   FROMDATE  ...  \\\n",
       "0   601.39   22.52       7647.0        6852.0  2010-04-22T04:00:00+00:00  ...   \n",
       "1  3294.22    0.07      11706.0       35923.0  2010-04-21T04:00:00+00:00  ...   \n",
       "2  4472.32    0.01       7953.0        8816.0  2010-04-10T04:00:00+00:00  ...   \n",
       "3  6217.66    0.00       9956.0        8322.0  2010-04-12T04:00:00+00:00  ...   \n",
       "4  1394.60   45.44         -9.0       29149.0  2010-04-09T04:00:00+00:00  ...   \n",
       "\n",
       "  PEDS_UNDER_12  BIKERS_OVER_70 BIKERS_UNDER_12  CARS  SUVS_OR_TRUCKS  \\\n",
       "0           0.0             0.0             0.0   1.0             0.0   \n",
       "1           0.0             0.0             0.0   1.0             1.0   \n",
       "2           0.0             0.0             0.0   0.0             0.0   \n",
       "3           0.0             0.0             0.0   4.0             0.0   \n",
       "4           0.0             0.0             0.0   1.0             0.0   \n",
       "\n",
       "   DRIVER_TICKETS  BICYCLE_TICKETS PED_TICKETS DRIVERS_SPEEDING  \\\n",
       "0             0.0              0.0         0.0              0.0   \n",
       "1             0.0              0.0         0.0              0.0   \n",
       "2             0.0              0.0         0.0              1.0   \n",
       "3             0.0              0.0         0.0              0.0   \n",
       "4             0.0              0.0         0.0              0.0   \n",
       "\n",
       "                               geometry  \n",
       "0  POINT Z (-76.98645 38.93377 0.00000)  \n",
       "1  POINT Z (-76.92257 38.89935 0.00000)  \n",
       "2  POINT Z (-76.92421 38.88165 0.00000)  \n",
       "3  POINT Z (-77.06813 38.95210 0.00000)  \n",
       "4  POINT Z (-77.03030 38.91701 0.00000)  \n",
       "\n",
       "[5 rows x 77 columns]"
      ]
     },
     "execution_count": 65,
     "metadata": {},
     "output_type": "execute_result"
    }
   ],
   "source": [
    "crash_details.head()"
   ]
  },
  {
   "cell_type": "code",
   "execution_count": null,
   "metadata": {},
   "outputs": [],
   "source": [
    "for column in roadway_intersection_approach.columns:\n",
    "    print(column)"
   ]
  },
  {
   "cell_type": "code",
   "execution_count": null,
   "metadata": {},
   "outputs": [],
   "source": []
  },
  {
   "cell_type": "code",
   "execution_count": null,
   "metadata": {},
   "outputs": [],
   "source": [
    "workorders=gpd.read_file('https://opendata.arcgis.com/datasets/a1dd480eb86445239c8129056ab05ade_0.geojson',n=10)"
   ]
  },
  {
   "cell_type": "code",
   "execution_count": null,
   "metadata": {},
   "outputs": [],
   "source": [
    "for column in workorders.columns:\n",
    "    print(column)"
   ]
  },
  {
   "cell_type": "code",
   "execution_count": null,
   "metadata": {},
   "outputs": [],
   "source": [
    "roadway_blockface=gpd.read_file('https://opendata.arcgis.com/datasets/47945b50c4f245b58850e81d297e90b9_164.geojson',n=10)"
   ]
  },
  {
   "cell_type": "code",
   "execution_count": null,
   "metadata": {},
   "outputs": [],
   "source": [
    "for column in roadway_blockface.columns:\n",
    "    print(column)"
   ]
  },
  {
   "cell_type": "code",
   "execution_count": null,
   "metadata": {},
   "outputs": [],
   "source": [
    "# import crash data\n",
    "roadway_blocks = gpd.read_file('https://opendata.arcgis.com/datasets/6fcba8618ae744949630da3ea12d90eb_163.geojson',n=10)"
   ]
  },
  {
   "cell_type": "code",
   "execution_count": null,
   "metadata": {},
   "outputs": [],
   "source": [
    "roadway_subblocks=gpd.read_file('https://opendata.arcgis.com/datasets/df571ab7fea446e396bf2862d0ab6833_162.geojson', n=10)"
   ]
  },
  {
   "cell_type": "code",
   "execution_count": null,
   "metadata": {},
   "outputs": [],
   "source": [
    "for column in roadway_subblocks.columns:\n",
    "    print(column)"
   ]
  },
  {
   "cell_type": "code",
   "execution_count": null,
   "metadata": {},
   "outputs": [],
   "source": [
    "for column in roadway_subblocks.columns:\n",
    "    if column not in roadway_blocks.columns:\n",
    "        print(column)"
   ]
  },
  {
   "cell_type": "code",
   "execution_count": null,
   "metadata": {},
   "outputs": [],
   "source": [
    "for column in roadway_blocks.columns:\n",
    "    if column not in roadway_subblocks.columns:\n",
    "        print(column)"
   ]
  },
  {
   "cell_type": "code",
   "execution_count": null,
   "metadata": {},
   "outputs": [],
   "source": [
    "for column in roadway_blocks.columns:\n",
    "    print(column)"
   ]
  },
  {
   "cell_type": "code",
   "execution_count": 21,
   "metadata": {},
   "outputs": [],
   "source": [
    "s3 = boto3.resource('s3')"
   ]
  },
  {
   "cell_type": "code",
   "execution_count": 86,
   "metadata": {},
   "outputs": [],
   "source": [
    "client=boto3.client('s3')"
   ]
  },
  {
   "cell_type": "code",
   "execution_count": 87,
   "metadata": {},
   "outputs": [],
   "source": [
    "bucket = s3.Bucket('dc-crash-bot-test')"
   ]
  },
  {
   "cell_type": "code",
   "execution_count": 88,
   "metadata": {
    "scrolled": false
   },
   "outputs": [
    {
     "name": "stdout",
     "output_type": "stream",
     "text": [
      "source-data/pulsepoint/unparsed/pulsepoint2020:12:21:05:10:01.json 2020-12-24 23:44:49+00:00\n",
      "source-data/pulsepoint/unparsed/pulsepoint2020:12:21:05:20:01.json 2020-12-24 23:44:49+00:00\n",
      "source-data/pulsepoint/unparsed/pulsepoint2020:12:21:05:30:01.json 2020-12-24 23:44:49+00:00\n",
      "source-data/pulsepoint/unparsed/pulsepoint2020:12:21:05:40:00.json 2020-12-24 23:44:49+00:00\n",
      "source-data/pulsepoint/unparsed/pulsepoint2020:12:21:05:50:01.json 2020-12-24 23:44:49+00:00\n",
      "source-data/pulsepoint/unparsed/pulsepoint2020:12:21:06:00:00.json 2020-12-24 23:44:49+00:00\n",
      "source-data/pulsepoint/unparsed/pulsepoint2020:12:21:06:10:01.json 2020-12-24 23:44:49+00:00\n",
      "source-data/pulsepoint/unparsed/pulsepoint2020:12:21:06:20:01.json 2020-12-24 23:44:49+00:00\n",
      "source-data/pulsepoint/unparsed/pulsepoint2020:12:21:06:30:01.json 2020-12-24 23:44:49+00:00\n",
      "source-data/pulsepoint/unparsed/pulsepoint2020:12:21:06:40:00.json 2020-12-24 23:44:49+00:00\n",
      "source-data/pulsepoint/unparsed/pulsepoint2020:12:21:06:50:01.json 2020-12-24 23:44:49+00:00\n",
      "source-data/pulsepoint/unparsed/pulsepoint2020:12:21:07:00:02.json 2020-12-24 23:44:49+00:00\n",
      "source-data/pulsepoint/unparsed/pulsepoint2020:12:21:07:10:01.json 2020-12-24 23:44:49+00:00\n",
      "source-data/pulsepoint/unparsed/pulsepoint2020:12:21:07:20:01.json 2020-12-24 23:44:49+00:00\n",
      "source-data/pulsepoint/unparsed/pulsepoint2020:12:21:07:30:01.json 2020-12-24 23:44:49+00:00\n",
      "source-data/pulsepoint/unparsed/pulsepoint2020:12:21:07:40:01.json 2020-12-24 23:44:49+00:00\n",
      "source-data/pulsepoint/unparsed/pulsepoint2020:12:21:07:50:02.json 2020-12-24 23:44:50+00:00\n",
      "source-data/pulsepoint/unparsed/pulsepoint2020:12:21:08:00:01.json 2020-12-24 23:44:50+00:00\n",
      "source-data/pulsepoint/unparsed/pulsepoint2020:12:21:08:10:01.json 2020-12-24 23:44:50+00:00\n",
      "source-data/pulsepoint/unparsed/pulsepoint2020:12:21:08:20:01.json 2020-12-24 23:44:50+00:00\n",
      "source-data/pulsepoint/unparsed/pulsepoint2020:12:21:08:30:01.json 2020-12-24 23:44:50+00:00\n",
      "source-data/pulsepoint/unparsed/pulsepoint2020:12:21:09:08:54.json 2020-12-24 23:44:50+00:00\n",
      "source-data/pulsepoint/unparsed/pulsepoint2020:12:21:09:10:01.json 2020-12-24 23:44:50+00:00\n",
      "source-data/pulsepoint/unparsed/pulsepoint2020:12:21:09:20:01.json 2020-12-24 23:44:50+00:00\n",
      "source-data/pulsepoint/unparsed/pulsepoint2020:12:21:09:30:01.json 2020-12-24 23:44:50+00:00\n",
      "source-data/pulsepoint/unparsed/pulsepoint2020:12:21:09:40:02.json 2020-12-24 23:44:50+00:00\n",
      "source-data/pulsepoint/unparsed/pulsepoint2020:12:21:09:50:02.json 2020-12-24 23:44:50+00:00\n",
      "source-data/pulsepoint/unparsed/pulsepoint2020:12:21:11:06:40.json 2020-12-24 23:44:50+00:00\n",
      "source-data/pulsepoint/unparsed/pulsepoint2020:12:21:11:10:02.json 2020-12-24 23:44:50+00:00\n",
      "source-data/pulsepoint/unparsed/pulsepoint2020:12:21:12:50:01.json 2020-12-24 23:44:50+00:00\n",
      "source-data/pulsepoint/unparsed/pulsepoint2020:12:21:13:00:02.json 2020-12-24 23:44:50+00:00\n",
      "source-data/pulsepoint/unparsed/pulsepoint2020:12:21:14:20:01.json 2020-12-24 23:44:50+00:00\n",
      "source-data/pulsepoint/unparsed/pulsepoint2020:12:21:14:30:02.json 2020-12-24 23:44:50+00:00\n"
     ]
    }
   ],
   "source": [
    "for obj in bucket.objects.filter(Prefix='source-data/pulsepoint/unparsed/', Delimiter='/'):\n",
    "    print(obj.key,obj.Object().last_modified)"
   ]
  },
  {
   "cell_type": "code",
   "execution_count": 89,
   "metadata": {},
   "outputs": [
    {
     "ename": "TypeError",
     "evalue": "expected string or bytes-like object",
     "output_type": "error",
     "traceback": [
      "\u001b[0;31m---------------------------------------------------------------------------\u001b[0m",
      "\u001b[0;31mTypeError\u001b[0m                                 Traceback (most recent call last)",
      "\u001b[0;32m<ipython-input-89-49517f10ed9e>\u001b[0m in \u001b[0;36m<module>\u001b[0;34m\u001b[0m\n\u001b[1;32m      1\u001b[0m \u001b[0;32mfor\u001b[0m \u001b[0mobj\u001b[0m \u001b[0;32min\u001b[0m \u001b[0mbucket\u001b[0m\u001b[0;34m.\u001b[0m\u001b[0mobjects\u001b[0m\u001b[0;34m.\u001b[0m\u001b[0mfilter\u001b[0m\u001b[0;34m(\u001b[0m\u001b[0mPrefix\u001b[0m\u001b[0;34m=\u001b[0m\u001b[0;34m'source-data/pulsepoint/unparsed/'\u001b[0m\u001b[0;34m,\u001b[0m \u001b[0mDelimiter\u001b[0m\u001b[0;34m=\u001b[0m\u001b[0;34m'/'\u001b[0m\u001b[0;34m)\u001b[0m\u001b[0;34m:\u001b[0m\u001b[0;34m\u001b[0m\u001b[0;34m\u001b[0m\u001b[0m\n\u001b[0;32m----> 2\u001b[0;31m     \u001b[0mclient\u001b[0m\u001b[0;34m.\u001b[0m\u001b[0mcopy_object\u001b[0m\u001b[0;34m(\u001b[0m\u001b[0mKey\u001b[0m\u001b[0;34m=\u001b[0m\u001b[0mobj\u001b[0m\u001b[0;34m.\u001b[0m\u001b[0mkey\u001b[0m\u001b[0;34m,\u001b[0m \u001b[0mBucket\u001b[0m\u001b[0;34m=\u001b[0m\u001b[0mbucket\u001b[0m\u001b[0;34m,\u001b[0m\u001b[0mCopySource\u001b[0m\u001b[0;34m=\u001b[0m\u001b[0;34m{\u001b[0m\u001b[0;34m\"Bucket\"\u001b[0m\u001b[0;34m:\u001b[0m \u001b[0mbucket\u001b[0m\u001b[0;34m,\u001b[0m \u001b[0;34m\"Key\"\u001b[0m\u001b[0;34m:\u001b[0m \u001b[0mobj\u001b[0m\u001b[0;34m.\u001b[0m\u001b[0mkey\u001b[0m\u001b[0;34m}\u001b[0m\u001b[0;34m,\u001b[0m\u001b[0mMetadata\u001b[0m\u001b[0;34m=\u001b[0m\u001b[0;34m{\u001b[0m\u001b[0;34m}\u001b[0m\u001b[0;34m,\u001b[0m\u001b[0mMetadataDirective\u001b[0m\u001b[0;34m=\u001b[0m\u001b[0;34m'REPLACE'\u001b[0m\u001b[0;34m)\u001b[0m\u001b[0;34m\u001b[0m\u001b[0;34m\u001b[0m\u001b[0m\n\u001b[0m",
      "\u001b[0;32m~/venv/lib/python3.7/site-packages/botocore/client.py\u001b[0m in \u001b[0;36m_api_call\u001b[0;34m(self, *args, **kwargs)\u001b[0m\n\u001b[1;32m    355\u001b[0m                     \"%s() only accepts keyword arguments.\" % py_operation_name)\n\u001b[1;32m    356\u001b[0m             \u001b[0;31m# The \"self\" in this scope is referring to the BaseClient.\u001b[0m\u001b[0;34m\u001b[0m\u001b[0;34m\u001b[0m\u001b[0;34m\u001b[0m\u001b[0m\n\u001b[0;32m--> 357\u001b[0;31m             \u001b[0;32mreturn\u001b[0m \u001b[0mself\u001b[0m\u001b[0;34m.\u001b[0m\u001b[0m_make_api_call\u001b[0m\u001b[0;34m(\u001b[0m\u001b[0moperation_name\u001b[0m\u001b[0;34m,\u001b[0m \u001b[0mkwargs\u001b[0m\u001b[0;34m)\u001b[0m\u001b[0;34m\u001b[0m\u001b[0;34m\u001b[0m\u001b[0m\n\u001b[0m\u001b[1;32m    358\u001b[0m \u001b[0;34m\u001b[0m\u001b[0m\n\u001b[1;32m    359\u001b[0m         \u001b[0m_api_call\u001b[0m\u001b[0;34m.\u001b[0m\u001b[0m__name__\u001b[0m \u001b[0;34m=\u001b[0m \u001b[0mstr\u001b[0m\u001b[0;34m(\u001b[0m\u001b[0mpy_operation_name\u001b[0m\u001b[0;34m)\u001b[0m\u001b[0;34m\u001b[0m\u001b[0;34m\u001b[0m\u001b[0m\n",
      "\u001b[0;32m~/venv/lib/python3.7/site-packages/botocore/client.py\u001b[0m in \u001b[0;36m_make_api_call\u001b[0;34m(self, operation_name, api_params)\u001b[0m\n\u001b[1;32m    647\u001b[0m         }\n\u001b[1;32m    648\u001b[0m         request_dict = self._convert_to_request_dict(\n\u001b[0;32m--> 649\u001b[0;31m             api_params, operation_model, context=request_context)\n\u001b[0m\u001b[1;32m    650\u001b[0m \u001b[0;34m\u001b[0m\u001b[0m\n\u001b[1;32m    651\u001b[0m         \u001b[0mservice_id\u001b[0m \u001b[0;34m=\u001b[0m \u001b[0mself\u001b[0m\u001b[0;34m.\u001b[0m\u001b[0m_service_model\u001b[0m\u001b[0;34m.\u001b[0m\u001b[0mservice_id\u001b[0m\u001b[0;34m.\u001b[0m\u001b[0mhyphenize\u001b[0m\u001b[0;34m(\u001b[0m\u001b[0;34m)\u001b[0m\u001b[0;34m\u001b[0m\u001b[0;34m\u001b[0m\u001b[0m\n",
      "\u001b[0;32m~/venv/lib/python3.7/site-packages/botocore/client.py\u001b[0m in \u001b[0;36m_convert_to_request_dict\u001b[0;34m(self, api_params, operation_model, context)\u001b[0m\n\u001b[1;32m    693\u001b[0m                                  context=None):\n\u001b[1;32m    694\u001b[0m         api_params = self._emit_api_params(\n\u001b[0;32m--> 695\u001b[0;31m             api_params, operation_model, context)\n\u001b[0m\u001b[1;32m    696\u001b[0m         request_dict = self._serializer.serialize_to_request(\n\u001b[1;32m    697\u001b[0m             api_params, operation_model)\n",
      "\u001b[0;32m~/venv/lib/python3.7/site-packages/botocore/client.py\u001b[0m in \u001b[0;36m_emit_api_params\u001b[0;34m(self, api_params, operation_model, context)\u001b[0m\n\u001b[1;32m    725\u001b[0m                 \u001b[0mservice_id\u001b[0m\u001b[0;34m=\u001b[0m\u001b[0mservice_id\u001b[0m\u001b[0;34m,\u001b[0m\u001b[0;34m\u001b[0m\u001b[0;34m\u001b[0m\u001b[0m\n\u001b[1;32m    726\u001b[0m                 operation_name=operation_name),\n\u001b[0;32m--> 727\u001b[0;31m             params=api_params, model=operation_model, context=context)\n\u001b[0m\u001b[1;32m    728\u001b[0m         \u001b[0;32mreturn\u001b[0m \u001b[0mapi_params\u001b[0m\u001b[0;34m\u001b[0m\u001b[0;34m\u001b[0m\u001b[0m\n\u001b[1;32m    729\u001b[0m \u001b[0;34m\u001b[0m\u001b[0m\n",
      "\u001b[0;32m~/venv/lib/python3.7/site-packages/botocore/hooks.py\u001b[0m in \u001b[0;36memit\u001b[0;34m(self, event_name, **kwargs)\u001b[0m\n\u001b[1;32m    354\u001b[0m     \u001b[0;32mdef\u001b[0m \u001b[0memit\u001b[0m\u001b[0;34m(\u001b[0m\u001b[0mself\u001b[0m\u001b[0;34m,\u001b[0m \u001b[0mevent_name\u001b[0m\u001b[0;34m,\u001b[0m \u001b[0;34m**\u001b[0m\u001b[0mkwargs\u001b[0m\u001b[0;34m)\u001b[0m\u001b[0;34m:\u001b[0m\u001b[0;34m\u001b[0m\u001b[0;34m\u001b[0m\u001b[0m\n\u001b[1;32m    355\u001b[0m         \u001b[0maliased_event_name\u001b[0m \u001b[0;34m=\u001b[0m \u001b[0mself\u001b[0m\u001b[0;34m.\u001b[0m\u001b[0m_alias_event_name\u001b[0m\u001b[0;34m(\u001b[0m\u001b[0mevent_name\u001b[0m\u001b[0;34m)\u001b[0m\u001b[0;34m\u001b[0m\u001b[0;34m\u001b[0m\u001b[0m\n\u001b[0;32m--> 356\u001b[0;31m         \u001b[0;32mreturn\u001b[0m \u001b[0mself\u001b[0m\u001b[0;34m.\u001b[0m\u001b[0m_emitter\u001b[0m\u001b[0;34m.\u001b[0m\u001b[0memit\u001b[0m\u001b[0;34m(\u001b[0m\u001b[0maliased_event_name\u001b[0m\u001b[0;34m,\u001b[0m \u001b[0;34m**\u001b[0m\u001b[0mkwargs\u001b[0m\u001b[0;34m)\u001b[0m\u001b[0;34m\u001b[0m\u001b[0;34m\u001b[0m\u001b[0m\n\u001b[0m\u001b[1;32m    357\u001b[0m \u001b[0;34m\u001b[0m\u001b[0m\n\u001b[1;32m    358\u001b[0m     \u001b[0;32mdef\u001b[0m \u001b[0memit_until_response\u001b[0m\u001b[0;34m(\u001b[0m\u001b[0mself\u001b[0m\u001b[0;34m,\u001b[0m \u001b[0mevent_name\u001b[0m\u001b[0;34m,\u001b[0m \u001b[0;34m**\u001b[0m\u001b[0mkwargs\u001b[0m\u001b[0;34m)\u001b[0m\u001b[0;34m:\u001b[0m\u001b[0;34m\u001b[0m\u001b[0;34m\u001b[0m\u001b[0m\n",
      "\u001b[0;32m~/venv/lib/python3.7/site-packages/botocore/hooks.py\u001b[0m in \u001b[0;36memit\u001b[0;34m(self, event_name, **kwargs)\u001b[0m\n\u001b[1;32m    226\u001b[0m                  \u001b[0mhandlers\u001b[0m\u001b[0;34m.\u001b[0m\u001b[0;34m\u001b[0m\u001b[0;34m\u001b[0m\u001b[0m\n\u001b[1;32m    227\u001b[0m         \"\"\"\n\u001b[0;32m--> 228\u001b[0;31m         \u001b[0;32mreturn\u001b[0m \u001b[0mself\u001b[0m\u001b[0;34m.\u001b[0m\u001b[0m_emit\u001b[0m\u001b[0;34m(\u001b[0m\u001b[0mevent_name\u001b[0m\u001b[0;34m,\u001b[0m \u001b[0mkwargs\u001b[0m\u001b[0;34m)\u001b[0m\u001b[0;34m\u001b[0m\u001b[0;34m\u001b[0m\u001b[0m\n\u001b[0m\u001b[1;32m    229\u001b[0m \u001b[0;34m\u001b[0m\u001b[0m\n\u001b[1;32m    230\u001b[0m     \u001b[0;32mdef\u001b[0m \u001b[0memit_until_response\u001b[0m\u001b[0;34m(\u001b[0m\u001b[0mself\u001b[0m\u001b[0;34m,\u001b[0m \u001b[0mevent_name\u001b[0m\u001b[0;34m,\u001b[0m \u001b[0;34m**\u001b[0m\u001b[0mkwargs\u001b[0m\u001b[0;34m)\u001b[0m\u001b[0;34m:\u001b[0m\u001b[0;34m\u001b[0m\u001b[0;34m\u001b[0m\u001b[0m\n",
      "\u001b[0;32m~/venv/lib/python3.7/site-packages/botocore/hooks.py\u001b[0m in \u001b[0;36m_emit\u001b[0;34m(self, event_name, kwargs, stop_on_response)\u001b[0m\n\u001b[1;32m    209\u001b[0m         \u001b[0;32mfor\u001b[0m \u001b[0mhandler\u001b[0m \u001b[0;32min\u001b[0m \u001b[0mhandlers_to_call\u001b[0m\u001b[0;34m:\u001b[0m\u001b[0;34m\u001b[0m\u001b[0;34m\u001b[0m\u001b[0m\n\u001b[1;32m    210\u001b[0m             \u001b[0mlogger\u001b[0m\u001b[0;34m.\u001b[0m\u001b[0mdebug\u001b[0m\u001b[0;34m(\u001b[0m\u001b[0;34m'Event %s: calling handler %s'\u001b[0m\u001b[0;34m,\u001b[0m \u001b[0mevent_name\u001b[0m\u001b[0;34m,\u001b[0m \u001b[0mhandler\u001b[0m\u001b[0;34m)\u001b[0m\u001b[0;34m\u001b[0m\u001b[0;34m\u001b[0m\u001b[0m\n\u001b[0;32m--> 211\u001b[0;31m             \u001b[0mresponse\u001b[0m \u001b[0;34m=\u001b[0m \u001b[0mhandler\u001b[0m\u001b[0;34m(\u001b[0m\u001b[0;34m**\u001b[0m\u001b[0mkwargs\u001b[0m\u001b[0;34m)\u001b[0m\u001b[0;34m\u001b[0m\u001b[0;34m\u001b[0m\u001b[0m\n\u001b[0m\u001b[1;32m    212\u001b[0m             \u001b[0mresponses\u001b[0m\u001b[0;34m.\u001b[0m\u001b[0mappend\u001b[0m\u001b[0;34m(\u001b[0m\u001b[0;34m(\u001b[0m\u001b[0mhandler\u001b[0m\u001b[0;34m,\u001b[0m \u001b[0mresponse\u001b[0m\u001b[0;34m)\u001b[0m\u001b[0;34m)\u001b[0m\u001b[0;34m\u001b[0m\u001b[0;34m\u001b[0m\u001b[0m\n\u001b[1;32m    213\u001b[0m             \u001b[0;32mif\u001b[0m \u001b[0mstop_on_response\u001b[0m \u001b[0;32mand\u001b[0m \u001b[0mresponse\u001b[0m \u001b[0;32mis\u001b[0m \u001b[0;32mnot\u001b[0m \u001b[0;32mNone\u001b[0m\u001b[0;34m:\u001b[0m\u001b[0;34m\u001b[0m\u001b[0;34m\u001b[0m\u001b[0m\n",
      "\u001b[0;32m~/venv/lib/python3.7/site-packages/botocore/handlers.py\u001b[0m in \u001b[0;36mhandle_copy_source_param\u001b[0;34m(params, **kwargs)\u001b[0m\n\u001b[1;32m    346\u001b[0m         \u001b[0mparams\u001b[0m\u001b[0;34m[\u001b[0m\u001b[0;34m'CopySource'\u001b[0m\u001b[0;34m]\u001b[0m \u001b[0;34m=\u001b[0m \u001b[0m_quote_source_header\u001b[0m\u001b[0;34m(\u001b[0m\u001b[0msource\u001b[0m\u001b[0;34m)\u001b[0m\u001b[0;34m\u001b[0m\u001b[0;34m\u001b[0m\u001b[0m\n\u001b[1;32m    347\u001b[0m     \u001b[0;32melif\u001b[0m \u001b[0misinstance\u001b[0m\u001b[0;34m(\u001b[0m\u001b[0msource\u001b[0m\u001b[0;34m,\u001b[0m \u001b[0mdict\u001b[0m\u001b[0;34m)\u001b[0m\u001b[0;34m:\u001b[0m\u001b[0;34m\u001b[0m\u001b[0;34m\u001b[0m\u001b[0m\n\u001b[0;32m--> 348\u001b[0;31m         \u001b[0mparams\u001b[0m\u001b[0;34m[\u001b[0m\u001b[0;34m'CopySource'\u001b[0m\u001b[0;34m]\u001b[0m \u001b[0;34m=\u001b[0m \u001b[0m_quote_source_header_from_dict\u001b[0m\u001b[0;34m(\u001b[0m\u001b[0msource\u001b[0m\u001b[0;34m)\u001b[0m\u001b[0;34m\u001b[0m\u001b[0;34m\u001b[0m\u001b[0m\n\u001b[0m\u001b[1;32m    349\u001b[0m \u001b[0;34m\u001b[0m\u001b[0m\n\u001b[1;32m    350\u001b[0m \u001b[0;34m\u001b[0m\u001b[0m\n",
      "\u001b[0;32m~/venv/lib/python3.7/site-packages/botocore/handlers.py\u001b[0m in \u001b[0;36m_quote_source_header_from_dict\u001b[0;34m(source_dict)\u001b[0m\n\u001b[1;32m    354\u001b[0m         \u001b[0mkey\u001b[0m \u001b[0;34m=\u001b[0m \u001b[0msource_dict\u001b[0m\u001b[0;34m[\u001b[0m\u001b[0;34m'Key'\u001b[0m\u001b[0;34m]\u001b[0m\u001b[0;34m\u001b[0m\u001b[0;34m\u001b[0m\u001b[0m\n\u001b[1;32m    355\u001b[0m         \u001b[0mversion_id\u001b[0m \u001b[0;34m=\u001b[0m \u001b[0msource_dict\u001b[0m\u001b[0;34m.\u001b[0m\u001b[0mget\u001b[0m\u001b[0;34m(\u001b[0m\u001b[0;34m'VersionId'\u001b[0m\u001b[0;34m)\u001b[0m\u001b[0;34m\u001b[0m\u001b[0;34m\u001b[0m\u001b[0m\n\u001b[0;32m--> 356\u001b[0;31m         \u001b[0;32mif\u001b[0m \u001b[0mVALID_S3_ARN\u001b[0m\u001b[0;34m.\u001b[0m\u001b[0msearch\u001b[0m\u001b[0;34m(\u001b[0m\u001b[0mbucket\u001b[0m\u001b[0;34m)\u001b[0m\u001b[0;34m:\u001b[0m\u001b[0;34m\u001b[0m\u001b[0;34m\u001b[0m\u001b[0m\n\u001b[0m\u001b[1;32m    357\u001b[0m             \u001b[0mfinal\u001b[0m \u001b[0;34m=\u001b[0m \u001b[0;34m'%s/object/%s'\u001b[0m \u001b[0;34m%\u001b[0m \u001b[0;34m(\u001b[0m\u001b[0mbucket\u001b[0m\u001b[0;34m,\u001b[0m \u001b[0mkey\u001b[0m\u001b[0;34m)\u001b[0m\u001b[0;34m\u001b[0m\u001b[0;34m\u001b[0m\u001b[0m\n\u001b[1;32m    358\u001b[0m         \u001b[0;32melse\u001b[0m\u001b[0;34m:\u001b[0m\u001b[0;34m\u001b[0m\u001b[0;34m\u001b[0m\u001b[0m\n",
      "\u001b[0;31mTypeError\u001b[0m: expected string or bytes-like object"
     ]
    }
   ],
   "source": [
    "for obj in bucket.objects.filter(Prefix='source-data/pulsepoint/unparsed/', Delimiter='/'):\n",
    "    client.copy_object(Key=obj.key, Bucket=bucket,CopySource={\"Bucket\": bucket, \"Key\": obj.key},Metadata={},MetadataDirective='REPLACE')"
   ]
  },
  {
   "cell_type": "code",
   "execution_count": null,
   "metadata": {},
   "outputs": [],
   "source": [
    "for obj in bucket.objects.filter(Prefix='source-data/pulsepoint/unparsed/', Delimiter='/'):\n",
    "    ob"
   ]
  },
  {
   "cell_type": "code",
   "execution_count": null,
   "metadata": {},
   "outputs": [],
   "source": [
    "response = client.list_objects_v2(\n",
    "    Bucket='dc-crash-bot-test',\n",
    "    Delimiter='/',\n",
    "    Prefix='source-data/dc-open-data/'\n",
    ")"
   ]
  },
  {
   "cell_type": "code",
   "execution_count": null,
   "metadata": {},
   "outputs": [],
   "source": [
    "pprint.pprint(response)"
   ]
  },
  {
   "cell_type": "code",
   "execution_count": 25,
   "metadata": {},
   "outputs": [
    {
     "name": "stdout",
     "output_type": "stream",
     "text": [
      "dc-crash-bot-prod\n",
      "dc-crash-bot-test\n",
      "s3.Object(bucket_name='dc-crash-bot-test', key='source-data/dc-open-data/') {}\n"
     ]
    }
   ],
   "source": [
    "for bucket in s3.buckets.filter(name='dc-crash-bot-test'):\n",
    "    print(bucket.name)\n",
    "    for obj in bucket.objects.filter(Prefix='source-data/dc-open-data/', Delimiter='/'):\n",
    "        print(obj.Object(),obj.Object().metadata )"
   ]
  },
  {
   "cell_type": "code",
   "execution_count": null,
   "metadata": {},
   "outputs": [],
   "source": []
  },
  {
   "cell_type": "code",
   "execution_count": 92,
   "metadata": {},
   "outputs": [],
   "source": [
    "for bucket in s3.buckets.filter(name='dc-crash-bot-test'):\n",
    "    objects_to_delete = [{'Key': obj.Object().key} for obj in bucket.objects.filter(Prefix='source-data/dc-open-data/') if obj.Object().key != 'source-data/dc-open-data/']\n"
   ]
  },
  {
   "cell_type": "code",
   "execution_count": 93,
   "metadata": {},
   "outputs": [
    {
     "data": {
      "text/plain": [
       "[{'Key': 'source-data/dc-open-data/address_points.csv'},\n",
       " {'Key': 'source-data/dc-open-data/all311.csv'},\n",
       " {'Key': 'source-data/dc-open-data/census_blocks.csv'},\n",
       " {'Key': 'source-data/dc-open-data/crash_details.csv'},\n",
       " {'Key': 'source-data/dc-open-data/crashes_raw.csv'},\n",
       " {'Key': 'source-data/dc-open-data/roadway_blockface.csv'},\n",
       " {'Key': 'source-data/dc-open-data/roadway_blocks.csv'},\n",
       " {'Key': 'source-data/dc-open-data/roadway_intersection_approach.csv'},\n",
       " {'Key': 'source-data/dc-open-data/roadway_subblocks.csv'},\n",
       " {'Key': 'source-data/dc-open-data/vision_zero.csv'}]"
      ]
     },
     "execution_count": 93,
     "metadata": {},
     "output_type": "execute_result"
    }
   ],
   "source": [
    "objects_to_delete"
   ]
  },
  {
   "cell_type": "code",
   "execution_count": 95,
   "metadata": {},
   "outputs": [],
   "source": [
    "c=s3.Bucket('dc-crash-bot-test')"
   ]
  },
  {
   "cell_type": "code",
   "execution_count": null,
   "metadata": {},
   "outputs": [],
   "source": [
    "client.delete_objects(\n",
    "    Bucket='string',\n",
    "    Delete={\n",
    "        'Objects': [\n",
    "            {\n",
    "                'Key': 'string',\n",
    "            },\n",
    "        ],\n",
    "        'Quiet': True\n",
    "    },\n",
    ")"
   ]
  },
  {
   "cell_type": "code",
   "execution_count": null,
   "metadata": {},
   "outputs": [],
   "source": [
    "for bucket in s3.buckets.all():\n",
    "    print(bucket.name)\n",
    "    for obj in bucket.objects.filter(Prefix=''):\n",
    "        print(obj)"
   ]
  },
  {
   "cell_type": "code",
   "execution_count": null,
   "metadata": {},
   "outputs": [],
   "source": [
    "for bucket in s3.buckets.all():\n",
    "    print(bucket.name)\n",
    "    for obj in bucket.objects.all():\n",
    "        print(obj)"
   ]
  },
  {
   "cell_type": "code",
   "execution_count": null,
   "metadata": {},
   "outputs": [],
   "source": [
    "for bucket in s3.buckets.all():\n",
    "    for obj in bucket.objects.all():\n",
    "        print(obj.key, obj.Object().metadata)"
   ]
  },
  {
   "cell_type": "code",
   "execution_count": null,
   "metadata": {},
   "outputs": [],
   "source": [
    "for bucket in s3.buckets.all():\n",
    "    print(bucket.name)\n",
    "    for obj in bucket.objects.filter(Prefix='source-data/dc-open-data/'):\n",
    "        print(obj.Name)"
   ]
  },
  {
   "cell_type": "code",
   "execution_count": null,
   "metadata": {},
   "outputs": [],
   "source": [
    "rds = boto3.client('rds')"
   ]
  },
  {
   "cell_type": "code",
   "execution_count": null,
   "metadata": {},
   "outputs": [],
   "source": [
    "# import boto3\n",
    "# import datetime\n",
    "\n",
    "# KEY = 'YOUR-KEY'\n",
    "# BUCKET = 'YOUR-BUCKET'\n",
    "\n",
    "# s3 = boto3.resource('s3')\n",
    "# bucket = s3.Bucket(BUCKET)\n",
    "# expire_time = datetime.datetime.now() + datetime.timedelta(days=5)\n",
    "\n",
    "# for summary in bucket.objects.all():\n",
    "#     if summary.key == KEY:\n",
    "#         target_object = summary.Object()\n",
    "#         target_object.put(Expires=expire_time)\n",
    "#         print(target_object.expires)"
   ]
  },
  {
   "cell_type": "code",
   "execution_count": null,
   "metadata": {},
   "outputs": [],
   "source": [
    "rds.describe_db_instances()"
   ]
  },
  {
   "cell_type": "code",
   "execution_count": null,
   "metadata": {},
   "outputs": [],
   "source": [
    "# import crash data\n",
    "crash_census_block_level = gpd.read_file('/Users/ag79732/census_block_level_final.geojson')"
   ]
  },
  {
   "cell_type": "code",
   "execution_count": null,
   "metadata": {},
   "outputs": [],
   "source": [
    "for column in crash_census_block_level.columns:\n",
    "    print(column)"
   ]
  },
  {
   "cell_type": "code",
   "execution_count": 79,
   "metadata": {},
   "outputs": [],
   "source": [
    "# import crash data\n",
    "crash_details = gpd.read_file('https://opendata.arcgis.com/datasets/70248b73c20f46b0a5ee895fc91d6222_25.geojson', n=10)"
   ]
  },
  {
   "cell_type": "code",
   "execution_count": null,
   "metadata": {},
   "outputs": [],
   "source": [
    "for column in crash_details.columns:\n",
    "    print(column)"
   ]
  },
  {
   "cell_type": "code",
   "execution_count": null,
   "metadata": {},
   "outputs": [],
   "source": [
    "crash_details.geometry.name"
   ]
  },
  {
   "cell_type": "code",
   "execution_count": null,
   "metadata": {},
   "outputs": [],
   "source": [
    "crash_details.geometry.type"
   ]
  },
  {
   "cell_type": "code",
   "execution_count": null,
   "metadata": {},
   "outputs": [],
   "source": [
    "crash_details.geometry.crs"
   ]
  },
  {
   "cell_type": "code",
   "execution_count": null,
   "metadata": {},
   "outputs": [],
   "source": [
    "crash_details.geometry = crash_details.geometry.set_crs(epsg=4326)"
   ]
  },
  {
   "cell_type": "code",
   "execution_count": null,
   "metadata": {},
   "outputs": [],
   "source": [
    "crash_details.geometry.crs"
   ]
  },
  {
   "cell_type": "code",
   "execution_count": 52,
   "metadata": {},
   "outputs": [],
   "source": [
    "crashes_raw = gpd.read_file('https://opendata.arcgis.com/datasets/70392a096a8e431381f1f692aaa06afd_24.geojson', n=10)"
   ]
  },
  {
   "cell_type": "code",
   "execution_count": 53,
   "metadata": {},
   "outputs": [
    {
     "data": {
      "text/html": [
       "<div>\n",
       "<style scoped>\n",
       "    .dataframe tbody tr th:only-of-type {\n",
       "        vertical-align: middle;\n",
       "    }\n",
       "\n",
       "    .dataframe tbody tr th {\n",
       "        vertical-align: top;\n",
       "    }\n",
       "\n",
       "    .dataframe thead th {\n",
       "        text-align: right;\n",
       "    }\n",
       "</style>\n",
       "<table border=\"1\" class=\"dataframe\">\n",
       "  <thead>\n",
       "    <tr style=\"text-align: right;\">\n",
       "      <th></th>\n",
       "      <th>OBJECTID</th>\n",
       "      <th>CRIMEID</th>\n",
       "      <th>CCN</th>\n",
       "      <th>REPORTDATE</th>\n",
       "      <th>ROUTEID</th>\n",
       "      <th>MEASURE</th>\n",
       "      <th>OFFSET</th>\n",
       "      <th>STREETSEGID</th>\n",
       "      <th>ROADWAYSEGID</th>\n",
       "      <th>FROMDATE</th>\n",
       "      <th>...</th>\n",
       "      <th>MPDLONGITUDE</th>\n",
       "      <th>MPDGEOX</th>\n",
       "      <th>MPDGEOY</th>\n",
       "      <th>BLOCKKEY</th>\n",
       "      <th>SUBBLOCKKEY</th>\n",
       "      <th>FATALPASSENGER</th>\n",
       "      <th>MAJORINJURIESPASSENGER</th>\n",
       "      <th>MINORINJURIESPASSENGER</th>\n",
       "      <th>UNKNOWNINJURIESPASSENGER</th>\n",
       "      <th>geometry</th>\n",
       "    </tr>\n",
       "  </thead>\n",
       "  <tbody>\n",
       "    <tr>\n",
       "      <th>0</th>\n",
       "      <td>180051625</td>\n",
       "      <td>24641648</td>\n",
       "      <td>13085548</td>\n",
       "      <td>2013-06-22T05:00:00+00:00</td>\n",
       "      <td>12075462</td>\n",
       "      <td>665.27</td>\n",
       "      <td>28.52</td>\n",
       "      <td>3439.0</td>\n",
       "      <td>4614.0</td>\n",
       "      <td>2013-06-22T04:00:00+00:00</td>\n",
       "      <td>...</td>\n",
       "      <td>-77.001815</td>\n",
       "      <td>NaN</td>\n",
       "      <td>NaN</td>\n",
       "      <td>24d30486d134f3655693d7623315c4aa</td>\n",
       "      <td>24d30486d134f3655693d7623315c4aa</td>\n",
       "      <td>0</td>\n",
       "      <td>0</td>\n",
       "      <td>0</td>\n",
       "      <td>0</td>\n",
       "      <td>POINT Z (-77.00168 38.91937 0.00000)</td>\n",
       "    </tr>\n",
       "    <tr>\n",
       "      <th>1</th>\n",
       "      <td>180051626</td>\n",
       "      <td>25165942</td>\n",
       "      <td>14159252</td>\n",
       "      <td>2014-10-16T05:00:00+00:00</td>\n",
       "      <td>11034972</td>\n",
       "      <td>1303.16</td>\n",
       "      <td>0.01</td>\n",
       "      <td>9497.0</td>\n",
       "      <td>680.0</td>\n",
       "      <td>2014-10-16T04:00:00+00:00</td>\n",
       "      <td>...</td>\n",
       "      <td>NaN</td>\n",
       "      <td>NaN</td>\n",
       "      <td>NaN</td>\n",
       "      <td>6a97e527f46d140477a8c3c98dd9a092</td>\n",
       "      <td>1c439f119eb7f63f0ed649d5c8165c1b</td>\n",
       "      <td>0</td>\n",
       "      <td>0</td>\n",
       "      <td>0</td>\n",
       "      <td>0</td>\n",
       "      <td>POINT Z (-77.02729 38.95081 0.00000)</td>\n",
       "    </tr>\n",
       "    <tr>\n",
       "      <th>2</th>\n",
       "      <td>180051627</td>\n",
       "      <td>25165944</td>\n",
       "      <td>14159567</td>\n",
       "      <td>2014-10-16T05:00:00+00:00</td>\n",
       "      <td>11068902</td>\n",
       "      <td>1591.45</td>\n",
       "      <td>0.04</td>\n",
       "      <td>9732.0</td>\n",
       "      <td>9294.0</td>\n",
       "      <td>2014-10-16T04:00:00+00:00</td>\n",
       "      <td>...</td>\n",
       "      <td>NaN</td>\n",
       "      <td>NaN</td>\n",
       "      <td>NaN</td>\n",
       "      <td>fd5c594e4f240779224d7267b9b2539f</td>\n",
       "      <td>fd5c594e4f240779224d7267b9b2539f</td>\n",
       "      <td>0</td>\n",
       "      <td>0</td>\n",
       "      <td>0</td>\n",
       "      <td>0</td>\n",
       "      <td>POINT Z (-77.03576 38.93139 0.00000)</td>\n",
       "    </tr>\n",
       "    <tr>\n",
       "      <th>3</th>\n",
       "      <td>180051628</td>\n",
       "      <td>26651327</td>\n",
       "      <td>10176429</td>\n",
       "      <td>2010-12-08T05:00:00+00:00</td>\n",
       "      <td>11002202</td>\n",
       "      <td>1502.40</td>\n",
       "      <td>0.02</td>\n",
       "      <td>13058.0</td>\n",
       "      <td>13176.0</td>\n",
       "      <td>2010-12-08T05:00:00+00:00</td>\n",
       "      <td>...</td>\n",
       "      <td>NaN</td>\n",
       "      <td>NaN</td>\n",
       "      <td>NaN</td>\n",
       "      <td>29abe733471894cc9c3c0633dcdedeec</td>\n",
       "      <td>29abe733471894cc9c3c0633dcdedeec</td>\n",
       "      <td>0</td>\n",
       "      <td>0</td>\n",
       "      <td>0</td>\n",
       "      <td>0</td>\n",
       "      <td>POINT Z (-77.04880 38.90824 0.00000)</td>\n",
       "    </tr>\n",
       "    <tr>\n",
       "      <th>4</th>\n",
       "      <td>180051629</td>\n",
       "      <td>24641662</td>\n",
       "      <td>13085861</td>\n",
       "      <td>2013-06-23T05:00:00+00:00</td>\n",
       "      <td>13088462</td>\n",
       "      <td>644.38</td>\n",
       "      <td>22.90</td>\n",
       "      <td>6700.0</td>\n",
       "      <td>7178.0</td>\n",
       "      <td>2013-06-23T04:00:00+00:00</td>\n",
       "      <td>...</td>\n",
       "      <td>-76.983481</td>\n",
       "      <td>NaN</td>\n",
       "      <td>NaN</td>\n",
       "      <td>9ddca9d2d90aead4e7a66afaa76e081e</td>\n",
       "      <td>9ddca9d2d90aead4e7a66afaa76e081e</td>\n",
       "      <td>0</td>\n",
       "      <td>0</td>\n",
       "      <td>0</td>\n",
       "      <td>0</td>\n",
       "      <td>POINT Z (-76.98354 38.86468 0.00000)</td>\n",
       "    </tr>\n",
       "    <tr>\n",
       "      <th>...</th>\n",
       "      <td>...</td>\n",
       "      <td>...</td>\n",
       "      <td>...</td>\n",
       "      <td>...</td>\n",
       "      <td>...</td>\n",
       "      <td>...</td>\n",
       "      <td>...</td>\n",
       "      <td>...</td>\n",
       "      <td>...</td>\n",
       "      <td>...</td>\n",
       "      <td>...</td>\n",
       "      <td>...</td>\n",
       "      <td>...</td>\n",
       "      <td>...</td>\n",
       "      <td>...</td>\n",
       "      <td>...</td>\n",
       "      <td>...</td>\n",
       "      <td>...</td>\n",
       "      <td>...</td>\n",
       "      <td>...</td>\n",
       "      <td>...</td>\n",
       "    </tr>\n",
       "    <tr>\n",
       "      <th>241755</th>\n",
       "      <td>180293269</td>\n",
       "      <td>26650639</td>\n",
       "      <td>11187443</td>\n",
       "      <td>2011-12-23T05:00:00+00:00</td>\n",
       "      <td>11075462</td>\n",
       "      <td>1892.27</td>\n",
       "      <td>0.00</td>\n",
       "      <td>9336.0</td>\n",
       "      <td>8176.0</td>\n",
       "      <td>2011-12-23T05:00:00+00:00</td>\n",
       "      <td>...</td>\n",
       "      <td>NaN</td>\n",
       "      <td>NaN</td>\n",
       "      <td>NaN</td>\n",
       "      <td>a5cd838bb8713c6b39ae0d686ec6ead0</td>\n",
       "      <td>480c40626d2f11c7c8b742d8a4bad47b</td>\n",
       "      <td>0</td>\n",
       "      <td>0</td>\n",
       "      <td>0</td>\n",
       "      <td>0</td>\n",
       "      <td>POINT Z (-77.03028 38.90943 0.00000)</td>\n",
       "    </tr>\n",
       "    <tr>\n",
       "      <th>241756</th>\n",
       "      <td>180293270</td>\n",
       "      <td>26650640</td>\n",
       "      <td>11189589</td>\n",
       "      <td>2011-12-28T05:00:00+00:00</td>\n",
       "      <td>11004102</td>\n",
       "      <td>1611.30</td>\n",
       "      <td>30.20</td>\n",
       "      <td>4767.0</td>\n",
       "      <td>978.0</td>\n",
       "      <td>2011-12-28T05:00:00+00:00</td>\n",
       "      <td>...</td>\n",
       "      <td>NaN</td>\n",
       "      <td>NaN</td>\n",
       "      <td>NaN</td>\n",
       "      <td>513e9990dd4ae022fd4916e3047388fd</td>\n",
       "      <td>07cc5fac8af49d3e766fd72b35585504</td>\n",
       "      <td>0</td>\n",
       "      <td>0</td>\n",
       "      <td>0</td>\n",
       "      <td>0</td>\n",
       "      <td>POINT Z (-77.08030 38.95922 0.00000)</td>\n",
       "    </tr>\n",
       "    <tr>\n",
       "      <th>241757</th>\n",
       "      <td>180293271</td>\n",
       "      <td>26650642</td>\n",
       "      <td>11186801</td>\n",
       "      <td>2011-12-22T05:00:00+00:00</td>\n",
       "      <td>11016382</td>\n",
       "      <td>157.79</td>\n",
       "      <td>48.36</td>\n",
       "      <td>1881.0</td>\n",
       "      <td>2483.0</td>\n",
       "      <td>2011-12-22T05:00:00+00:00</td>\n",
       "      <td>...</td>\n",
       "      <td>-77.009387</td>\n",
       "      <td>NaN</td>\n",
       "      <td>NaN</td>\n",
       "      <td>313c83b99b59f1dfbb9dbb5ff6d7342c</td>\n",
       "      <td>313c83b99b59f1dfbb9dbb5ff6d7342c</td>\n",
       "      <td>0</td>\n",
       "      <td>0</td>\n",
       "      <td>8</td>\n",
       "      <td>0</td>\n",
       "      <td>POINT Z (-77.00986 38.96135 0.00000)</td>\n",
       "    </tr>\n",
       "    <tr>\n",
       "      <th>241758</th>\n",
       "      <td>180293272</td>\n",
       "      <td>26650645</td>\n",
       "      <td>11184895</td>\n",
       "      <td>2011-12-18T05:00:00+00:00</td>\n",
       "      <td>12074622</td>\n",
       "      <td>0.00</td>\n",
       "      <td>0.06</td>\n",
       "      <td>7824.0</td>\n",
       "      <td>8689.0</td>\n",
       "      <td>2011-12-18T05:00:00+00:00</td>\n",
       "      <td>...</td>\n",
       "      <td>NaN</td>\n",
       "      <td>NaN</td>\n",
       "      <td>NaN</td>\n",
       "      <td>fae2092dfbe11077704af74f2dc9be25</td>\n",
       "      <td>fae2092dfbe11077704af74f2dc9be25</td>\n",
       "      <td>0</td>\n",
       "      <td>0</td>\n",
       "      <td>0</td>\n",
       "      <td>0</td>\n",
       "      <td>POINT Z (-77.00905 38.91335 0.00000)</td>\n",
       "    </tr>\n",
       "    <tr>\n",
       "      <th>241759</th>\n",
       "      <td>180293273</td>\n",
       "      <td>26650647</td>\n",
       "      <td>11188343</td>\n",
       "      <td>2011-12-25T05:00:00+00:00</td>\n",
       "      <td>11068902</td>\n",
       "      <td>1100.22</td>\n",
       "      <td>25.47</td>\n",
       "      <td>12399.0</td>\n",
       "      <td>12670.0</td>\n",
       "      <td>2011-12-25T05:00:00+00:00</td>\n",
       "      <td>...</td>\n",
       "      <td>-77.031921</td>\n",
       "      <td>NaN</td>\n",
       "      <td>NaN</td>\n",
       "      <td>06a3ec7e78414666dfdf39cf10a0f2bc</td>\n",
       "      <td>06a3ec7e78414666dfdf39cf10a0f2bc</td>\n",
       "      <td>0</td>\n",
       "      <td>0</td>\n",
       "      <td>0</td>\n",
       "      <td>0</td>\n",
       "      <td>POINT Z (-77.03180 38.93061 0.00000)</td>\n",
       "    </tr>\n",
       "  </tbody>\n",
       "</table>\n",
       "<p>241760 rows × 59 columns</p>\n",
       "</div>"
      ],
      "text/plain": [
       "         OBJECTID   CRIMEID       CCN                 REPORTDATE   ROUTEID  \\\n",
       "0       180051625  24641648  13085548  2013-06-22T05:00:00+00:00  12075462   \n",
       "1       180051626  25165942  14159252  2014-10-16T05:00:00+00:00  11034972   \n",
       "2       180051627  25165944  14159567  2014-10-16T05:00:00+00:00  11068902   \n",
       "3       180051628  26651327  10176429  2010-12-08T05:00:00+00:00  11002202   \n",
       "4       180051629  24641662  13085861  2013-06-23T05:00:00+00:00  13088462   \n",
       "...           ...       ...       ...                        ...       ...   \n",
       "241755  180293269  26650639  11187443  2011-12-23T05:00:00+00:00  11075462   \n",
       "241756  180293270  26650640  11189589  2011-12-28T05:00:00+00:00  11004102   \n",
       "241757  180293271  26650642  11186801  2011-12-22T05:00:00+00:00  11016382   \n",
       "241758  180293272  26650645  11184895  2011-12-18T05:00:00+00:00  12074622   \n",
       "241759  180293273  26650647  11188343  2011-12-25T05:00:00+00:00  11068902   \n",
       "\n",
       "        MEASURE  OFFSET  STREETSEGID  ROADWAYSEGID                   FROMDATE  \\\n",
       "0        665.27   28.52       3439.0        4614.0  2013-06-22T04:00:00+00:00   \n",
       "1       1303.16    0.01       9497.0         680.0  2014-10-16T04:00:00+00:00   \n",
       "2       1591.45    0.04       9732.0        9294.0  2014-10-16T04:00:00+00:00   \n",
       "3       1502.40    0.02      13058.0       13176.0  2010-12-08T05:00:00+00:00   \n",
       "4        644.38   22.90       6700.0        7178.0  2013-06-23T04:00:00+00:00   \n",
       "...         ...     ...          ...           ...                        ...   \n",
       "241755  1892.27    0.00       9336.0        8176.0  2011-12-23T05:00:00+00:00   \n",
       "241756  1611.30   30.20       4767.0         978.0  2011-12-28T05:00:00+00:00   \n",
       "241757   157.79   48.36       1881.0        2483.0  2011-12-22T05:00:00+00:00   \n",
       "241758     0.00    0.06       7824.0        8689.0  2011-12-18T05:00:00+00:00   \n",
       "241759  1100.22   25.47      12399.0       12670.0  2011-12-25T05:00:00+00:00   \n",
       "\n",
       "        ... MPDLONGITUDE  MPDGEOX MPDGEOY                          BLOCKKEY  \\\n",
       "0       ...   -77.001815      NaN     NaN  24d30486d134f3655693d7623315c4aa   \n",
       "1       ...          NaN      NaN     NaN  6a97e527f46d140477a8c3c98dd9a092   \n",
       "2       ...          NaN      NaN     NaN  fd5c594e4f240779224d7267b9b2539f   \n",
       "3       ...          NaN      NaN     NaN  29abe733471894cc9c3c0633dcdedeec   \n",
       "4       ...   -76.983481      NaN     NaN  9ddca9d2d90aead4e7a66afaa76e081e   \n",
       "...     ...          ...      ...     ...                               ...   \n",
       "241755  ...          NaN      NaN     NaN  a5cd838bb8713c6b39ae0d686ec6ead0   \n",
       "241756  ...          NaN      NaN     NaN  513e9990dd4ae022fd4916e3047388fd   \n",
       "241757  ...   -77.009387      NaN     NaN  313c83b99b59f1dfbb9dbb5ff6d7342c   \n",
       "241758  ...          NaN      NaN     NaN  fae2092dfbe11077704af74f2dc9be25   \n",
       "241759  ...   -77.031921      NaN     NaN  06a3ec7e78414666dfdf39cf10a0f2bc   \n",
       "\n",
       "                             SUBBLOCKKEY  FATALPASSENGER  \\\n",
       "0       24d30486d134f3655693d7623315c4aa               0   \n",
       "1       1c439f119eb7f63f0ed649d5c8165c1b               0   \n",
       "2       fd5c594e4f240779224d7267b9b2539f               0   \n",
       "3       29abe733471894cc9c3c0633dcdedeec               0   \n",
       "4       9ddca9d2d90aead4e7a66afaa76e081e               0   \n",
       "...                                  ...             ...   \n",
       "241755  480c40626d2f11c7c8b742d8a4bad47b               0   \n",
       "241756  07cc5fac8af49d3e766fd72b35585504               0   \n",
       "241757  313c83b99b59f1dfbb9dbb5ff6d7342c               0   \n",
       "241758  fae2092dfbe11077704af74f2dc9be25               0   \n",
       "241759  06a3ec7e78414666dfdf39cf10a0f2bc               0   \n",
       "\n",
       "        MAJORINJURIESPASSENGER MINORINJURIESPASSENGER  \\\n",
       "0                            0                      0   \n",
       "1                            0                      0   \n",
       "2                            0                      0   \n",
       "3                            0                      0   \n",
       "4                            0                      0   \n",
       "...                        ...                    ...   \n",
       "241755                       0                      0   \n",
       "241756                       0                      0   \n",
       "241757                       0                      8   \n",
       "241758                       0                      0   \n",
       "241759                       0                      0   \n",
       "\n",
       "       UNKNOWNINJURIESPASSENGER                              geometry  \n",
       "0                             0  POINT Z (-77.00168 38.91937 0.00000)  \n",
       "1                             0  POINT Z (-77.02729 38.95081 0.00000)  \n",
       "2                             0  POINT Z (-77.03576 38.93139 0.00000)  \n",
       "3                             0  POINT Z (-77.04880 38.90824 0.00000)  \n",
       "4                             0  POINT Z (-76.98354 38.86468 0.00000)  \n",
       "...                         ...                                   ...  \n",
       "241755                        0  POINT Z (-77.03028 38.90943 0.00000)  \n",
       "241756                        0  POINT Z (-77.08030 38.95922 0.00000)  \n",
       "241757                        0  POINT Z (-77.00986 38.96135 0.00000)  \n",
       "241758                        0  POINT Z (-77.00905 38.91335 0.00000)  \n",
       "241759                        0  POINT Z (-77.03180 38.93061 0.00000)  \n",
       "\n",
       "[241760 rows x 59 columns]"
      ]
     },
     "execution_count": 53,
     "metadata": {},
     "output_type": "execute_result"
    }
   ],
   "source": [
    "crashes_raw"
   ]
  },
  {
   "cell_type": "code",
   "execution_count": 62,
   "metadata": {},
   "outputs": [
    {
     "data": {
      "text/plain": [
       "datetime.datetime(2013, 6, 22, 5, 0, tzinfo=datetime.timezone.utc)"
      ]
     },
     "execution_count": 62,
     "metadata": {},
     "output_type": "execute_result"
    }
   ],
   "source": [
    "datetime.datetime.fromisoformat(crashes_raw.iloc[0]['REPORTDATE'])"
   ]
  },
  {
   "cell_type": "code",
   "execution_count": null,
   "metadata": {},
   "outputs": [],
   "source": []
  }
 ],
 "metadata": {
  "kernelspec": {
   "display_name": "crashbot venv",
   "language": "python",
   "name": "venv"
  },
  "language_info": {
   "codemirror_mode": {
    "name": "ipython",
    "version": 3
   },
   "file_extension": ".py",
   "mimetype": "text/x-python",
   "name": "python",
   "nbconvert_exporter": "python",
   "pygments_lexer": "ipython3",
   "version": "3.7.6"
  }
 },
 "nbformat": 4,
 "nbformat_minor": 4
}
